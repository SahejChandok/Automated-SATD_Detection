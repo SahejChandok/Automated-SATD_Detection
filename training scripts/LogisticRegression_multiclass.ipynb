{
  "cells": [
    {
      "cell_type": "code",
      "execution_count": 6,
      "metadata": {
        "id": "5sZ9i3RgvN0i"
      },
      "outputs": [],
      "source": [
        "import pandas as pd\n",
        "from nltk.tokenize import sent_tokenize, word_tokenize\n",
        "import warnings\n",
        "import gensim\n",
        "from gensim.models import Word2Vec\n",
        "import numpy as np\n",
        "import tensorflow_hub as hub\n",
        "from sklearn.model_selection import train_test_split\n",
        "from sklearn.feature_extraction.text import TfidfVectorizer\n",
        "from sklearn.metrics import classification_report\n",
        "from sklearn.linear_model import LogisticRegression\n",
        "from sklearn.feature_selection import SelectKBest\n",
        "from sklearn.feature_selection import chi2\n",
        "from sklearn.pipeline import Pipeline\n",
        "from sklearn.metrics import confusion_matrix\n",
        "import pickle\n",
        "from sklearn.preprocessing import LabelEncoder\n",
        "\n",
        "warnings.filterwarnings(action = 'ignore')"
      ]
    },
    {
      "cell_type": "code",
      "execution_count": 7,
      "metadata": {
        "id": "OnxmTrfnvqVJ"
      },
      "outputs": [],
      "source": [
        "df=pd.read_csv('input10.csv')"
      ]
    },
    {
      "cell_type": "code",
      "execution_count": 8,
      "metadata": {
        "colab": {
          "base_uri": "https://localhost:8080/",
          "height": 206
        },
        "id": "5c5814vnvvlG",
        "outputId": "4e4f067c-ae3a-490a-b403-6edac713021f"
      },
      "outputs": [
        {
          "data": {
            "text/html": [
              "<div>\n",
              "<style scoped>\n",
              "    .dataframe tbody tr th:only-of-type {\n",
              "        vertical-align: middle;\n",
              "    }\n",
              "\n",
              "    .dataframe tbody tr th {\n",
              "        vertical-align: top;\n",
              "    }\n",
              "\n",
              "    .dataframe thead th {\n",
              "        text-align: right;\n",
              "    }\n",
              "</style>\n",
              "<table border=\"1\" class=\"dataframe\">\n",
              "  <thead>\n",
              "    <tr style=\"text-align: right;\">\n",
              "      <th></th>\n",
              "      <th>comment</th>\n",
              "      <th>class</th>\n",
              "    </tr>\n",
              "  </thead>\n",
              "  <tbody>\n",
              "    <tr>\n",
              "      <th>0</th>\n",
              "      <td>FIXME formatters are not thread safe</td>\n",
              "      <td>DEFECT</td>\n",
              "    </tr>\n",
              "    <tr>\n",
              "      <th>1</th>\n",
              "      <td>XXX  Jon Skeet The comment \"if it hasn't bee...</td>\n",
              "      <td>DEFECT</td>\n",
              "    </tr>\n",
              "    <tr>\n",
              "      <th>2</th>\n",
              "      <td>I hate to admit it, but we don't know what h...</td>\n",
              "      <td>DEFECT</td>\n",
              "    </tr>\n",
              "    <tr>\n",
              "      <th>3</th>\n",
              "      <td>Just a note StarTeam has a status for NEW wh...</td>\n",
              "      <td>DEFECT</td>\n",
              "    </tr>\n",
              "    <tr>\n",
              "      <th>4</th>\n",
              "      <td>the generated classes must not be added in t...</td>\n",
              "      <td>DEFECT</td>\n",
              "    </tr>\n",
              "  </tbody>\n",
              "</table>\n",
              "</div>"
            ],
            "text/plain": [
              "                                             comment   class\n",
              "0               FIXME formatters are not thread safe  DEFECT\n",
              "1    XXX  Jon Skeet The comment \"if it hasn't bee...  DEFECT\n",
              "2    I hate to admit it, but we don't know what h...  DEFECT\n",
              "3    Just a note StarTeam has a status for NEW wh...  DEFECT\n",
              "4    the generated classes must not be added in t...  DEFECT"
            ]
          },
          "execution_count": 8,
          "metadata": {},
          "output_type": "execute_result"
        }
      ],
      "source": [
        "df.head()"
      ]
    },
    {
      "cell_type": "code",
      "execution_count": 9,
      "metadata": {
        "colab": {
          "base_uri": "https://localhost:8080/"
        },
        "id": "zDImMPQtv6F_",
        "outputId": "ae7bcbef-4a36-4629-d251-3f44f2ebe6a4"
      },
      "outputs": [
        {
          "data": {
            "text/plain": [
              "DESIGN            2703\n",
              "IMPLEMENTATION     757\n",
              "DEFECT             472\n",
              "TEST                85\n",
              "DOCUMENTATION       54\n",
              "Name: class, dtype: int64"
            ]
          },
          "execution_count": 9,
          "metadata": {},
          "output_type": "execute_result"
        }
      ],
      "source": [
        "df['class'].value_counts()"
      ]
    },
    {
      "cell_type": "code",
      "execution_count": 10,
      "metadata": {
        "id": "qzoh3Juix7EW"
      },
      "outputs": [
        {
          "name": "stdout",
          "output_type": "stream",
          "text": [
            "\n",
            "Multiclass Label Encodings (in order of digits 0 -> n): \n",
            "['DEFECT', 'DESIGN', 'DOCUMENTATION', 'IMPLEMENTATION', 'TEST']\n",
            "\n",
            " Class weights:\n",
            "{0: 7.625, 1: 0.5061043285238623, 2: 74.38888888888889, 3: 4.3778071334214, 4: 46.89411764705882}\n"
          ]
        }
      ],
      "source": [
        "X = df['comment']\n",
        "Y = df['class']\n",
        "le = LabelEncoder()\n",
        "Y = le.fit_transform(Y)\n",
        "\n",
        "multiclass_labels = []\n",
        "print(\"\\nMulticlass Label Encodings (in order of digits 0 -> n): \")\n",
        "for i in range(0, len(list(set(list(Y))))):\n",
        "    multiclass_labels.append(le.inverse_transform([i])[0])\n",
        "\n",
        "print(multiclass_labels)\n",
        "print(\"\\n Class weights:\")\n",
        "#print(np.unique(Y, return_counts = True))\n",
        "weight_dict = {}\n",
        "counts = np.unique(Y, return_counts = True)[1]\n",
        "total = np.sum(counts)\n",
        "for i in range (0, 5):\n",
        "    weight_dict[i] = (total - counts[i]) / counts[i]\n",
        "\n",
        "print(weight_dict)"
      ]
    },
    {
      "cell_type": "code",
      "execution_count": 12,
      "metadata": {},
      "outputs": [],
      "source": [
        "X_train, X_test, y_train, y_test = train_test_split(X, Y, test_size=0.20)"
      ]
    },
    {
      "cell_type": "code",
      "execution_count": 13,
      "metadata": {
        "colab": {
          "base_uri": "https://localhost:8080/"
        },
        "id": "ItQ8LFUd0i9k",
        "outputId": "4e14dfb3-43fe-46da-b2fe-b9f2b70bca27"
      },
      "outputs": [
        {
          "data": {
            "text/plain": [
              "(3256, 2901)"
            ]
          },
          "execution_count": 13,
          "metadata": {},
          "output_type": "execute_result"
        }
      ],
      "source": [
        "vectorizer = TfidfVectorizer(min_df= 3, stop_words=\"english\", sublinear_tf=True, norm='l2', ngram_range=(1, 2))\n",
        "final_features = vectorizer.fit_transform(X_train).toarray()\n",
        "final_features.shape"
      ]
    },
    {
      "cell_type": "code",
      "execution_count": 15,
      "metadata": {
        "colab": {
          "base_uri": "https://localhost:8080/"
        },
        "id": "u-3wtV1w1inf",
        "outputId": "3013693e-7c20-4fb3-f44f-57e354dbe2c6"
      },
      "outputs": [
        {
          "name": "stdout",
          "output_type": "stream",
          "text": [
            "                precision    recall  f1-score   support\n",
            "\n",
            "        DEFECT   0.472727  0.571429  0.517413        91\n",
            "        DESIGN   0.846154  0.760748  0.801181       535\n",
            " DOCUMENTATION   0.444444  0.857143  0.585366        14\n",
            "IMPLEMENTATION   0.589595  0.662338  0.623853       154\n",
            "          TEST   0.750000  0.857143  0.800000        21\n",
            "\n",
            "      accuracy                       0.725153       815\n",
            "     macro avg   0.620584  0.741760  0.665563       815\n",
            "  weighted avg   0.746602  0.725153  0.732252       815\n",
            "\n",
            "[[ 52  30   0   9   0]\n",
            " [ 49 407  14  61   4]\n",
            " [  0   1  12   1   0]\n",
            " [  8  41   1 102   2]\n",
            " [  1   2   0   0  18]]\n"
          ]
        }
      ],
      "source": [
        "pipeline = Pipeline([('vect', vectorizer),\n",
        "                     ('chi',  SelectKBest(chi2, k=1200)),\n",
        "                     ('clf', LogisticRegression(random_state=42, class_weight='balanced'))])\n",
        "\n",
        "model = pipeline.fit(X_train, y_train)\n",
        "with open('LogisticRegression_Imbalanced.pickle', 'wb') as f:\n",
        "    pickle.dump(model, f)\n",
        "\n",
        "ytest = np.array(y_test)\n",
        "\n",
        "# confusion matrix and classification report(precision, recall, F1-score)\n",
        "print(classification_report(ytest, model.predict(X_test), digits=6, target_names=multiclass_labels))\n",
        "print(confusion_matrix(ytest, model.predict(X_test)))"
      ]
    }
  ],
  "metadata": {
    "colab": {
      "provenance": []
    },
    "kernelspec": {
      "display_name": "Python 3",
      "language": "python",
      "name": "python3"
    },
    "language_info": {
      "codemirror_mode": {
        "name": "ipython",
        "version": 3
      },
      "file_extension": ".py",
      "mimetype": "text/x-python",
      "name": "python",
      "nbconvert_exporter": "python",
      "pygments_lexer": "ipython3",
      "version": "3.10.4"
    },
    "vscode": {
      "interpreter": {
        "hash": "4593b52a31704b5155580280f0f05a500adb36bf97584c7e94e26dfe17ea16d9"
      }
    }
  },
  "nbformat": 4,
  "nbformat_minor": 0
}
