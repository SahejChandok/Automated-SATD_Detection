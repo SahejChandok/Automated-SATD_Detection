{
  "cells": [
    {
      "cell_type": "code",
      "execution_count": 1,
      "metadata": {
        "id": "100qQ50jg3gm"
      },
      "outputs": [],
      "source": [
        "import pandas as pd\n",
        "import numpy as np\n",
        "import matplotlib.pyplot as plt\n",
        "import seaborn as sns\n",
        "from sklearn.model_selection import train_test_split\n",
        "from sklearn.preprocessing import LabelEncoder\n",
        "from keras.models import Model\n",
        "from keras.layers import LSTM, Activation, Dense, Dropout, Input, Embedding, Conv2D, MaxPooling2D, Flatten, MaxPooling1D, Conv1D\n",
        "from keras.optimizers import RMSprop\n",
        "from keras.preprocessing.text import Tokenizer\n",
        "from keras.preprocessing import sequence\n",
        "from keras.utils import to_categorical\n",
        "from keras.callbacks import EarlyStopping\n",
        "import tensorflow as tf\n",
        "\n",
        "import tensorflow_addons as tfa\n",
        "from keras.utils import pad_sequences\n",
        "from sklearn.metrics import classification_report\n",
        "from sklearn.metrics import confusion_matrix"
      ]
    },
    {
      "cell_type": "code",
      "execution_count": 2,
      "metadata": {
        "id": "deniKMj_i2K7"
      },
      "outputs": [],
      "source": [
        "df=pd.read_csv('input9.csv')"
      ]
    },
    {
      "cell_type": "code",
      "execution_count": 3,
      "metadata": {
        "colab": {
          "base_uri": "https://localhost:8080/",
          "height": 206
        },
        "id": "Yx_TXEhUi71x",
        "outputId": "1ed747f9-3520-4c2e-e11d-fd31d83b653d"
      },
      "outputs": [
        {
          "data": {
            "text/html": [
              "<div>\n",
              "<style scoped>\n",
              "    .dataframe tbody tr th:only-of-type {\n",
              "        vertical-align: middle;\n",
              "    }\n",
              "\n",
              "    .dataframe tbody tr th {\n",
              "        vertical-align: top;\n",
              "    }\n",
              "\n",
              "    .dataframe thead th {\n",
              "        text-align: right;\n",
              "    }\n",
              "</style>\n",
              "<table border=\"1\" class=\"dataframe\">\n",
              "  <thead>\n",
              "    <tr style=\"text-align: right;\">\n",
              "      <th></th>\n",
              "      <th>comment</th>\n",
              "      <th>class</th>\n",
              "    </tr>\n",
              "  </thead>\n",
              "  <tbody>\n",
              "    <tr>\n",
              "      <th>0</th>\n",
              "      <td>FIXME formatters are not thread safe</td>\n",
              "      <td>DEFECT</td>\n",
              "    </tr>\n",
              "    <tr>\n",
              "      <th>1</th>\n",
              "      <td>XXX  Jon Skeet The comment \"if it hasn't bee...</td>\n",
              "      <td>DEFECT</td>\n",
              "    </tr>\n",
              "    <tr>\n",
              "      <th>2</th>\n",
              "      <td>I hate to admit it, but we don't know what h...</td>\n",
              "      <td>DEFECT</td>\n",
              "    </tr>\n",
              "    <tr>\n",
              "      <th>3</th>\n",
              "      <td>Just a note StarTeam has a status for NEW wh...</td>\n",
              "      <td>DEFECT</td>\n",
              "    </tr>\n",
              "    <tr>\n",
              "      <th>4</th>\n",
              "      <td>the generated classes must not be added in t...</td>\n",
              "      <td>DEFECT</td>\n",
              "    </tr>\n",
              "  </tbody>\n",
              "</table>\n",
              "</div>"
            ],
            "text/plain": [
              "                                             comment   class\n",
              "0               FIXME formatters are not thread safe  DEFECT\n",
              "1    XXX  Jon Skeet The comment \"if it hasn't bee...  DEFECT\n",
              "2    I hate to admit it, but we don't know what h...  DEFECT\n",
              "3    Just a note StarTeam has a status for NEW wh...  DEFECT\n",
              "4    the generated classes must not be added in t...  DEFECT"
            ]
          },
          "execution_count": 3,
          "metadata": {},
          "output_type": "execute_result"
        }
      ],
      "source": [
        "df.head()"
      ]
    },
    {
      "cell_type": "code",
      "execution_count": 4,
      "metadata": {
        "colab": {
          "base_uri": "https://localhost:8080/"
        },
        "id": "CXQ_hftEi-Db",
        "outputId": "7593243c-7ec5-4561-a87a-b1db15b1b1b0"
      },
      "outputs": [
        {
          "data": {
            "text/plain": [
              "WITHOUT_CLASSIFICATION    58204\n",
              "DESIGN                     2703\n",
              "IMPLEMENTATION              757\n",
              "DEFECT                      472\n",
              "TEST                         85\n",
              "DOCUMENTATION                54\n",
              "Name: class, dtype: int64"
            ]
          },
          "execution_count": 4,
          "metadata": {},
          "output_type": "execute_result"
        }
      ],
      "source": [
        "df['class'].value_counts()"
      ]
    },
    {
      "cell_type": "code",
      "execution_count": 5,
      "metadata": {
        "id": "pHFkALFtjROK"
      },
      "outputs": [],
      "source": [
        "df['class']=df['class'].apply(lambda x: 0 if x=='WITHOUT_CLASSIFICATION' else 1)"
      ]
    },
    {
      "cell_type": "code",
      "execution_count": 6,
      "metadata": {
        "colab": {
          "base_uri": "https://localhost:8080/"
        },
        "id": "m1ejQc4AjgC9",
        "outputId": "17901db1-3079-4586-e0b2-dc6af800d63e"
      },
      "outputs": [
        {
          "data": {
            "text/plain": [
              "0    58204\n",
              "1     4071\n",
              "Name: class, dtype: int64"
            ]
          },
          "execution_count": 6,
          "metadata": {},
          "output_type": "execute_result"
        }
      ],
      "source": [
        "df['class'].value_counts()"
      ]
    },
    {
      "cell_type": "code",
      "execution_count": 8,
      "metadata": {},
      "outputs": [
        {
          "name": "stdout",
          "output_type": "stream",
          "text": [
            "{0: 1.0, 1: 14.29722426922132}\n"
          ]
        }
      ],
      "source": [
        "counts = df['class'].value_counts()\n",
        "\n",
        "weight_dict = {0: 1.0, 1: counts[0] / counts[1]}\n",
        "\n",
        "print(weight_dict)"
      ]
    },
    {
      "cell_type": "code",
      "execution_count": 9,
      "metadata": {
        "id": "yyhIkZdjjtjk"
      },
      "outputs": [],
      "source": [
        "X = df['comment']\n",
        "Y = df['class']\n",
        "le = LabelEncoder()\n",
        "Y = le.fit_transform(Y)\n",
        "Y = Y.reshape(-1,1)"
      ]
    },
    {
      "cell_type": "code",
      "execution_count": 10,
      "metadata": {
        "id": "uvDmONGxpMq6"
      },
      "outputs": [],
      "source": [
        "X_train,X_test,Y_train,Y_test = train_test_split(X,Y,test_size=0.20, stratify=Y, random_state=42)\n",
        "\n",
        "max_words = 10000\n",
        "max_len = 250\n",
        "tok = Tokenizer(num_words=max_words)\n",
        "tok.fit_on_texts(X_train)\n",
        "train_sequences = tok.texts_to_sequences(X_train)\n",
        "train_sequences_matrix = pad_sequences(train_sequences,maxlen=max_len)\n",
        "\n",
        "test_sequences = tok.texts_to_sequences(X_test)\n",
        "test_sequences_matrix = pad_sequences(test_sequences,maxlen=max_len)"
      ]
    },
    {
      "cell_type": "code",
      "execution_count": 11,
      "metadata": {},
      "outputs": [
        {
          "name": "stdout",
          "output_type": "stream",
          "text": [
            "250\n"
          ]
        }
      ],
      "source": [
        "print(len(train_sequences_matrix[0]))"
      ]
    },
    {
      "cell_type": "code",
      "execution_count": 12,
      "metadata": {
        "id": "1JeBj-rLqGyd"
      },
      "outputs": [],
      "source": [
        "def CNN():\n",
        "    cnn = tf.keras.Sequential()\n",
        "    cnn.add(Input(name='inputs',shape=[max_len]))\n",
        "    cnn.add(Embedding(max_words,50,input_length=max_len))\n",
        "    cnn.add(Conv1D(128, kernel_size=3, activation='relu', padding=\"same\"))\n",
        "    cnn.add(MaxPooling1D(pool_size=2))\n",
        "    cnn.add(Conv1D(256, kernel_size=3, activation='relu', padding=\"same\"))\n",
        "    cnn.add(MaxPooling1D(pool_size=2))\n",
        "    cnn.add(Conv1D(512, kernel_size=3, activation='relu', padding=\"same\"))\n",
        "    cnn.add(MaxPooling1D(pool_size=2))\n",
        "\n",
        "    cnn.add(Flatten())\n",
        "    cnn.add(Dense(256, activation ='relu'))\n",
        "    cnn.add(Dense(64, activation ='relu'))\n",
        "    cnn.add(Dense(1, activation='sigmoid'))\n",
        "\n",
        "    return cnn"
      ]
    },
    {
      "cell_type": "code",
      "execution_count": 13,
      "metadata": {
        "colab": {
          "base_uri": "https://localhost:8080/"
        },
        "id": "wGN-X_VJqR6d",
        "outputId": "5c4a7466-789f-47eb-d636-05a049efc0e3"
      },
      "outputs": [
        {
          "name": "stdout",
          "output_type": "stream",
          "text": [
            "Model: \"sequential\"\n",
            "_________________________________________________________________\n",
            " Layer (type)                Output Shape              Param #   \n",
            "=================================================================\n",
            " embedding (Embedding)       (None, 250, 50)           500000    \n",
            "                                                                 \n",
            " conv1d (Conv1D)             (None, 250, 128)          19328     \n",
            "                                                                 \n",
            " max_pooling1d (MaxPooling1D  (None, 125, 128)         0         \n",
            " )                                                               \n",
            "                                                                 \n",
            " conv1d_1 (Conv1D)           (None, 125, 256)          98560     \n",
            "                                                                 \n",
            " max_pooling1d_1 (MaxPooling  (None, 62, 256)          0         \n",
            " 1D)                                                             \n",
            "                                                                 \n",
            " conv1d_2 (Conv1D)           (None, 62, 512)           393728    \n",
            "                                                                 \n",
            " max_pooling1d_2 (MaxPooling  (None, 31, 512)          0         \n",
            " 1D)                                                             \n",
            "                                                                 \n",
            " flatten (Flatten)           (None, 15872)             0         \n",
            "                                                                 \n",
            " dense (Dense)               (None, 256)               4063488   \n",
            "                                                                 \n",
            " dense_1 (Dense)             (None, 64)                16448     \n",
            "                                                                 \n",
            " dense_2 (Dense)             (None, 1)                 65        \n",
            "                                                                 \n",
            "=================================================================\n",
            "Total params: 5,091,617\n",
            "Trainable params: 5,091,617\n",
            "Non-trainable params: 0\n",
            "_________________________________________________________________\n"
          ]
        }
      ],
      "source": [
        "model = CNN()\n",
        "model.summary()\n",
        "opt = tf.keras.optimizers.Adadelta(learning_rate=0.1)\n",
        "model.compile(loss='binary_crossentropy',optimizer=opt,metrics=['accuracy'])"
      ]
    },
    {
      "cell_type": "code",
      "execution_count": 14,
      "metadata": {
        "colab": {
          "base_uri": "https://localhost:8080/"
        },
        "id": "e2DKhNZoqYJM",
        "outputId": "38044ab8-4a91-4202-b6b7-ed74fdf837bc"
      },
      "outputs": [
        {
          "name": "stdout",
          "output_type": "stream",
          "text": [
            "Epoch 1/50\n",
            "292/292 [==============================] - 12s 25ms/step - loss: 0.9948 - accuracy: 0.7266 - val_loss: 0.1667 - val_accuracy: 0.9656 - lr: 0.1000\n",
            "Epoch 2/50\n",
            "292/292 [==============================] - 6s 22ms/step - loss: 0.4874 - accuracy: 0.9262 - val_loss: 0.2751 - val_accuracy: 0.9088 - lr: 0.1000\n",
            "Epoch 3/50\n",
            "292/292 [==============================] - 6s 22ms/step - loss: 0.3786 - accuracy: 0.9352 - val_loss: 0.1911 - val_accuracy: 0.9358 - lr: 0.1000\n",
            "Epoch 4/50\n",
            "292/292 [==============================] - 6s 22ms/step - loss: 0.3100 - accuracy: 0.9462 - val_loss: 0.3086 - val_accuracy: 0.8792 - lr: 0.1000\n",
            "Epoch 5/50\n",
            "292/292 [==============================] - 7s 23ms/step - loss: 0.2677 - accuracy: 0.9535 - val_loss: 0.1256 - val_accuracy: 0.9589 - lr: 0.1000\n",
            "Epoch 6/50\n",
            "292/292 [==============================] - 6s 22ms/step - loss: 0.2308 - accuracy: 0.9592 - val_loss: 0.1404 - val_accuracy: 0.9531 - lr: 0.1000\n",
            "Epoch 7/50\n",
            "292/292 [==============================] - 7s 23ms/step - loss: 0.2035 - accuracy: 0.9647 - val_loss: 0.1051 - val_accuracy: 0.9676 - lr: 0.1000\n",
            "Epoch 8/50\n",
            "292/292 [==============================] - 7s 23ms/step - loss: 0.1835 - accuracy: 0.9680 - val_loss: 0.1091 - val_accuracy: 0.9644 - lr: 0.1000\n",
            "Epoch 9/50\n",
            "292/292 [==============================] - 7s 23ms/step - loss: 0.1637 - accuracy: 0.9705 - val_loss: 0.1018 - val_accuracy: 0.9676 - lr: 0.1000\n",
            "Epoch 10/50\n",
            "292/292 [==============================] - 7s 23ms/step - loss: 0.1473 - accuracy: 0.9725 - val_loss: 0.1005 - val_accuracy: 0.9684 - lr: 0.1000\n",
            "Epoch 11/50\n",
            "292/292 [==============================] - 7s 22ms/step - loss: 0.1335 - accuracy: 0.9753 - val_loss: 0.1042 - val_accuracy: 0.9680 - lr: 0.1000\n",
            "Epoch 12/50\n",
            "292/292 [==============================] - 7s 23ms/step - loss: 0.1206 - accuracy: 0.9779 - val_loss: 0.0998 - val_accuracy: 0.9713 - lr: 0.1000\n",
            "Epoch 13/50\n",
            "292/292 [==============================] - 7s 23ms/step - loss: 0.1100 - accuracy: 0.9795 - val_loss: 0.0954 - val_accuracy: 0.9719 - lr: 0.1000\n",
            "Epoch 14/50\n",
            "292/292 [==============================] - 6s 22ms/step - loss: 0.1025 - accuracy: 0.9814 - val_loss: 0.1053 - val_accuracy: 0.9685 - lr: 0.1000\n",
            "Epoch 15/50\n",
            "292/292 [==============================] - 6s 22ms/step - loss: 0.0936 - accuracy: 0.9833 - val_loss: 0.1047 - val_accuracy: 0.9692 - lr: 0.1000\n",
            "Epoch 16/50\n",
            "292/292 [==============================] - 6s 22ms/step - loss: 0.0860 - accuracy: 0.9843 - val_loss: 0.0977 - val_accuracy: 0.9732 - lr: 0.1000\n",
            "Epoch 17/50\n",
            "292/292 [==============================] - 7s 22ms/step - loss: 0.0822 - accuracy: 0.9851 - val_loss: 0.1036 - val_accuracy: 0.9714 - lr: 0.1000\n",
            "Epoch 18/50\n",
            "292/292 [==============================] - 6s 22ms/step - loss: 0.0772 - accuracy: 0.9861 - val_loss: 0.0979 - val_accuracy: 0.9734 - lr: 0.1000\n",
            "Epoch 19/50\n",
            "292/292 [==============================] - 6s 22ms/step - loss: 0.0708 - accuracy: 0.9875 - val_loss: 0.0994 - val_accuracy: 0.9746 - lr: 0.0500\n",
            "Epoch 20/50\n",
            "292/292 [==============================] - 6s 22ms/step - loss: 0.0689 - accuracy: 0.9878 - val_loss: 0.1034 - val_accuracy: 0.9733 - lr: 0.0500\n",
            "Epoch 21/50\n",
            "292/292 [==============================] - 7s 22ms/step - loss: 0.0673 - accuracy: 0.9883 - val_loss: 0.1044 - val_accuracy: 0.9741 - lr: 0.0500\n",
            "Epoch 22/50\n",
            "292/292 [==============================] - 7s 22ms/step - loss: 0.0658 - accuracy: 0.9887 - val_loss: 0.1033 - val_accuracy: 0.9741 - lr: 0.0500\n",
            "Epoch 23/50\n",
            "292/292 [==============================] - 7s 22ms/step - loss: 0.0645 - accuracy: 0.9888 - val_loss: 0.1047 - val_accuracy: 0.9727 - lr: 0.0500\n",
            "Epoch 24/50\n",
            "292/292 [==============================] - 7s 23ms/step - loss: 0.0629 - accuracy: 0.9893 - val_loss: 0.1123 - val_accuracy: 0.9697 - lr: 0.0250\n",
            "Epoch 25/50\n",
            "292/292 [==============================] - 7s 22ms/step - loss: 0.0620 - accuracy: 0.9893 - val_loss: 0.1032 - val_accuracy: 0.9748 - lr: 0.0250\n",
            "Epoch 26/50\n",
            "292/292 [==============================] - 7s 22ms/step - loss: 0.0618 - accuracy: 0.9895 - val_loss: 0.1024 - val_accuracy: 0.9755 - lr: 0.0250\n",
            "Epoch 27/50\n",
            "292/292 [==============================] - 7s 22ms/step - loss: 0.0613 - accuracy: 0.9895 - val_loss: 0.1053 - val_accuracy: 0.9749 - lr: 0.0250\n",
            "Epoch 28/50\n",
            "292/292 [==============================] - 7s 22ms/step - loss: 0.0607 - accuracy: 0.9895 - val_loss: 0.1069 - val_accuracy: 0.9731 - lr: 0.0250\n",
            "Epoch 29/50\n",
            "292/292 [==============================] - 7s 22ms/step - loss: 0.0598 - accuracy: 0.9896 - val_loss: 0.1045 - val_accuracy: 0.9749 - lr: 0.0125\n",
            "Epoch 30/50\n",
            "292/292 [==============================] - 7s 22ms/step - loss: 0.0596 - accuracy: 0.9897 - val_loss: 0.1040 - val_accuracy: 0.9753 - lr: 0.0125\n",
            "Epoch 31/50\n",
            "292/292 [==============================] - 7s 22ms/step - loss: 0.0595 - accuracy: 0.9897 - val_loss: 0.1048 - val_accuracy: 0.9751 - lr: 0.0125\n",
            "Epoch 32/50\n",
            "292/292 [==============================] - 7s 22ms/step - loss: 0.0593 - accuracy: 0.9898 - val_loss: 0.1051 - val_accuracy: 0.9751 - lr: 0.0125\n",
            "Epoch 33/50\n",
            "292/292 [==============================] - 6s 22ms/step - loss: 0.0588 - accuracy: 0.9898 - val_loss: 0.1046 - val_accuracy: 0.9761 - lr: 0.0125\n",
            "Epoch 34/50\n",
            "292/292 [==============================] - 6s 22ms/step - loss: 0.0587 - accuracy: 0.9899 - val_loss: 0.1046 - val_accuracy: 0.9755 - lr: 0.0063\n",
            "Epoch 35/50\n",
            "292/292 [==============================] - 7s 22ms/step - loss: 0.0585 - accuracy: 0.9899 - val_loss: 0.1048 - val_accuracy: 0.9756 - lr: 0.0063\n",
            "Epoch 36/50\n",
            "292/292 [==============================] - 6s 22ms/step - loss: 0.0585 - accuracy: 0.9899 - val_loss: 0.1051 - val_accuracy: 0.9755 - lr: 0.0063\n",
            "Epoch 37/50\n",
            "292/292 [==============================] - 7s 22ms/step - loss: 0.0584 - accuracy: 0.9899 - val_loss: 0.1060 - val_accuracy: 0.9751 - lr: 0.0063\n",
            "Epoch 38/50\n",
            "292/292 [==============================] - 7s 22ms/step - loss: 0.0583 - accuracy: 0.9899 - val_loss: 0.1056 - val_accuracy: 0.9755 - lr: 0.0063\n",
            "Epoch 39/50\n",
            "292/292 [==============================] - 6s 22ms/step - loss: 0.0581 - accuracy: 0.9899 - val_loss: 0.1057 - val_accuracy: 0.9755 - lr: 0.0031\n",
            "Epoch 40/50\n",
            "292/292 [==============================] - 6s 22ms/step - loss: 0.0581 - accuracy: 0.9900 - val_loss: 0.1050 - val_accuracy: 0.9757 - lr: 0.0031\n",
            "Epoch 41/50\n",
            "292/292 [==============================] - 7s 22ms/step - loss: 0.0580 - accuracy: 0.9900 - val_loss: 0.1057 - val_accuracy: 0.9755 - lr: 0.0031\n",
            "Epoch 42/50\n",
            "292/292 [==============================] - 6s 22ms/step - loss: 0.0580 - accuracy: 0.9900 - val_loss: 0.1059 - val_accuracy: 0.9756 - lr: 0.0031\n",
            "Epoch 43/50\n",
            "292/292 [==============================] - 6s 22ms/step - loss: 0.0579 - accuracy: 0.9900 - val_loss: 0.1051 - val_accuracy: 0.9758 - lr: 0.0031\n",
            "Epoch 44/50\n",
            "292/292 [==============================] - 6s 22ms/step - loss: 0.0579 - accuracy: 0.9900 - val_loss: 0.1057 - val_accuracy: 0.9757 - lr: 0.0016\n",
            "Epoch 45/50\n",
            "292/292 [==============================] - 7s 22ms/step - loss: 0.0578 - accuracy: 0.9900 - val_loss: 0.1053 - val_accuracy: 0.9757 - lr: 0.0016\n",
            "Epoch 46/50\n",
            "292/292 [==============================] - 6s 22ms/step - loss: 0.0578 - accuracy: 0.9900 - val_loss: 0.1054 - val_accuracy: 0.9758 - lr: 0.0016\n",
            "Epoch 47/50\n",
            "292/292 [==============================] - 6s 22ms/step - loss: 0.0578 - accuracy: 0.9900 - val_loss: 0.1056 - val_accuracy: 0.9758 - lr: 0.0016\n",
            "Epoch 48/50\n",
            "292/292 [==============================] - 6s 22ms/step - loss: 0.0578 - accuracy: 0.9900 - val_loss: 0.1056 - val_accuracy: 0.9758 - lr: 0.0016\n",
            "Epoch 49/50\n",
            "292/292 [==============================] - 7s 22ms/step - loss: 0.0577 - accuracy: 0.9900 - val_loss: 0.1057 - val_accuracy: 0.9758 - lr: 7.8125e-04\n",
            "Epoch 50/50\n",
            "292/292 [==============================] - 6s 22ms/step - loss: 0.0577 - accuracy: 0.9900 - val_loss: 0.1057 - val_accuracy: 0.9758 - lr: 7.8125e-04\n"
          ]
        },
        {
          "data": {
            "text/plain": [
              "<tensorflow.python.checkpoint.checkpoint.CheckpointLoadStatus at 0x25d256b75b0>"
            ]
          },
          "execution_count": 14,
          "metadata": {},
          "output_type": "execute_result"
        }
      ],
      "source": [
        "checkpoint_filepath = './checkpoint'\n",
        "model_checkpoint_callback = tf.keras.callbacks.ModelCheckpoint(\n",
        "                filepath=checkpoint_filepath,\n",
        "                save_weights_only=True,\n",
        "                monitor='val_loss',\n",
        "                mode='min',\n",
        "                save_best_only=True\n",
        ")\n",
        "\n",
        "reduce_lr = tf.keras.callbacks.ReduceLROnPlateau(monitor='val_loss', factor=0.5,\n",
        "                              patience=5, min_lr=0.000001)\n",
        "\n",
        "model.fit(train_sequences_matrix,Y_train,batch_size=128,epochs=50,validation_split=0.25, callbacks=[model_checkpoint_callback,reduce_lr], class_weight=weight_dict)\n",
        "\n",
        "model.load_weights(checkpoint_filepath)"
      ]
    },
    {
      "cell_type": "code",
      "execution_count": 15,
      "metadata": {},
      "outputs": [],
      "source": [
        "model.save(\"CNN_imbalanced_weighted.h5\")"
      ]
    },
    {
      "cell_type": "code",
      "execution_count": 16,
      "metadata": {
        "colab": {
          "base_uri": "https://localhost:8080/"
        },
        "id": "oJ_091N4rPK8",
        "outputId": "a5e2c54c-3efd-48e7-e0f0-8d8f3bf7b3d2"
      },
      "outputs": [
        {
          "name": "stdout",
          "output_type": "stream",
          "text": [
            "390/390 [==============================] - 2s 6ms/step - loss: 0.1052 - accuracy: 0.9694\n"
          ]
        }
      ],
      "source": [
        "accr = model.evaluate(test_sequences_matrix,Y_test)"
      ]
    },
    {
      "cell_type": "code",
      "execution_count": 17,
      "metadata": {
        "colab": {
          "base_uri": "https://localhost:8080/"
        },
        "id": "LOwIyZAasKhk",
        "outputId": "131c1594-147d-4f10-abbe-d4453bb2ba32"
      },
      "outputs": [
        {
          "name": "stdout",
          "output_type": "stream",
          "text": [
            "Test set\n",
            "  Loss: 0.105\n",
            "  Accuracy: 0.969\n"
          ]
        }
      ],
      "source": [
        "print('Test set\\n  Loss: {:0.3f}\\n  Accuracy: {:0.3f}'.format(accr[0],accr[1]))"
      ]
    },
    {
      "cell_type": "code",
      "execution_count": 18,
      "metadata": {},
      "outputs": [
        {
          "name": "stdout",
          "output_type": "stream",
          "text": [
            "390/390 [==============================] - 2s 5ms/step\n"
          ]
        }
      ],
      "source": [
        "y_pred = model.predict(test_sequences_matrix)"
      ]
    },
    {
      "cell_type": "code",
      "execution_count": 19,
      "metadata": {},
      "outputs": [],
      "source": [
        "y_pred = [1 if x >= 0.5 else 0 for x in y_pred]"
      ]
    },
    {
      "cell_type": "code",
      "execution_count": 20,
      "metadata": {},
      "outputs": [
        {
          "name": "stdout",
          "output_type": "stream",
          "text": [
            "              precision    recall  f1-score   support\n",
            "\n",
            "           0   0.991531  0.975603  0.983503     11641\n",
            "           1   0.716284  0.880835  0.790083       814\n",
            "\n",
            "    accuracy                       0.969410     12455\n",
            "   macro avg   0.853908  0.928219  0.886793     12455\n",
            "weighted avg   0.973542  0.969410  0.970862     12455\n",
            "\n"
          ]
        }
      ],
      "source": [
        "print(classification_report(Y_test, y_pred, digits=6))"
      ]
    }
  ],
  "metadata": {
    "colab": {
      "provenance": []
    },
    "kernelspec": {
      "display_name": "Python 3",
      "language": "python",
      "name": "python3"
    },
    "language_info": {
      "codemirror_mode": {
        "name": "ipython",
        "version": 3
      },
      "file_extension": ".py",
      "mimetype": "text/x-python",
      "name": "python",
      "nbconvert_exporter": "python",
      "pygments_lexer": "ipython3",
      "version": "3.10.4"
    },
    "vscode": {
      "interpreter": {
        "hash": "4593b52a31704b5155580280f0f05a500adb36bf97584c7e94e26dfe17ea16d9"
      }
    }
  },
  "nbformat": 4,
  "nbformat_minor": 0
}
