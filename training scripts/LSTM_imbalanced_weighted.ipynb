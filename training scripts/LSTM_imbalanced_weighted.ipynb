{
  "cells": [
    {
      "cell_type": "code",
      "execution_count": 9,
      "metadata": {
        "id": "100qQ50jg3gm"
      },
      "outputs": [],
      "source": [
        "import pandas as pd\n",
        "import numpy as np\n",
        "import matplotlib.pyplot as plt\n",
        "import seaborn as sns\n",
        "from sklearn.model_selection import train_test_split\n",
        "from sklearn.preprocessing import LabelEncoder\n",
        "from keras.models import Model\n",
        "from keras.layers import LSTM, Activation, Dense, Dropout, Input, Embedding\n",
        "from keras.optimizers import RMSprop\n",
        "from keras.preprocessing.text import Tokenizer\n",
        "from keras.preprocessing import sequence\n",
        "from keras.utils import to_categorical\n",
        "from keras.callbacks import EarlyStopping\n",
        "import tensorflow as tf\n",
        "\n",
        "import tensorflow_addons as tfa\n",
        "from sklearn.metrics import classification_report\n",
        "from sklearn.metrics import confusion_matrix\n",
        "\n",
        "from keras.utils import pad_sequences"
      ]
    },
    {
      "cell_type": "code",
      "execution_count": 10,
      "metadata": {
        "id": "deniKMj_i2K7"
      },
      "outputs": [],
      "source": [
        "df=pd.read_csv('input9.csv')"
      ]
    },
    {
      "cell_type": "code",
      "execution_count": 11,
      "metadata": {
        "colab": {
          "base_uri": "https://localhost:8080/",
          "height": 206
        },
        "id": "Yx_TXEhUi71x",
        "outputId": "1ed747f9-3520-4c2e-e11d-fd31d83b653d"
      },
      "outputs": [
        {
          "data": {
            "text/html": [
              "<div>\n",
              "<style scoped>\n",
              "    .dataframe tbody tr th:only-of-type {\n",
              "        vertical-align: middle;\n",
              "    }\n",
              "\n",
              "    .dataframe tbody tr th {\n",
              "        vertical-align: top;\n",
              "    }\n",
              "\n",
              "    .dataframe thead th {\n",
              "        text-align: right;\n",
              "    }\n",
              "</style>\n",
              "<table border=\"1\" class=\"dataframe\">\n",
              "  <thead>\n",
              "    <tr style=\"text-align: right;\">\n",
              "      <th></th>\n",
              "      <th>comment</th>\n",
              "      <th>class</th>\n",
              "    </tr>\n",
              "  </thead>\n",
              "  <tbody>\n",
              "    <tr>\n",
              "      <th>0</th>\n",
              "      <td>FIXME formatters are not thread safe</td>\n",
              "      <td>DEFECT</td>\n",
              "    </tr>\n",
              "    <tr>\n",
              "      <th>1</th>\n",
              "      <td>XXX  Jon Skeet The comment \"if it hasn't bee...</td>\n",
              "      <td>DEFECT</td>\n",
              "    </tr>\n",
              "    <tr>\n",
              "      <th>2</th>\n",
              "      <td>I hate to admit it, but we don't know what h...</td>\n",
              "      <td>DEFECT</td>\n",
              "    </tr>\n",
              "    <tr>\n",
              "      <th>3</th>\n",
              "      <td>Just a note StarTeam has a status for NEW wh...</td>\n",
              "      <td>DEFECT</td>\n",
              "    </tr>\n",
              "    <tr>\n",
              "      <th>4</th>\n",
              "      <td>the generated classes must not be added in t...</td>\n",
              "      <td>DEFECT</td>\n",
              "    </tr>\n",
              "  </tbody>\n",
              "</table>\n",
              "</div>"
            ],
            "text/plain": [
              "                                             comment   class\n",
              "0               FIXME formatters are not thread safe  DEFECT\n",
              "1    XXX  Jon Skeet The comment \"if it hasn't bee...  DEFECT\n",
              "2    I hate to admit it, but we don't know what h...  DEFECT\n",
              "3    Just a note StarTeam has a status for NEW wh...  DEFECT\n",
              "4    the generated classes must not be added in t...  DEFECT"
            ]
          },
          "execution_count": 11,
          "metadata": {},
          "output_type": "execute_result"
        }
      ],
      "source": [
        "df.head()"
      ]
    },
    {
      "cell_type": "code",
      "execution_count": 12,
      "metadata": {
        "colab": {
          "base_uri": "https://localhost:8080/"
        },
        "id": "CXQ_hftEi-Db",
        "outputId": "7593243c-7ec5-4561-a87a-b1db15b1b1b0"
      },
      "outputs": [
        {
          "data": {
            "text/plain": [
              "WITHOUT_CLASSIFICATION    58204\n",
              "DESIGN                     2703\n",
              "IMPLEMENTATION              757\n",
              "DEFECT                      472\n",
              "TEST                         85\n",
              "DOCUMENTATION                54\n",
              "Name: class, dtype: int64"
            ]
          },
          "execution_count": 12,
          "metadata": {},
          "output_type": "execute_result"
        }
      ],
      "source": [
        "df['class'].value_counts()"
      ]
    },
    {
      "cell_type": "code",
      "execution_count": 13,
      "metadata": {
        "id": "pHFkALFtjROK"
      },
      "outputs": [],
      "source": [
        "df['class']=df['class'].apply(lambda x: 0 if x=='WITHOUT_CLASSIFICATION' else 1)"
      ]
    },
    {
      "cell_type": "code",
      "execution_count": 14,
      "metadata": {
        "colab": {
          "base_uri": "https://localhost:8080/"
        },
        "id": "m1ejQc4AjgC9",
        "outputId": "17901db1-3079-4586-e0b2-dc6af800d63e"
      },
      "outputs": [
        {
          "data": {
            "text/plain": [
              "0    58204\n",
              "1     4071\n",
              "Name: class, dtype: int64"
            ]
          },
          "execution_count": 14,
          "metadata": {},
          "output_type": "execute_result"
        }
      ],
      "source": [
        "df['class'].value_counts()"
      ]
    },
    {
      "cell_type": "code",
      "execution_count": 15,
      "metadata": {},
      "outputs": [
        {
          "name": "stdout",
          "output_type": "stream",
          "text": [
            "{0: 1.0, 1: 14.29722426922132}\n"
          ]
        }
      ],
      "source": [
        "counts = df['class'].value_counts()\n",
        "\n",
        "weight_dict = {0: 1.0, 1: counts[0] / counts[1]}\n",
        "\n",
        "print(weight_dict)"
      ]
    },
    {
      "cell_type": "code",
      "execution_count": 16,
      "metadata": {
        "id": "yyhIkZdjjtjk"
      },
      "outputs": [],
      "source": [
        "X = df['comment']\n",
        "Y = df['class']\n",
        "le = LabelEncoder()\n",
        "Y = le.fit_transform(Y)\n",
        "Y = Y.reshape(-1,1)"
      ]
    },
    {
      "cell_type": "code",
      "execution_count": 17,
      "metadata": {
        "id": "uvDmONGxpMq6"
      },
      "outputs": [],
      "source": [
        "X_train,X_test,Y_train,Y_test = train_test_split(X,Y,test_size=0.20, stratify = Y, random_state=42)"
      ]
    },
    {
      "cell_type": "code",
      "execution_count": 18,
      "metadata": {
        "id": "d-eb-847pNil"
      },
      "outputs": [],
      "source": [
        "max_words = 10000\n",
        "max_len = 250\n",
        "tok = Tokenizer(num_words=max_words)\n",
        "tok.fit_on_texts(X_train)\n",
        "sequences = tok.texts_to_sequences(X_train)\n",
        "sequences_matrix = pad_sequences(sequences,maxlen=max_len)\n",
        "\n",
        "test_sequences = tok.texts_to_sequences(X_test)\n",
        "test_sequences_matrix = pad_sequences(test_sequences,maxlen=max_len)"
      ]
    },
    {
      "cell_type": "code",
      "execution_count": 19,
      "metadata": {
        "id": "1JeBj-rLqGyd"
      },
      "outputs": [],
      "source": [
        "def RNN():\n",
        "    inputs = Input(name='inputs',shape=[max_len])\n",
        "    layer = Embedding(max_words,50,input_length=max_len)(inputs)\n",
        "    layer = LSTM(128)(layer)\n",
        "    layer = Dense(256,name='FC1')(layer)\n",
        "    layer = Activation('relu')(layer)\n",
        "    layer = Dropout(0.5)(layer)\n",
        "    layer = Dense(1,name='out_layer')(layer)\n",
        "    layer = Activation('sigmoid')(layer)\n",
        "    model = Model(inputs=inputs,outputs=layer)\n",
        "    return model"
      ]
    },
    {
      "cell_type": "code",
      "execution_count": 20,
      "metadata": {
        "colab": {
          "base_uri": "https://localhost:8080/"
        },
        "id": "wGN-X_VJqR6d",
        "outputId": "5c4a7466-789f-47eb-d636-05a049efc0e3"
      },
      "outputs": [
        {
          "name": "stdout",
          "output_type": "stream",
          "text": [
            "Model: \"model\"\n",
            "_________________________________________________________________\n",
            " Layer (type)                Output Shape              Param #   \n",
            "=================================================================\n",
            " inputs (InputLayer)         [(None, 250)]             0         \n",
            "                                                                 \n",
            " embedding (Embedding)       (None, 250, 50)           500000    \n",
            "                                                                 \n",
            " lstm (LSTM)                 (None, 128)               91648     \n",
            "                                                                 \n",
            " FC1 (Dense)                 (None, 256)               33024     \n",
            "                                                                 \n",
            " activation (Activation)     (None, 256)               0         \n",
            "                                                                 \n",
            " dropout (Dropout)           (None, 256)               0         \n",
            "                                                                 \n",
            " out_layer (Dense)           (None, 1)                 257       \n",
            "                                                                 \n",
            " activation_1 (Activation)   (None, 1)                 0         \n",
            "                                                                 \n",
            "=================================================================\n",
            "Total params: 624,929\n",
            "Trainable params: 624,929\n",
            "Non-trainable params: 0\n",
            "_________________________________________________________________\n"
          ]
        }
      ],
      "source": [
        "model = RNN()\n",
        "model.summary()\n",
        "opt = tfa.optimizers.AdaBelief(learning_rate=5e-3)\n",
        "model.compile(loss='binary_crossentropy',optimizer=opt,metrics=['accuracy'])"
      ]
    },
    {
      "cell_type": "code",
      "execution_count": 21,
      "metadata": {
        "colab": {
          "base_uri": "https://localhost:8080/"
        },
        "id": "e2DKhNZoqYJM",
        "outputId": "38044ab8-4a91-4202-b6b7-ed74fdf837bc"
      },
      "outputs": [
        {
          "name": "stdout",
          "output_type": "stream",
          "text": [
            "Epoch 1/50\n",
            "292/292 [==============================] - 15s 39ms/step - loss: 1.1437 - accuracy: 0.7015 - val_loss: 0.6510 - val_accuracy: 0.6704 - lr: 0.0050\n",
            "Epoch 2/50\n",
            "292/292 [==============================] - 11s 37ms/step - loss: 0.8770 - accuracy: 0.8053 - val_loss: 0.5469 - val_accuracy: 0.9374 - lr: 0.0050\n",
            "Epoch 3/50\n",
            "292/292 [==============================] - 11s 37ms/step - loss: 0.4284 - accuracy: 0.9176 - val_loss: 0.1912 - val_accuracy: 0.9236 - lr: 0.0050\n",
            "Epoch 4/50\n",
            "292/292 [==============================] - 11s 37ms/step - loss: 0.2882 - accuracy: 0.9447 - val_loss: 0.1117 - val_accuracy: 0.9644 - lr: 0.0050\n",
            "Epoch 5/50\n",
            "292/292 [==============================] - 11s 37ms/step - loss: 0.2410 - accuracy: 0.9500 - val_loss: 0.1305 - val_accuracy: 0.9542 - lr: 0.0050\n",
            "Epoch 6/50\n",
            "292/292 [==============================] - 11s 37ms/step - loss: 0.4128 - accuracy: 0.9242 - val_loss: 0.1670 - val_accuracy: 0.9725 - lr: 0.0050\n",
            "Epoch 7/50\n",
            "292/292 [==============================] - 11s 37ms/step - loss: 0.3516 - accuracy: 0.9333 - val_loss: 0.1123 - val_accuracy: 0.9592 - lr: 0.0050\n",
            "Epoch 8/50\n",
            "292/292 [==============================] - 11s 37ms/step - loss: 0.2009 - accuracy: 0.9563 - val_loss: 0.1643 - val_accuracy: 0.9291 - lr: 0.0050\n",
            "Epoch 9/50\n",
            "292/292 [==============================] - 11s 37ms/step - loss: 0.1620 - accuracy: 0.9645 - val_loss: 0.1248 - val_accuracy: 0.9635 - lr: 0.0050\n",
            "Epoch 10/50\n",
            "292/292 [==============================] - 11s 38ms/step - loss: 0.1101 - accuracy: 0.9754 - val_loss: 0.1149 - val_accuracy: 0.9660 - lr: 0.0025\n",
            "Epoch 11/50\n",
            "292/292 [==============================] - 11s 36ms/step - loss: 0.0885 - accuracy: 0.9811 - val_loss: 0.1190 - val_accuracy: 0.9656 - lr: 0.0025\n",
            "Epoch 12/50\n",
            "292/292 [==============================] - 11s 37ms/step - loss: 0.0751 - accuracy: 0.9852 - val_loss: 0.1187 - val_accuracy: 0.9749 - lr: 0.0025\n",
            "Epoch 13/50\n",
            "292/292 [==============================] - 11s 37ms/step - loss: 0.0700 - accuracy: 0.9866 - val_loss: 0.1341 - val_accuracy: 0.9660 - lr: 0.0025\n",
            "Epoch 14/50\n",
            "292/292 [==============================] - 11s 37ms/step - loss: 0.0683 - accuracy: 0.9855 - val_loss: 0.1811 - val_accuracy: 0.9584 - lr: 0.0025\n",
            "Epoch 15/50\n",
            "292/292 [==============================] - 11s 38ms/step - loss: 0.0495 - accuracy: 0.9900 - val_loss: 0.1246 - val_accuracy: 0.9770 - lr: 0.0012\n",
            "Epoch 16/50\n",
            "292/292 [==============================] - 11s 36ms/step - loss: 0.0451 - accuracy: 0.9922 - val_loss: 0.1371 - val_accuracy: 0.9778 - lr: 0.0012\n",
            "Epoch 17/50\n",
            "292/292 [==============================] - 11s 37ms/step - loss: 0.0404 - accuracy: 0.9930 - val_loss: 0.1379 - val_accuracy: 0.9785 - lr: 0.0012\n",
            "Epoch 18/50\n",
            "292/292 [==============================] - 11s 38ms/step - loss: 0.0366 - accuracy: 0.9931 - val_loss: 0.1456 - val_accuracy: 0.9789 - lr: 0.0012\n",
            "Epoch 19/50\n",
            "292/292 [==============================] - 11s 37ms/step - loss: 0.0325 - accuracy: 0.9944 - val_loss: 0.1569 - val_accuracy: 0.9781 - lr: 0.0012\n",
            "Epoch 20/50\n",
            "292/292 [==============================] - 11s 38ms/step - loss: 0.0279 - accuracy: 0.9948 - val_loss: 0.1572 - val_accuracy: 0.9786 - lr: 6.2500e-04\n",
            "Epoch 21/50\n",
            "292/292 [==============================] - 11s 37ms/step - loss: 0.0263 - accuracy: 0.9954 - val_loss: 0.1655 - val_accuracy: 0.9807 - lr: 6.2500e-04\n",
            "Epoch 22/50\n",
            "292/292 [==============================] - 11s 37ms/step - loss: 0.0276 - accuracy: 0.9952 - val_loss: 0.1564 - val_accuracy: 0.9799 - lr: 6.2500e-04\n",
            "Epoch 23/50\n",
            "292/292 [==============================] - 11s 37ms/step - loss: 0.0243 - accuracy: 0.9957 - val_loss: 0.1618 - val_accuracy: 0.9803 - lr: 6.2500e-04\n",
            "Epoch 24/50\n",
            "292/292 [==============================] - 11s 37ms/step - loss: 0.0281 - accuracy: 0.9955 - val_loss: 0.1783 - val_accuracy: 0.9710 - lr: 6.2500e-04\n",
            "Epoch 25/50\n",
            "292/292 [==============================] - 11s 36ms/step - loss: 0.0282 - accuracy: 0.9950 - val_loss: 0.1556 - val_accuracy: 0.9788 - lr: 3.1250e-04\n",
            "Epoch 26/50\n",
            "292/292 [==============================] - 12s 40ms/step - loss: 0.0221 - accuracy: 0.9965 - val_loss: 0.1610 - val_accuracy: 0.9790 - lr: 3.1250e-04\n",
            "Epoch 27/50\n",
            "292/292 [==============================] - 11s 38ms/step - loss: 0.0204 - accuracy: 0.9966 - val_loss: 0.1624 - val_accuracy: 0.9790 - lr: 3.1250e-04\n",
            "Epoch 28/50\n",
            "292/292 [==============================] - 11s 37ms/step - loss: 0.0201 - accuracy: 0.9969 - val_loss: 0.1670 - val_accuracy: 0.9791 - lr: 3.1250e-04\n",
            "Epoch 29/50\n",
            "292/292 [==============================] - 11s 36ms/step - loss: 0.0185 - accuracy: 0.9970 - val_loss: 0.1744 - val_accuracy: 0.9793 - lr: 3.1250e-04\n",
            "Epoch 30/50\n",
            "292/292 [==============================] - 11s 37ms/step - loss: 0.0181 - accuracy: 0.9971 - val_loss: 0.1707 - val_accuracy: 0.9798 - lr: 1.5625e-04\n",
            "Epoch 31/50\n",
            "292/292 [==============================] - 11s 37ms/step - loss: 0.0164 - accuracy: 0.9975 - val_loss: 0.1740 - val_accuracy: 0.9798 - lr: 1.5625e-04\n",
            "Epoch 32/50\n",
            "292/292 [==============================] - 11s 37ms/step - loss: 0.0174 - accuracy: 0.9972 - val_loss: 0.1755 - val_accuracy: 0.9797 - lr: 1.5625e-04\n",
            "Epoch 33/50\n",
            "292/292 [==============================] - 11s 37ms/step - loss: 0.0177 - accuracy: 0.9973 - val_loss: 0.1797 - val_accuracy: 0.9795 - lr: 1.5625e-04\n",
            "Epoch 34/50\n",
            "292/292 [==============================] - 11s 38ms/step - loss: 0.0153 - accuracy: 0.9974 - val_loss: 0.1819 - val_accuracy: 0.9794 - lr: 1.5625e-04\n",
            "Epoch 35/50\n",
            "292/292 [==============================] - 11s 38ms/step - loss: 0.0147 - accuracy: 0.9975 - val_loss: 0.1786 - val_accuracy: 0.9798 - lr: 7.8125e-05\n",
            "Epoch 36/50\n",
            "292/292 [==============================] - 11s 37ms/step - loss: 0.0121 - accuracy: 0.9977 - val_loss: 0.1815 - val_accuracy: 0.9798 - lr: 7.8125e-05\n",
            "Epoch 37/50\n",
            "292/292 [==============================] - 11s 36ms/step - loss: 0.0145 - accuracy: 0.9977 - val_loss: 0.1862 - val_accuracy: 0.9794 - lr: 7.8125e-05\n",
            "Epoch 38/50\n",
            "292/292 [==============================] - 11s 38ms/step - loss: 0.0157 - accuracy: 0.9976 - val_loss: 0.1818 - val_accuracy: 0.9798 - lr: 7.8125e-05\n",
            "Epoch 39/50\n",
            "292/292 [==============================] - 11s 38ms/step - loss: 0.0166 - accuracy: 0.9977 - val_loss: 0.1842 - val_accuracy: 0.9798 - lr: 7.8125e-05\n",
            "Epoch 40/50\n",
            "292/292 [==============================] - 11s 37ms/step - loss: 0.0145 - accuracy: 0.9978 - val_loss: 0.1860 - val_accuracy: 0.9798 - lr: 3.9062e-05\n",
            "Epoch 41/50\n",
            "292/292 [==============================] - 11s 38ms/step - loss: 0.0153 - accuracy: 0.9976 - val_loss: 0.1854 - val_accuracy: 0.9796 - lr: 3.9062e-05\n",
            "Epoch 42/50\n",
            "292/292 [==============================] - 11s 37ms/step - loss: 0.0131 - accuracy: 0.9978 - val_loss: 0.1859 - val_accuracy: 0.9795 - lr: 3.9062e-05\n",
            "Epoch 43/50\n",
            "292/292 [==============================] - 11s 37ms/step - loss: 0.0139 - accuracy: 0.9978 - val_loss: 0.1863 - val_accuracy: 0.9795 - lr: 3.9062e-05\n",
            "Epoch 44/50\n",
            "292/292 [==============================] - 11s 37ms/step - loss: 0.0158 - accuracy: 0.9980 - val_loss: 0.1894 - val_accuracy: 0.9792 - lr: 3.9062e-05\n",
            "Epoch 45/50\n",
            "292/292 [==============================] - 11s 38ms/step - loss: 0.0135 - accuracy: 0.9981 - val_loss: 0.1890 - val_accuracy: 0.9794 - lr: 1.9531e-05\n",
            "Epoch 46/50\n",
            "292/292 [==============================] - 11s 37ms/step - loss: 0.0129 - accuracy: 0.9981 - val_loss: 0.1890 - val_accuracy: 0.9795 - lr: 1.9531e-05\n",
            "Epoch 47/50\n",
            "292/292 [==============================] - 11s 37ms/step - loss: 0.0126 - accuracy: 0.9982 - val_loss: 0.1887 - val_accuracy: 0.9798 - lr: 1.9531e-05\n",
            "Epoch 48/50\n",
            "292/292 [==============================] - 11s 38ms/step - loss: 0.0138 - accuracy: 0.9982 - val_loss: 0.1907 - val_accuracy: 0.9796 - lr: 1.9531e-05\n",
            "Epoch 49/50\n",
            "292/292 [==============================] - 11s 39ms/step - loss: 0.0140 - accuracy: 0.9979 - val_loss: 0.1904 - val_accuracy: 0.9796 - lr: 1.9531e-05\n",
            "Epoch 50/50\n",
            "292/292 [==============================] - 11s 39ms/step - loss: 0.0141 - accuracy: 0.9980 - val_loss: 0.1903 - val_accuracy: 0.9795 - lr: 9.7656e-06\n"
          ]
        },
        {
          "data": {
            "text/plain": [
              "<tensorflow.python.checkpoint.checkpoint.CheckpointLoadStatus at 0x1dec9e88c70>"
            ]
          },
          "execution_count": 21,
          "metadata": {},
          "output_type": "execute_result"
        }
      ],
      "source": [
        "#model.fit(sequences_matrix,Y_train,batch_size=128,epochs=10,validation_split=0.2,callbacks=[EarlyStopping(monitor='val_loss',min_delta=0.0001)])\n",
        "checkpoint_filepath = './checkpoint'\n",
        "model_checkpoint_callback = tf.keras.callbacks.ModelCheckpoint(\n",
        "                filepath=checkpoint_filepath,\n",
        "                save_weights_only=True,\n",
        "                monitor='val_loss',\n",
        "                mode='min',\n",
        "                save_best_only=True\n",
        ")\n",
        "\n",
        "reduce_lr = tf.keras.callbacks.ReduceLROnPlateau(monitor='val_loss', factor=0.5,\n",
        "                              patience=5, min_lr=0.000001)\n",
        "\n",
        "model.fit(sequences_matrix,Y_train,batch_size=128,epochs=50,validation_split=0.25, callbacks=[model_checkpoint_callback,reduce_lr], class_weight=weight_dict)\n",
        "\n",
        "model.load_weights(checkpoint_filepath)"
      ]
    },
    {
      "cell_type": "code",
      "execution_count": 22,
      "metadata": {},
      "outputs": [],
      "source": [
        "model.save(\"LSTM_imbalanced_weighted.h5\")"
      ]
    },
    {
      "cell_type": "code",
      "execution_count": 23,
      "metadata": {
        "colab": {
          "base_uri": "https://localhost:8080/"
        },
        "id": "oJ_091N4rPK8",
        "outputId": "a5e2c54c-3efd-48e7-e0f0-8d8f3bf7b3d2"
      },
      "outputs": [
        {
          "name": "stdout",
          "output_type": "stream",
          "text": [
            "390/390 [==============================] - 5s 12ms/step - loss: 0.1184 - accuracy: 0.9610\n"
          ]
        }
      ],
      "source": [
        "accr = model.evaluate(test_sequences_matrix,Y_test)"
      ]
    },
    {
      "cell_type": "code",
      "execution_count": 24,
      "metadata": {
        "colab": {
          "base_uri": "https://localhost:8080/"
        },
        "id": "LOwIyZAasKhk",
        "outputId": "131c1594-147d-4f10-abbe-d4453bb2ba32"
      },
      "outputs": [
        {
          "name": "stdout",
          "output_type": "stream",
          "text": [
            "Test set\n",
            "  Loss: 0.118\n",
            "  Accuracy: 0.961\n"
          ]
        }
      ],
      "source": [
        "print('Test set\\n  Loss: {:0.3f}\\n  Accuracy: {:0.3f}'.format(accr[0],accr[1]))"
      ]
    },
    {
      "cell_type": "code",
      "execution_count": 25,
      "metadata": {},
      "outputs": [
        {
          "name": "stdout",
          "output_type": "stream",
          "text": [
            "390/390 [==============================] - 4s 10ms/step\n",
            "[[8.4983157e-03]\n",
            " [3.5944834e-04]\n",
            " [9.4982302e-03]\n",
            " ...\n",
            " [6.8841487e-01]\n",
            " [5.5270572e-03]\n",
            " [8.0814046e-01]]\n"
          ]
        }
      ],
      "source": [
        "y_pred = model.predict(test_sequences_matrix)\n",
        "print(y_pred)"
      ]
    },
    {
      "cell_type": "code",
      "execution_count": 26,
      "metadata": {},
      "outputs": [],
      "source": [
        "y_pred = [1 if x >= 0.5 else 0 for x in y_pred]"
      ]
    },
    {
      "cell_type": "code",
      "execution_count": 27,
      "metadata": {
        "id": "mvahW79r8iOP"
      },
      "outputs": [
        {
          "name": "stdout",
          "output_type": "stream",
          "text": [
            "              precision    recall  f1-score   support\n",
            "\n",
            "           0   0.991193  0.966841  0.978866     11641\n",
            "           1   0.649091  0.877150  0.746082       814\n",
            "\n",
            "    accuracy                       0.960980     12455\n",
            "   macro avg   0.820142  0.921996  0.862474     12455\n",
            "weighted avg   0.968835  0.960980  0.963652     12455\n",
            "\n"
          ]
        }
      ],
      "source": [
        "print(classification_report(Y_test, y_pred, digits=6))"
      ]
    }
  ],
  "metadata": {
    "colab": {
      "provenance": []
    },
    "kernelspec": {
      "display_name": "Python 3",
      "language": "python",
      "name": "python3"
    },
    "language_info": {
      "codemirror_mode": {
        "name": "ipython",
        "version": 3
      },
      "file_extension": ".py",
      "mimetype": "text/x-python",
      "name": "python",
      "nbconvert_exporter": "python",
      "pygments_lexer": "ipython3",
      "version": "3.10.4"
    },
    "vscode": {
      "interpreter": {
        "hash": "4593b52a31704b5155580280f0f05a500adb36bf97584c7e94e26dfe17ea16d9"
      }
    }
  },
  "nbformat": 4,
  "nbformat_minor": 0
}
