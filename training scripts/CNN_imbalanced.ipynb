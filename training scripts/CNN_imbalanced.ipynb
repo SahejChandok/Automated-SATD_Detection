{
  "cells": [
    {
      "cell_type": "code",
      "execution_count": 1,
      "metadata": {
        "id": "100qQ50jg3gm"
      },
      "outputs": [],
      "source": [
        "import pandas as pd\n",
        "import numpy as np\n",
        "import matplotlib.pyplot as plt\n",
        "import seaborn as sns\n",
        "from sklearn.model_selection import train_test_split\n",
        "from sklearn.preprocessing import LabelEncoder\n",
        "from keras.models import Model\n",
        "from keras.layers import LSTM, Activation, Dense, Dropout, Input, Embedding, Conv2D, MaxPooling2D, Flatten, MaxPooling1D, Conv1D\n",
        "from keras.optimizers import RMSprop\n",
        "from keras.preprocessing.text import Tokenizer\n",
        "from keras.preprocessing import sequence\n",
        "from keras.utils import to_categorical\n",
        "from keras.callbacks import EarlyStopping\n",
        "import tensorflow as tf\n",
        "\n",
        "import tensorflow_addons as tfa\n",
        "from keras.utils import pad_sequences\n",
        "from sklearn.metrics import classification_report\n",
        "from sklearn.metrics import confusion_matrix"
      ]
    },
    {
      "cell_type": "code",
      "execution_count": 2,
      "metadata": {
        "id": "deniKMj_i2K7"
      },
      "outputs": [],
      "source": [
        "df=pd.read_csv('input9.csv')"
      ]
    },
    {
      "cell_type": "code",
      "execution_count": 3,
      "metadata": {
        "colab": {
          "base_uri": "https://localhost:8080/",
          "height": 206
        },
        "id": "Yx_TXEhUi71x",
        "outputId": "1ed747f9-3520-4c2e-e11d-fd31d83b653d"
      },
      "outputs": [
        {
          "data": {
            "text/html": [
              "<div>\n",
              "<style scoped>\n",
              "    .dataframe tbody tr th:only-of-type {\n",
              "        vertical-align: middle;\n",
              "    }\n",
              "\n",
              "    .dataframe tbody tr th {\n",
              "        vertical-align: top;\n",
              "    }\n",
              "\n",
              "    .dataframe thead th {\n",
              "        text-align: right;\n",
              "    }\n",
              "</style>\n",
              "<table border=\"1\" class=\"dataframe\">\n",
              "  <thead>\n",
              "    <tr style=\"text-align: right;\">\n",
              "      <th></th>\n",
              "      <th>comment</th>\n",
              "      <th>class</th>\n",
              "    </tr>\n",
              "  </thead>\n",
              "  <tbody>\n",
              "    <tr>\n",
              "      <th>0</th>\n",
              "      <td>FIXME formatters are not thread safe</td>\n",
              "      <td>DEFECT</td>\n",
              "    </tr>\n",
              "    <tr>\n",
              "      <th>1</th>\n",
              "      <td>XXX  Jon Skeet The comment \"if it hasn't bee...</td>\n",
              "      <td>DEFECT</td>\n",
              "    </tr>\n",
              "    <tr>\n",
              "      <th>2</th>\n",
              "      <td>I hate to admit it, but we don't know what h...</td>\n",
              "      <td>DEFECT</td>\n",
              "    </tr>\n",
              "    <tr>\n",
              "      <th>3</th>\n",
              "      <td>Just a note StarTeam has a status for NEW wh...</td>\n",
              "      <td>DEFECT</td>\n",
              "    </tr>\n",
              "    <tr>\n",
              "      <th>4</th>\n",
              "      <td>the generated classes must not be added in t...</td>\n",
              "      <td>DEFECT</td>\n",
              "    </tr>\n",
              "  </tbody>\n",
              "</table>\n",
              "</div>"
            ],
            "text/plain": [
              "                                             comment   class\n",
              "0               FIXME formatters are not thread safe  DEFECT\n",
              "1    XXX  Jon Skeet The comment \"if it hasn't bee...  DEFECT\n",
              "2    I hate to admit it, but we don't know what h...  DEFECT\n",
              "3    Just a note StarTeam has a status for NEW wh...  DEFECT\n",
              "4    the generated classes must not be added in t...  DEFECT"
            ]
          },
          "execution_count": 3,
          "metadata": {},
          "output_type": "execute_result"
        }
      ],
      "source": [
        "df.head()"
      ]
    },
    {
      "cell_type": "code",
      "execution_count": 4,
      "metadata": {
        "colab": {
          "base_uri": "https://localhost:8080/"
        },
        "id": "CXQ_hftEi-Db",
        "outputId": "7593243c-7ec5-4561-a87a-b1db15b1b1b0"
      },
      "outputs": [
        {
          "data": {
            "text/plain": [
              "WITHOUT_CLASSIFICATION    58204\n",
              "DESIGN                     2703\n",
              "IMPLEMENTATION              757\n",
              "DEFECT                      472\n",
              "TEST                         85\n",
              "DOCUMENTATION                54\n",
              "Name: class, dtype: int64"
            ]
          },
          "execution_count": 4,
          "metadata": {},
          "output_type": "execute_result"
        }
      ],
      "source": [
        "df['class'].value_counts()"
      ]
    },
    {
      "cell_type": "code",
      "execution_count": 5,
      "metadata": {
        "id": "pHFkALFtjROK"
      },
      "outputs": [],
      "source": [
        "df['class']=df['class'].apply(lambda x: 0 if x=='WITHOUT_CLASSIFICATION' else 1)"
      ]
    },
    {
      "cell_type": "code",
      "execution_count": 6,
      "metadata": {
        "colab": {
          "base_uri": "https://localhost:8080/"
        },
        "id": "m1ejQc4AjgC9",
        "outputId": "17901db1-3079-4586-e0b2-dc6af800d63e"
      },
      "outputs": [
        {
          "data": {
            "text/plain": [
              "0    58204\n",
              "1     4071\n",
              "Name: class, dtype: int64"
            ]
          },
          "execution_count": 6,
          "metadata": {},
          "output_type": "execute_result"
        }
      ],
      "source": [
        "df['class'].value_counts()"
      ]
    },
    {
      "cell_type": "code",
      "execution_count": 7,
      "metadata": {
        "id": "yyhIkZdjjtjk"
      },
      "outputs": [],
      "source": [
        "X = df['comment']\n",
        "Y = df['class']\n",
        "le = LabelEncoder()\n",
        "Y = le.fit_transform(Y)\n",
        "Y = Y.reshape(-1,1)"
      ]
    },
    {
      "cell_type": "code",
      "execution_count": 8,
      "metadata": {
        "id": "uvDmONGxpMq6"
      },
      "outputs": [],
      "source": [
        "X_train,X_test,Y_train,Y_test = train_test_split(X,Y,test_size=0.20, stratify=Y, random_state=42)\n",
        "\n",
        "max_words = 10000\n",
        "max_len = 250\n",
        "tok = Tokenizer(num_words=max_words)\n",
        "tok.fit_on_texts(X_train)\n",
        "train_sequences = tok.texts_to_sequences(X_train)\n",
        "train_sequences_matrix = pad_sequences(train_sequences,maxlen=max_len)\n",
        "\n",
        "test_sequences = tok.texts_to_sequences(X_test)\n",
        "test_sequences_matrix = pad_sequences(test_sequences,maxlen=max_len)"
      ]
    },
    {
      "cell_type": "code",
      "execution_count": 9,
      "metadata": {},
      "outputs": [
        {
          "name": "stdout",
          "output_type": "stream",
          "text": [
            "250\n"
          ]
        }
      ],
      "source": [
        "print(len(train_sequences_matrix[0]))"
      ]
    },
    {
      "cell_type": "code",
      "execution_count": 10,
      "metadata": {
        "id": "1JeBj-rLqGyd"
      },
      "outputs": [],
      "source": [
        "def CNN():\n",
        "    cnn = tf.keras.Sequential()\n",
        "    cnn.add(Input(name='inputs',shape=[max_len]))\n",
        "    cnn.add(Embedding(max_words,50,input_length=max_len))\n",
        "    cnn.add(Conv1D(128, kernel_size=3, activation='relu', padding=\"same\"))\n",
        "    cnn.add(MaxPooling1D(pool_size=2))\n",
        "    cnn.add(Conv1D(256, kernel_size=3, activation='relu', padding=\"same\"))\n",
        "    cnn.add(MaxPooling1D(pool_size=2))\n",
        "    cnn.add(Conv1D(512, kernel_size=3, activation='relu', padding=\"same\"))\n",
        "    cnn.add(MaxPooling1D(pool_size=2))\n",
        "\n",
        "    cnn.add(Flatten())\n",
        "    cnn.add(Dense(256, activation ='relu'))\n",
        "    cnn.add(Dense(64, activation ='relu'))\n",
        "    cnn.add(Dense(1, activation='sigmoid'))\n",
        "\n",
        "    return cnn"
      ]
    },
    {
      "cell_type": "code",
      "execution_count": 14,
      "metadata": {
        "colab": {
          "base_uri": "https://localhost:8080/"
        },
        "id": "wGN-X_VJqR6d",
        "outputId": "5c4a7466-789f-47eb-d636-05a049efc0e3"
      },
      "outputs": [
        {
          "name": "stdout",
          "output_type": "stream",
          "text": [
            "Model: \"sequential_1\"\n",
            "_________________________________________________________________\n",
            " Layer (type)                Output Shape              Param #   \n",
            "=================================================================\n",
            " embedding_1 (Embedding)     (None, 250, 50)           500000    \n",
            "                                                                 \n",
            " conv1d_3 (Conv1D)           (None, 250, 128)          19328     \n",
            "                                                                 \n",
            " max_pooling1d_3 (MaxPooling  (None, 125, 128)         0         \n",
            " 1D)                                                             \n",
            "                                                                 \n",
            " conv1d_4 (Conv1D)           (None, 125, 256)          98560     \n",
            "                                                                 \n",
            " max_pooling1d_4 (MaxPooling  (None, 62, 256)          0         \n",
            " 1D)                                                             \n",
            "                                                                 \n",
            " conv1d_5 (Conv1D)           (None, 62, 512)           393728    \n",
            "                                                                 \n",
            " max_pooling1d_5 (MaxPooling  (None, 31, 512)          0         \n",
            " 1D)                                                             \n",
            "                                                                 \n",
            " flatten_1 (Flatten)         (None, 15872)             0         \n",
            "                                                                 \n",
            " dense_3 (Dense)             (None, 256)               4063488   \n",
            "                                                                 \n",
            " dense_4 (Dense)             (None, 64)                16448     \n",
            "                                                                 \n",
            " dense_5 (Dense)             (None, 1)                 65        \n",
            "                                                                 \n",
            "=================================================================\n",
            "Total params: 5,091,617\n",
            "Trainable params: 5,091,617\n",
            "Non-trainable params: 0\n",
            "_________________________________________________________________\n"
          ]
        }
      ],
      "source": [
        "model = CNN()\n",
        "model.summary()\n",
        "opt = tf.keras.optimizers.Adadelta(learning_rate=0.1)\n",
        "model.compile(loss='binary_crossentropy',optimizer=opt,metrics=['accuracy'])"
      ]
    },
    {
      "cell_type": "code",
      "execution_count": 15,
      "metadata": {
        "colab": {
          "base_uri": "https://localhost:8080/"
        },
        "id": "e2DKhNZoqYJM",
        "outputId": "38044ab8-4a91-4202-b6b7-ed74fdf837bc"
      },
      "outputs": [
        {
          "name": "stdout",
          "output_type": "stream",
          "text": [
            "Epoch 1/50\n",
            "292/292 [==============================] - 8s 26ms/step - loss: 0.2640 - accuracy: 0.9309 - val_loss: 0.2232 - val_accuracy: 0.9375 - lr: 0.1000\n",
            "Epoch 2/50\n",
            "292/292 [==============================] - 7s 23ms/step - loss: 0.2246 - accuracy: 0.9337 - val_loss: 0.2068 - val_accuracy: 0.9375 - lr: 0.1000\n",
            "Epoch 3/50\n",
            "292/292 [==============================] - 7s 23ms/step - loss: 0.2156 - accuracy: 0.9337 - val_loss: 0.2054 - val_accuracy: 0.9375 - lr: 0.1000\n",
            "Epoch 4/50\n",
            "292/292 [==============================] - 7s 23ms/step - loss: 0.2076 - accuracy: 0.9336 - val_loss: 0.1941 - val_accuracy: 0.9373 - lr: 0.1000\n",
            "Epoch 5/50\n",
            "292/292 [==============================] - 7s 23ms/step - loss: 0.1782 - accuracy: 0.9370 - val_loss: 0.1284 - val_accuracy: 0.9578 - lr: 0.1000\n",
            "Epoch 6/50\n",
            "292/292 [==============================] - 7s 23ms/step - loss: 0.1151 - accuracy: 0.9650 - val_loss: 0.0986 - val_accuracy: 0.9724 - lr: 0.1000\n",
            "Epoch 7/50\n",
            "292/292 [==============================] - 7s 23ms/step - loss: 0.0946 - accuracy: 0.9718 - val_loss: 0.0840 - val_accuracy: 0.9744 - lr: 0.1000\n",
            "Epoch 8/50\n",
            "292/292 [==============================] - 7s 23ms/step - loss: 0.0842 - accuracy: 0.9743 - val_loss: 0.0775 - val_accuracy: 0.9749 - lr: 0.1000\n",
            "Epoch 9/50\n",
            "292/292 [==============================] - 7s 23ms/step - loss: 0.0781 - accuracy: 0.9757 - val_loss: 0.0731 - val_accuracy: 0.9754 - lr: 0.1000\n",
            "Epoch 10/50\n",
            "292/292 [==============================] - 7s 23ms/step - loss: 0.0730 - accuracy: 0.9769 - val_loss: 0.0715 - val_accuracy: 0.9769 - lr: 0.1000\n",
            "Epoch 11/50\n",
            "292/292 [==============================] - 7s 23ms/step - loss: 0.0688 - accuracy: 0.9778 - val_loss: 0.0683 - val_accuracy: 0.9774 - lr: 0.1000\n",
            "Epoch 12/50\n",
            "292/292 [==============================] - 7s 23ms/step - loss: 0.0655 - accuracy: 0.9795 - val_loss: 0.0668 - val_accuracy: 0.9779 - lr: 0.1000\n",
            "Epoch 13/50\n",
            "292/292 [==============================] - 7s 23ms/step - loss: 0.0615 - accuracy: 0.9801 - val_loss: 0.0653 - val_accuracy: 0.9778 - lr: 0.1000\n",
            "Epoch 14/50\n",
            "292/292 [==============================] - 7s 22ms/step - loss: 0.0587 - accuracy: 0.9807 - val_loss: 0.0667 - val_accuracy: 0.9787 - lr: 0.1000\n",
            "Epoch 15/50\n",
            "292/292 [==============================] - 7s 23ms/step - loss: 0.0559 - accuracy: 0.9818 - val_loss: 0.0637 - val_accuracy: 0.9784 - lr: 0.1000\n",
            "Epoch 16/50\n",
            "292/292 [==============================] - 7s 23ms/step - loss: 0.0534 - accuracy: 0.9825 - val_loss: 0.0622 - val_accuracy: 0.9790 - lr: 0.1000\n",
            "Epoch 17/50\n",
            "292/292 [==============================] - 6s 22ms/step - loss: 0.0513 - accuracy: 0.9832 - val_loss: 0.0630 - val_accuracy: 0.9786 - lr: 0.1000\n",
            "Epoch 18/50\n",
            "292/292 [==============================] - 6s 22ms/step - loss: 0.0490 - accuracy: 0.9842 - val_loss: 0.0634 - val_accuracy: 0.9806 - lr: 0.1000\n",
            "Epoch 19/50\n",
            "292/292 [==============================] - 7s 23ms/step - loss: 0.0472 - accuracy: 0.9847 - val_loss: 0.0615 - val_accuracy: 0.9796 - lr: 0.1000\n",
            "Epoch 20/50\n",
            "292/292 [==============================] - 6s 22ms/step - loss: 0.0450 - accuracy: 0.9855 - val_loss: 0.0635 - val_accuracy: 0.9800 - lr: 0.1000\n",
            "Epoch 21/50\n",
            "292/292 [==============================] - 7s 22ms/step - loss: 0.0432 - accuracy: 0.9866 - val_loss: 0.0645 - val_accuracy: 0.9806 - lr: 0.1000\n",
            "Epoch 22/50\n",
            "292/292 [==============================] - 7s 22ms/step - loss: 0.0412 - accuracy: 0.9871 - val_loss: 0.0636 - val_accuracy: 0.9790 - lr: 0.1000\n",
            "Epoch 23/50\n",
            "292/292 [==============================] - 7s 23ms/step - loss: 0.0395 - accuracy: 0.9877 - val_loss: 0.0641 - val_accuracy: 0.9796 - lr: 0.1000\n",
            "Epoch 24/50\n",
            "292/292 [==============================] - 7s 22ms/step - loss: 0.0381 - accuracy: 0.9882 - val_loss: 0.0649 - val_accuracy: 0.9811 - lr: 0.1000\n",
            "Epoch 25/50\n",
            "292/292 [==============================] - 7s 22ms/step - loss: 0.0359 - accuracy: 0.9889 - val_loss: 0.0652 - val_accuracy: 0.9806 - lr: 0.0500\n",
            "Epoch 26/50\n",
            "292/292 [==============================] - 7s 22ms/step - loss: 0.0350 - accuracy: 0.9891 - val_loss: 0.0681 - val_accuracy: 0.9782 - lr: 0.0500\n",
            "Epoch 27/50\n",
            "292/292 [==============================] - 7s 22ms/step - loss: 0.0344 - accuracy: 0.9893 - val_loss: 0.0673 - val_accuracy: 0.9790 - lr: 0.0500\n",
            "Epoch 28/50\n",
            "292/292 [==============================] - 6s 22ms/step - loss: 0.0338 - accuracy: 0.9895 - val_loss: 0.0672 - val_accuracy: 0.9804 - lr: 0.0500\n",
            "Epoch 29/50\n",
            "292/292 [==============================] - 7s 22ms/step - loss: 0.0329 - accuracy: 0.9896 - val_loss: 0.0679 - val_accuracy: 0.9790 - lr: 0.0500\n",
            "Epoch 30/50\n",
            "292/292 [==============================] - 7s 22ms/step - loss: 0.0321 - accuracy: 0.9900 - val_loss: 0.0679 - val_accuracy: 0.9797 - lr: 0.0250\n",
            "Epoch 31/50\n",
            "292/292 [==============================] - 6s 22ms/step - loss: 0.0317 - accuracy: 0.9902 - val_loss: 0.0691 - val_accuracy: 0.9805 - lr: 0.0250\n",
            "Epoch 32/50\n",
            "292/292 [==============================] - 7s 22ms/step - loss: 0.0314 - accuracy: 0.9902 - val_loss: 0.0689 - val_accuracy: 0.9790 - lr: 0.0250\n",
            "Epoch 33/50\n",
            "292/292 [==============================] - 7s 22ms/step - loss: 0.0311 - accuracy: 0.9903 - val_loss: 0.0691 - val_accuracy: 0.9790 - lr: 0.0250\n",
            "Epoch 34/50\n",
            "292/292 [==============================] - 6s 22ms/step - loss: 0.0308 - accuracy: 0.9903 - val_loss: 0.0700 - val_accuracy: 0.9786 - lr: 0.0250\n",
            "Epoch 35/50\n",
            "292/292 [==============================] - 7s 22ms/step - loss: 0.0304 - accuracy: 0.9905 - val_loss: 0.0698 - val_accuracy: 0.9793 - lr: 0.0125\n",
            "Epoch 36/50\n",
            "292/292 [==============================] - 7s 22ms/step - loss: 0.0302 - accuracy: 0.9905 - val_loss: 0.0701 - val_accuracy: 0.9793 - lr: 0.0125\n",
            "Epoch 37/50\n",
            "292/292 [==============================] - 7s 22ms/step - loss: 0.0301 - accuracy: 0.9906 - val_loss: 0.0702 - val_accuracy: 0.9790 - lr: 0.0125\n",
            "Epoch 38/50\n",
            "292/292 [==============================] - 7s 22ms/step - loss: 0.0299 - accuracy: 0.9905 - val_loss: 0.0704 - val_accuracy: 0.9793 - lr: 0.0125\n",
            "Epoch 39/50\n",
            "292/292 [==============================] - 6s 22ms/step - loss: 0.0299 - accuracy: 0.9906 - val_loss: 0.0702 - val_accuracy: 0.9789 - lr: 0.0125\n",
            "Epoch 40/50\n",
            "292/292 [==============================] - 6s 22ms/step - loss: 0.0296 - accuracy: 0.9907 - val_loss: 0.0704 - val_accuracy: 0.9793 - lr: 0.0063\n",
            "Epoch 41/50\n",
            "292/292 [==============================] - 6s 22ms/step - loss: 0.0296 - accuracy: 0.9907 - val_loss: 0.0706 - val_accuracy: 0.9794 - lr: 0.0063\n",
            "Epoch 42/50\n",
            "292/292 [==============================] - 6s 22ms/step - loss: 0.0295 - accuracy: 0.9908 - val_loss: 0.0706 - val_accuracy: 0.9789 - lr: 0.0063\n",
            "Epoch 43/50\n",
            "292/292 [==============================] - 6s 21ms/step - loss: 0.0294 - accuracy: 0.9908 - val_loss: 0.0708 - val_accuracy: 0.9795 - lr: 0.0063\n",
            "Epoch 44/50\n",
            "292/292 [==============================] - 6s 22ms/step - loss: 0.0294 - accuracy: 0.9908 - val_loss: 0.0709 - val_accuracy: 0.9793 - lr: 0.0063\n",
            "Epoch 45/50\n",
            "292/292 [==============================] - 6s 22ms/step - loss: 0.0292 - accuracy: 0.9908 - val_loss: 0.0709 - val_accuracy: 0.9793 - lr: 0.0031\n",
            "Epoch 46/50\n",
            "292/292 [==============================] - 7s 22ms/step - loss: 0.0292 - accuracy: 0.9909 - val_loss: 0.0710 - val_accuracy: 0.9793 - lr: 0.0031\n",
            "Epoch 47/50\n",
            "292/292 [==============================] - 7s 22ms/step - loss: 0.0292 - accuracy: 0.9909 - val_loss: 0.0710 - val_accuracy: 0.9793 - lr: 0.0031\n",
            "Epoch 48/50\n",
            "292/292 [==============================] - 7s 22ms/step - loss: 0.0292 - accuracy: 0.9909 - val_loss: 0.0710 - val_accuracy: 0.9790 - lr: 0.0031\n",
            "Epoch 49/50\n",
            "292/292 [==============================] - 6s 22ms/step - loss: 0.0291 - accuracy: 0.9909 - val_loss: 0.0712 - val_accuracy: 0.9794 - lr: 0.0031\n",
            "Epoch 50/50\n",
            "292/292 [==============================] - 6s 22ms/step - loss: 0.0291 - accuracy: 0.9909 - val_loss: 0.0712 - val_accuracy: 0.9792 - lr: 0.0016\n"
          ]
        },
        {
          "data": {
            "text/plain": [
              "<tensorflow.python.checkpoint.checkpoint.CheckpointLoadStatus at 0x21001aae080>"
            ]
          },
          "execution_count": 15,
          "metadata": {},
          "output_type": "execute_result"
        }
      ],
      "source": [
        "checkpoint_filepath = './checkpoint'\n",
        "model_checkpoint_callback = tf.keras.callbacks.ModelCheckpoint(\n",
        "                filepath=checkpoint_filepath,\n",
        "                save_weights_only=True,\n",
        "                monitor='val_loss',\n",
        "                mode='min',\n",
        "                save_best_only=True\n",
        ")\n",
        "\n",
        "reduce_lr = tf.keras.callbacks.ReduceLROnPlateau(monitor='val_loss', factor=0.5,\n",
        "                              patience=5, min_lr=0.000001)\n",
        "\n",
        "model.fit(train_sequences_matrix,Y_train,batch_size=128,epochs=50,validation_split=0.25, callbacks=[model_checkpoint_callback,reduce_lr])\n",
        "\n",
        "model.load_weights(checkpoint_filepath)"
      ]
    },
    {
      "cell_type": "code",
      "execution_count": 16,
      "metadata": {},
      "outputs": [],
      "source": [
        "model.save(\"CNN_imbalanced.h5\")"
      ]
    },
    {
      "cell_type": "code",
      "execution_count": 17,
      "metadata": {
        "colab": {
          "base_uri": "https://localhost:8080/"
        },
        "id": "oJ_091N4rPK8",
        "outputId": "a5e2c54c-3efd-48e7-e0f0-8d8f3bf7b3d2"
      },
      "outputs": [
        {
          "name": "stdout",
          "output_type": "stream",
          "text": [
            "390/390 [==============================] - 2s 5ms/step - loss: 0.0721 - accuracy: 0.9777\n"
          ]
        }
      ],
      "source": [
        "accr = model.evaluate(test_sequences_matrix,Y_test)"
      ]
    },
    {
      "cell_type": "code",
      "execution_count": 18,
      "metadata": {
        "colab": {
          "base_uri": "https://localhost:8080/"
        },
        "id": "LOwIyZAasKhk",
        "outputId": "131c1594-147d-4f10-abbe-d4453bb2ba32"
      },
      "outputs": [
        {
          "name": "stdout",
          "output_type": "stream",
          "text": [
            "Test set\n",
            "  Loss: 0.072\n",
            "  Accuracy: 0.978\n"
          ]
        }
      ],
      "source": [
        "print('Test set\\n  Loss: {:0.3f}\\n  Accuracy: {:0.3f}'.format(accr[0],accr[1]))"
      ]
    },
    {
      "cell_type": "code",
      "execution_count": 19,
      "metadata": {},
      "outputs": [
        {
          "name": "stdout",
          "output_type": "stream",
          "text": [
            "390/390 [==============================] - 2s 4ms/step\n"
          ]
        }
      ],
      "source": [
        "y_pred = model.predict(test_sequences_matrix)"
      ]
    },
    {
      "cell_type": "code",
      "execution_count": 20,
      "metadata": {},
      "outputs": [],
      "source": [
        "y_pred = [1 if x >= 0.5 else 0 for x in y_pred]"
      ]
    },
    {
      "cell_type": "code",
      "execution_count": 21,
      "metadata": {},
      "outputs": [
        {
          "name": "stdout",
          "output_type": "stream",
          "text": [
            "              precision    recall  f1-score   support\n",
            "\n",
            "           0   0.988479  0.987630  0.988054     11641\n",
            "           1   0.825243  0.835381  0.830281       814\n",
            "\n",
            "    accuracy                       0.977680     12455\n",
            "   macro avg   0.906861  0.911505  0.909168     12455\n",
            "weighted avg   0.977811  0.977680  0.977743     12455\n",
            "\n"
          ]
        }
      ],
      "source": [
        "print(classification_report(Y_test, y_pred, digits=6))"
      ]
    }
  ],
  "metadata": {
    "colab": {
      "provenance": []
    },
    "kernelspec": {
      "display_name": "Python 3",
      "language": "python",
      "name": "python3"
    },
    "language_info": {
      "codemirror_mode": {
        "name": "ipython",
        "version": 3
      },
      "file_extension": ".py",
      "mimetype": "text/x-python",
      "name": "python",
      "nbconvert_exporter": "python",
      "pygments_lexer": "ipython3",
      "version": "3.10.4"
    },
    "vscode": {
      "interpreter": {
        "hash": "4593b52a31704b5155580280f0f05a500adb36bf97584c7e94e26dfe17ea16d9"
      }
    }
  },
  "nbformat": 4,
  "nbformat_minor": 0
}
