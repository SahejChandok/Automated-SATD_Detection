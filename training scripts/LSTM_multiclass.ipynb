{
  "cells": [
    {
      "cell_type": "code",
      "execution_count": 1,
      "metadata": {
        "id": "100qQ50jg3gm"
      },
      "outputs": [],
      "source": [
        "import pandas as pd\n",
        "import numpy as np\n",
        "import matplotlib.pyplot as plt\n",
        "import seaborn as sns\n",
        "from sklearn.model_selection import train_test_split\n",
        "from sklearn.preprocessing import LabelEncoder\n",
        "from keras.models import Model\n",
        "from keras.layers import LSTM, Activation, Dense, Dropout, Input, Embedding, Conv2D, MaxPooling2D, Flatten, MaxPooling1D, Conv1D\n",
        "from keras.optimizers import RMSprop\n",
        "from keras.preprocessing.text import Tokenizer\n",
        "from keras.preprocessing import sequence\n",
        "from keras.utils import to_categorical\n",
        "from keras.callbacks import EarlyStopping\n",
        "import tensorflow as tf\n",
        "\n",
        "import tensorflow_addons as tfa\n",
        "from keras.utils import pad_sequences\n",
        "from sklearn.metrics import classification_report\n",
        "from sklearn.metrics import confusion_matrix"
      ]
    },
    {
      "cell_type": "code",
      "execution_count": 2,
      "metadata": {
        "id": "deniKMj_i2K7"
      },
      "outputs": [],
      "source": [
        "df=pd.read_csv('input10.csv')"
      ]
    },
    {
      "cell_type": "code",
      "execution_count": 3,
      "metadata": {
        "colab": {
          "base_uri": "https://localhost:8080/",
          "height": 206
        },
        "id": "Yx_TXEhUi71x",
        "outputId": "1ed747f9-3520-4c2e-e11d-fd31d83b653d"
      },
      "outputs": [
        {
          "data": {
            "text/html": [
              "<div>\n",
              "<style scoped>\n",
              "    .dataframe tbody tr th:only-of-type {\n",
              "        vertical-align: middle;\n",
              "    }\n",
              "\n",
              "    .dataframe tbody tr th {\n",
              "        vertical-align: top;\n",
              "    }\n",
              "\n",
              "    .dataframe thead th {\n",
              "        text-align: right;\n",
              "    }\n",
              "</style>\n",
              "<table border=\"1\" class=\"dataframe\">\n",
              "  <thead>\n",
              "    <tr style=\"text-align: right;\">\n",
              "      <th></th>\n",
              "      <th>comment</th>\n",
              "      <th>class</th>\n",
              "    </tr>\n",
              "  </thead>\n",
              "  <tbody>\n",
              "    <tr>\n",
              "      <th>0</th>\n",
              "      <td>FIXME formatters are not thread safe</td>\n",
              "      <td>DEFECT</td>\n",
              "    </tr>\n",
              "    <tr>\n",
              "      <th>1</th>\n",
              "      <td>XXX  Jon Skeet The comment \"if it hasn't bee...</td>\n",
              "      <td>DEFECT</td>\n",
              "    </tr>\n",
              "    <tr>\n",
              "      <th>2</th>\n",
              "      <td>I hate to admit it, but we don't know what h...</td>\n",
              "      <td>DEFECT</td>\n",
              "    </tr>\n",
              "    <tr>\n",
              "      <th>3</th>\n",
              "      <td>Just a note StarTeam has a status for NEW wh...</td>\n",
              "      <td>DEFECT</td>\n",
              "    </tr>\n",
              "    <tr>\n",
              "      <th>4</th>\n",
              "      <td>the generated classes must not be added in t...</td>\n",
              "      <td>DEFECT</td>\n",
              "    </tr>\n",
              "  </tbody>\n",
              "</table>\n",
              "</div>"
            ],
            "text/plain": [
              "                                             comment   class\n",
              "0               FIXME formatters are not thread safe  DEFECT\n",
              "1    XXX  Jon Skeet The comment \"if it hasn't bee...  DEFECT\n",
              "2    I hate to admit it, but we don't know what h...  DEFECT\n",
              "3    Just a note StarTeam has a status for NEW wh...  DEFECT\n",
              "4    the generated classes must not be added in t...  DEFECT"
            ]
          },
          "execution_count": 3,
          "metadata": {},
          "output_type": "execute_result"
        }
      ],
      "source": [
        "df.head()"
      ]
    },
    {
      "cell_type": "code",
      "execution_count": 4,
      "metadata": {
        "colab": {
          "base_uri": "https://localhost:8080/"
        },
        "id": "CXQ_hftEi-Db",
        "outputId": "7593243c-7ec5-4561-a87a-b1db15b1b1b0"
      },
      "outputs": [
        {
          "data": {
            "text/plain": [
              "DESIGN            2703\n",
              "IMPLEMENTATION     757\n",
              "DEFECT             472\n",
              "TEST                85\n",
              "DOCUMENTATION       54\n",
              "Name: class, dtype: int64"
            ]
          },
          "execution_count": 4,
          "metadata": {},
          "output_type": "execute_result"
        }
      ],
      "source": [
        "df['class'].value_counts()"
      ]
    },
    {
      "cell_type": "code",
      "execution_count": 5,
      "metadata": {
        "id": "yyhIkZdjjtjk"
      },
      "outputs": [
        {
          "name": "stdout",
          "output_type": "stream",
          "text": [
            "\n",
            "Multiclass Label Encodings (in order of digits 0 -> n): \n",
            "['DEFECT', 'DESIGN', 'DOCUMENTATION', 'IMPLEMENTATION', 'TEST']\n",
            "\n",
            " Class weights:\n",
            "{0: 7.625, 1: 0.5061043285238623, 2: 74.38888888888889, 3: 4.3778071334214, 4: 46.89411764705882}\n"
          ]
        }
      ],
      "source": [
        "X = df['comment']\n",
        "Y = df['class']\n",
        "le = LabelEncoder()\n",
        "Y = le.fit_transform(Y)\n",
        "\n",
        "multiclass_labels = []\n",
        "print(\"\\nMulticlass Label Encodings (in order of digits 0 -> n): \")\n",
        "for i in range(0, len(list(set(list(Y))))):\n",
        "    multiclass_labels.append(le.inverse_transform([i])[0])\n",
        "\n",
        "print(multiclass_labels)\n",
        "print(\"\\n Class weights:\")\n",
        "#print(np.unique(Y, return_counts = True))\n",
        "weight_dict = {}\n",
        "counts = np.unique(Y, return_counts = True)[1]\n",
        "total = np.sum(counts)\n",
        "for i in range (0, 5):\n",
        "    weight_dict[i] = (total - counts[i]) / counts[i]\n",
        "\n",
        "print(weight_dict)\n",
        "\n",
        "Y = Y.reshape(-1,1)"
      ]
    },
    {
      "cell_type": "code",
      "execution_count": 6,
      "metadata": {
        "id": "uvDmONGxpMq6"
      },
      "outputs": [],
      "source": [
        "X_train,X_test,Y_train,Y_test = train_test_split(X,Y,test_size=0.20, stratify=Y, random_state=42)\n",
        "\n",
        "max_words = 10000\n",
        "max_len = 250\n",
        "tok = Tokenizer(num_words=max_words)\n",
        "tok.fit_on_texts(X_train)\n",
        "train_sequences = tok.texts_to_sequences(X_train)\n",
        "train_sequences_matrix = pad_sequences(train_sequences,maxlen=max_len)\n",
        "\n",
        "test_sequences = tok.texts_to_sequences(X_test)\n",
        "test_sequences_matrix = pad_sequences(test_sequences,maxlen=max_len)"
      ]
    },
    {
      "cell_type": "code",
      "execution_count": 7,
      "metadata": {},
      "outputs": [
        {
          "name": "stdout",
          "output_type": "stream",
          "text": [
            "250\n"
          ]
        }
      ],
      "source": [
        "print(len(train_sequences_matrix[0]))"
      ]
    },
    {
      "cell_type": "code",
      "execution_count": 11,
      "metadata": {
        "id": "1JeBj-rLqGyd"
      },
      "outputs": [],
      "source": [
        "def RNN():\n",
        "    inputs = Input(name='inputs',shape=[max_len])\n",
        "    layer = Embedding(max_words,50,input_length=max_len)(inputs)\n",
        "    layer = LSTM(128)(layer)\n",
        "    layer = Dense(256,name='FC1')(layer)\n",
        "    layer = Activation('relu')(layer)\n",
        "    layer = Dropout(0.5)(layer)\n",
        "    layer = Dense(5,name='out_layer')(layer)\n",
        "    layer = Activation('softmax')(layer)\n",
        "    model = Model(inputs=inputs,outputs=layer)\n",
        "    return model"
      ]
    },
    {
      "cell_type": "code",
      "execution_count": 12,
      "metadata": {
        "colab": {
          "base_uri": "https://localhost:8080/"
        },
        "id": "wGN-X_VJqR6d",
        "outputId": "5c4a7466-789f-47eb-d636-05a049efc0e3"
      },
      "outputs": [
        {
          "name": "stdout",
          "output_type": "stream",
          "text": [
            "Model: \"model_1\"\n",
            "_________________________________________________________________\n",
            " Layer (type)                Output Shape              Param #   \n",
            "=================================================================\n",
            " inputs (InputLayer)         [(None, 250)]             0         \n",
            "                                                                 \n",
            " embedding_1 (Embedding)     (None, 250, 50)           500000    \n",
            "                                                                 \n",
            " lstm_1 (LSTM)               (None, 128)               91648     \n",
            "                                                                 \n",
            " FC1 (Dense)                 (None, 256)               33024     \n",
            "                                                                 \n",
            " activation_2 (Activation)   (None, 256)               0         \n",
            "                                                                 \n",
            " dropout_1 (Dropout)         (None, 256)               0         \n",
            "                                                                 \n",
            " out_layer (Dense)           (None, 5)                 1285      \n",
            "                                                                 \n",
            " activation_3 (Activation)   (None, 5)                 0         \n",
            "                                                                 \n",
            "=================================================================\n",
            "Total params: 625,957\n",
            "Trainable params: 625,957\n",
            "Non-trainable params: 0\n",
            "_________________________________________________________________\n"
          ]
        }
      ],
      "source": [
        "model = RNN()\n",
        "model.summary()\n",
        "#opt = tf.keras.optimizers.Adadelta(learning_rate=0.1)\n",
        "#opt = tf.keras.optimizers.Adam(learning_rate=0.001)\n",
        "opt = tfa.optimizers.AdaBelief(learning_rate=5e-3)\n",
        "model.compile(loss='sparse_categorical_crossentropy',optimizer=opt,metrics=['sparse_categorical_accuracy'])"
      ]
    },
    {
      "cell_type": "code",
      "execution_count": 13,
      "metadata": {
        "colab": {
          "base_uri": "https://localhost:8080/"
        },
        "id": "e2DKhNZoqYJM",
        "outputId": "38044ab8-4a91-4202-b6b7-ed74fdf837bc"
      },
      "outputs": [
        {
          "name": "stdout",
          "output_type": "stream",
          "text": [
            "Epoch 1/50\n",
            "21/21 [==============================] - 3s 65ms/step - loss: 6.1152 - sparse_categorical_accuracy: 0.1425 - val_loss: 1.6321 - val_sparse_categorical_accuracy: 0.1718 - lr: 0.0050\n",
            "Epoch 2/50\n",
            "21/21 [==============================] - 1s 39ms/step - loss: 6.0335 - sparse_categorical_accuracy: 0.1563 - val_loss: 2.2445 - val_sparse_categorical_accuracy: 0.1948 - lr: 0.0050\n",
            "Epoch 3/50\n",
            "21/21 [==============================] - 1s 40ms/step - loss: 5.9271 - sparse_categorical_accuracy: 0.1390 - val_loss: 1.8500 - val_sparse_categorical_accuracy: 0.1380 - lr: 0.0050\n",
            "Epoch 4/50\n",
            "21/21 [==============================] - 1s 40ms/step - loss: 5.6340 - sparse_categorical_accuracy: 0.1217 - val_loss: 1.8844 - val_sparse_categorical_accuracy: 0.2055 - lr: 0.0050\n",
            "Epoch 5/50\n",
            "21/21 [==============================] - 1s 38ms/step - loss: 4.7107 - sparse_categorical_accuracy: 0.1628 - val_loss: 1.8218 - val_sparse_categorical_accuracy: 0.2500 - lr: 0.0050\n",
            "Epoch 6/50\n",
            "21/21 [==============================] - 1s 37ms/step - loss: 3.2139 - sparse_categorical_accuracy: 0.2427 - val_loss: 1.6955 - val_sparse_categorical_accuracy: 0.2561 - lr: 0.0050\n",
            "Epoch 7/50\n",
            "21/21 [==============================] - 1s 45ms/step - loss: 2.1125 - sparse_categorical_accuracy: 0.2896 - val_loss: 1.5159 - val_sparse_categorical_accuracy: 0.3083 - lr: 0.0025\n",
            "Epoch 8/50\n",
            "21/21 [==============================] - 1s 43ms/step - loss: 1.6634 - sparse_categorical_accuracy: 0.3940 - val_loss: 1.4517 - val_sparse_categorical_accuracy: 0.3574 - lr: 0.0025\n",
            "Epoch 9/50\n",
            "21/21 [==============================] - 1s 38ms/step - loss: 1.3892 - sparse_categorical_accuracy: 0.5330 - val_loss: 1.4920 - val_sparse_categorical_accuracy: 0.4034 - lr: 0.0025\n",
            "Epoch 10/50\n",
            "21/21 [==============================] - 1s 42ms/step - loss: 1.0444 - sparse_categorical_accuracy: 0.6248 - val_loss: 1.2005 - val_sparse_categorical_accuracy: 0.5460 - lr: 0.0025\n",
            "Epoch 11/50\n",
            "21/21 [==============================] - 1s 42ms/step - loss: 0.9450 - sparse_categorical_accuracy: 0.6855 - val_loss: 1.1806 - val_sparse_categorical_accuracy: 0.5675 - lr: 0.0025\n",
            "Epoch 12/50\n",
            "21/21 [==============================] - 1s 44ms/step - loss: 0.8600 - sparse_categorical_accuracy: 0.7254 - val_loss: 1.0846 - val_sparse_categorical_accuracy: 0.6089 - lr: 0.0025\n",
            "Epoch 13/50\n",
            "21/21 [==============================] - 1s 37ms/step - loss: 0.7259 - sparse_categorical_accuracy: 0.7596 - val_loss: 1.2114 - val_sparse_categorical_accuracy: 0.5966 - lr: 0.0025\n",
            "Epoch 14/50\n",
            "21/21 [==============================] - 1s 39ms/step - loss: 0.5909 - sparse_categorical_accuracy: 0.7819 - val_loss: 1.2312 - val_sparse_categorical_accuracy: 0.6089 - lr: 0.0025\n",
            "Epoch 15/50\n",
            "21/21 [==============================] - 1s 41ms/step - loss: 0.4751 - sparse_categorical_accuracy: 0.8287 - val_loss: 1.2481 - val_sparse_categorical_accuracy: 0.6258 - lr: 0.0025\n",
            "Epoch 16/50\n",
            "21/21 [==============================] - 1s 37ms/step - loss: 0.4073 - sparse_categorical_accuracy: 0.8518 - val_loss: 1.2899 - val_sparse_categorical_accuracy: 0.6610 - lr: 0.0025\n",
            "Epoch 17/50\n",
            "21/21 [==============================] - 1s 40ms/step - loss: 0.3694 - sparse_categorical_accuracy: 0.8694 - val_loss: 1.4658 - val_sparse_categorical_accuracy: 0.6258 - lr: 0.0025\n",
            "Epoch 18/50\n",
            "21/21 [==============================] - 1s 39ms/step - loss: 0.3026 - sparse_categorical_accuracy: 0.8886 - val_loss: 1.3627 - val_sparse_categorical_accuracy: 0.6610 - lr: 0.0012\n",
            "Epoch 19/50\n",
            "21/21 [==============================] - 1s 41ms/step - loss: 0.2622 - sparse_categorical_accuracy: 0.9032 - val_loss: 1.3856 - val_sparse_categorical_accuracy: 0.6702 - lr: 0.0012\n",
            "Epoch 20/50\n",
            "21/21 [==============================] - 1s 40ms/step - loss: 0.2512 - sparse_categorical_accuracy: 0.9094 - val_loss: 1.4280 - val_sparse_categorical_accuracy: 0.6687 - lr: 0.0012\n",
            "Epoch 21/50\n",
            "21/21 [==============================] - 1s 38ms/step - loss: 0.2215 - sparse_categorical_accuracy: 0.9144 - val_loss: 1.4101 - val_sparse_categorical_accuracy: 0.6748 - lr: 0.0012\n",
            "Epoch 22/50\n",
            "21/21 [==============================] - 1s 39ms/step - loss: 0.2061 - sparse_categorical_accuracy: 0.9205 - val_loss: 1.5052 - val_sparse_categorical_accuracy: 0.6764 - lr: 0.0012\n",
            "Epoch 23/50\n",
            "21/21 [==============================] - 1s 37ms/step - loss: 0.1822 - sparse_categorical_accuracy: 0.9274 - val_loss: 1.4881 - val_sparse_categorical_accuracy: 0.6887 - lr: 6.2500e-04\n",
            "Epoch 24/50\n",
            "21/21 [==============================] - 1s 39ms/step - loss: 0.1956 - sparse_categorical_accuracy: 0.9259 - val_loss: 1.5290 - val_sparse_categorical_accuracy: 0.6871 - lr: 6.2500e-04\n",
            "Epoch 25/50\n",
            "21/21 [==============================] - 1s 38ms/step - loss: 0.1796 - sparse_categorical_accuracy: 0.9274 - val_loss: 1.5098 - val_sparse_categorical_accuracy: 0.7009 - lr: 6.2500e-04\n",
            "Epoch 26/50\n",
            "21/21 [==============================] - 1s 37ms/step - loss: 0.2030 - sparse_categorical_accuracy: 0.9313 - val_loss: 1.5666 - val_sparse_categorical_accuracy: 0.6748 - lr: 6.2500e-04\n",
            "Epoch 27/50\n",
            "21/21 [==============================] - 1s 38ms/step - loss: 0.1900 - sparse_categorical_accuracy: 0.9332 - val_loss: 1.5354 - val_sparse_categorical_accuracy: 0.6779 - lr: 6.2500e-04\n",
            "Epoch 28/50\n",
            "21/21 [==============================] - 1s 36ms/step - loss: 0.1654 - sparse_categorical_accuracy: 0.9347 - val_loss: 1.4901 - val_sparse_categorical_accuracy: 0.7117 - lr: 3.1250e-04\n",
            "Epoch 29/50\n",
            "21/21 [==============================] - 1s 37ms/step - loss: 0.1522 - sparse_categorical_accuracy: 0.9397 - val_loss: 1.5380 - val_sparse_categorical_accuracy: 0.6979 - lr: 3.1250e-04\n",
            "Epoch 30/50\n",
            "21/21 [==============================] - 1s 37ms/step - loss: 0.1463 - sparse_categorical_accuracy: 0.9466 - val_loss: 1.5527 - val_sparse_categorical_accuracy: 0.7055 - lr: 3.1250e-04\n",
            "Epoch 31/50\n",
            "21/21 [==============================] - 1s 37ms/step - loss: 0.1410 - sparse_categorical_accuracy: 0.9462 - val_loss: 1.5953 - val_sparse_categorical_accuracy: 0.7055 - lr: 3.1250e-04\n",
            "Epoch 32/50\n",
            "21/21 [==============================] - 1s 37ms/step - loss: 0.1438 - sparse_categorical_accuracy: 0.9416 - val_loss: 1.5818 - val_sparse_categorical_accuracy: 0.7147 - lr: 3.1250e-04\n",
            "Epoch 33/50\n",
            "21/21 [==============================] - 1s 37ms/step - loss: 0.1286 - sparse_categorical_accuracy: 0.9531 - val_loss: 1.6125 - val_sparse_categorical_accuracy: 0.7101 - lr: 1.5625e-04\n",
            "Epoch 34/50\n",
            "21/21 [==============================] - 1s 39ms/step - loss: 0.1384 - sparse_categorical_accuracy: 0.9447 - val_loss: 1.6169 - val_sparse_categorical_accuracy: 0.7086 - lr: 1.5625e-04\n",
            "Epoch 35/50\n",
            "21/21 [==============================] - 1s 37ms/step - loss: 0.1338 - sparse_categorical_accuracy: 0.9516 - val_loss: 1.6254 - val_sparse_categorical_accuracy: 0.7055 - lr: 1.5625e-04\n",
            "Epoch 36/50\n",
            "21/21 [==============================] - 1s 39ms/step - loss: 0.1334 - sparse_categorical_accuracy: 0.9485 - val_loss: 1.6291 - val_sparse_categorical_accuracy: 0.7117 - lr: 1.5625e-04\n",
            "Epoch 37/50\n",
            "21/21 [==============================] - 1s 38ms/step - loss: 0.1261 - sparse_categorical_accuracy: 0.9531 - val_loss: 1.6604 - val_sparse_categorical_accuracy: 0.7101 - lr: 1.5625e-04\n",
            "Epoch 38/50\n",
            "21/21 [==============================] - 1s 38ms/step - loss: 0.1440 - sparse_categorical_accuracy: 0.9451 - val_loss: 1.6492 - val_sparse_categorical_accuracy: 0.7086 - lr: 7.8125e-05\n",
            "Epoch 39/50\n",
            "21/21 [==============================] - 1s 39ms/step - loss: 0.1264 - sparse_categorical_accuracy: 0.9531 - val_loss: 1.6459 - val_sparse_categorical_accuracy: 0.7147 - lr: 7.8125e-05\n",
            "Epoch 40/50\n",
            "21/21 [==============================] - 1s 39ms/step - loss: 0.1328 - sparse_categorical_accuracy: 0.9531 - val_loss: 1.6646 - val_sparse_categorical_accuracy: 0.7132 - lr: 7.8125e-05\n",
            "Epoch 41/50\n",
            "21/21 [==============================] - 1s 38ms/step - loss: 0.1294 - sparse_categorical_accuracy: 0.9535 - val_loss: 1.6594 - val_sparse_categorical_accuracy: 0.7101 - lr: 7.8125e-05\n",
            "Epoch 42/50\n",
            "21/21 [==============================] - 1s 41ms/step - loss: 0.1245 - sparse_categorical_accuracy: 0.9562 - val_loss: 1.6703 - val_sparse_categorical_accuracy: 0.7132 - lr: 7.8125e-05\n",
            "Epoch 43/50\n",
            "21/21 [==============================] - 1s 38ms/step - loss: 0.1277 - sparse_categorical_accuracy: 0.9558 - val_loss: 1.6680 - val_sparse_categorical_accuracy: 0.7117 - lr: 3.9062e-05\n",
            "Epoch 44/50\n",
            "21/21 [==============================] - 1s 38ms/step - loss: 0.1228 - sparse_categorical_accuracy: 0.9508 - val_loss: 1.6716 - val_sparse_categorical_accuracy: 0.7086 - lr: 3.9062e-05\n",
            "Epoch 45/50\n",
            "21/21 [==============================] - 1s 38ms/step - loss: 0.1252 - sparse_categorical_accuracy: 0.9562 - val_loss: 1.6735 - val_sparse_categorical_accuracy: 0.7147 - lr: 3.9062e-05\n",
            "Epoch 46/50\n",
            "21/21 [==============================] - 1s 39ms/step - loss: 0.1321 - sparse_categorical_accuracy: 0.9551 - val_loss: 1.6787 - val_sparse_categorical_accuracy: 0.7132 - lr: 3.9062e-05\n",
            "Epoch 47/50\n",
            "21/21 [==============================] - 1s 37ms/step - loss: 0.1204 - sparse_categorical_accuracy: 0.9562 - val_loss: 1.6861 - val_sparse_categorical_accuracy: 0.7147 - lr: 3.9062e-05\n",
            "Epoch 48/50\n",
            "21/21 [==============================] - 1s 37ms/step - loss: 0.1224 - sparse_categorical_accuracy: 0.9535 - val_loss: 1.6885 - val_sparse_categorical_accuracy: 0.7147 - lr: 1.9531e-05\n",
            "Epoch 49/50\n",
            "21/21 [==============================] - 1s 43ms/step - loss: 0.1218 - sparse_categorical_accuracy: 0.9528 - val_loss: 1.6905 - val_sparse_categorical_accuracy: 0.7147 - lr: 1.9531e-05\n",
            "Epoch 50/50\n",
            "21/21 [==============================] - 1s 39ms/step - loss: 0.1183 - sparse_categorical_accuracy: 0.9555 - val_loss: 1.6921 - val_sparse_categorical_accuracy: 0.7163 - lr: 1.9531e-05\n"
          ]
        },
        {
          "data": {
            "text/plain": [
              "<tensorflow.python.checkpoint.checkpoint.CheckpointLoadStatus at 0x1eac11a3760>"
            ]
          },
          "execution_count": 13,
          "metadata": {},
          "output_type": "execute_result"
        }
      ],
      "source": [
        "#model.fit(sequences_matrix,Y_train,batch_size=128,epochs=10,validation_split=0.2,callbacks=[EarlyStopping(monitor='val_loss',min_delta=0.0001)])\n",
        "checkpoint_filepath = './checkpoint'\n",
        "model_checkpoint_callback = tf.keras.callbacks.ModelCheckpoint(\n",
        "                filepath=checkpoint_filepath,\n",
        "                save_weights_only=True,\n",
        "                monitor='val_loss',\n",
        "                mode='min',\n",
        "                save_best_only=True\n",
        ")\n",
        "\n",
        "reduce_lr = tf.keras.callbacks.ReduceLROnPlateau(monitor='val_loss', factor=0.5,\n",
        "                              patience=5, min_lr=0.000001)\n",
        "\n",
        "model.fit(train_sequences_matrix,Y_train,batch_size=128,epochs=50,validation_split=0.2, callbacks=[model_checkpoint_callback,reduce_lr], class_weight=weight_dict)\n",
        "\n",
        "model.load_weights(checkpoint_filepath)"
      ]
    },
    {
      "cell_type": "code",
      "execution_count": 14,
      "metadata": {},
      "outputs": [],
      "source": [
        "model.save(\"LSTM_imbalanced_multi.h5\")"
      ]
    },
    {
      "cell_type": "code",
      "execution_count": 15,
      "metadata": {
        "colab": {
          "base_uri": "https://localhost:8080/"
        },
        "id": "oJ_091N4rPK8",
        "outputId": "a5e2c54c-3efd-48e7-e0f0-8d8f3bf7b3d2"
      },
      "outputs": [
        {
          "name": "stdout",
          "output_type": "stream",
          "text": [
            "26/26 [==============================] - 0s 15ms/step - loss: 1.0722 - sparse_categorical_accuracy: 0.5816\n"
          ]
        }
      ],
      "source": [
        "accr = model.evaluate(test_sequences_matrix,Y_test)"
      ]
    },
    {
      "cell_type": "code",
      "execution_count": 16,
      "metadata": {
        "colab": {
          "base_uri": "https://localhost:8080/"
        },
        "id": "LOwIyZAasKhk",
        "outputId": "131c1594-147d-4f10-abbe-d4453bb2ba32"
      },
      "outputs": [
        {
          "name": "stdout",
          "output_type": "stream",
          "text": [
            "Test set\n",
            "  Loss: 1.072\n",
            "  Accuracy: 0.582\n"
          ]
        }
      ],
      "source": [
        "print('Test set\\n  Loss: {:0.3f}\\n  Accuracy: {:0.3f}'.format(accr[0],accr[1]))"
      ]
    },
    {
      "cell_type": "code",
      "execution_count": 17,
      "metadata": {},
      "outputs": [
        {
          "name": "stdout",
          "output_type": "stream",
          "text": [
            "26/26 [==============================] - 1s 14ms/step\n"
          ]
        }
      ],
      "source": [
        "y_pred = model.predict(test_sequences_matrix)"
      ]
    },
    {
      "cell_type": "code",
      "execution_count": 18,
      "metadata": {},
      "outputs": [],
      "source": [
        "y_pred2 = [np.argmax(x) for x in y_pred]"
      ]
    },
    {
      "cell_type": "code",
      "execution_count": 19,
      "metadata": {},
      "outputs": [
        {
          "name": "stdout",
          "output_type": "stream",
          "text": [
            "                precision    recall  f1-score   support\n",
            "\n",
            "        DEFECT   0.393939  0.553191  0.460177        94\n",
            "        DESIGN   0.830688  0.580407  0.683351       541\n",
            " DOCUMENTATION   0.146341  0.545455  0.230769        11\n",
            "IMPLEMENTATION   0.406780  0.631579  0.494845       152\n",
            "          TEST   0.214286  0.352941  0.266667        17\n",
            "\n",
            "      accuracy                       0.581595       815\n",
            "     macro avg   0.398407  0.532715  0.427162       815\n",
            "  weighted avg   0.679160  0.581595  0.607654       815\n",
            "\n"
          ]
        }
      ],
      "source": [
        "print(classification_report(Y_test, y_pred2, digits=6, target_names=multiclass_labels))"
      ]
    }
  ],
  "metadata": {
    "colab": {
      "provenance": []
    },
    "kernelspec": {
      "display_name": "Python 3",
      "language": "python",
      "name": "python3"
    },
    "language_info": {
      "codemirror_mode": {
        "name": "ipython",
        "version": 3
      },
      "file_extension": ".py",
      "mimetype": "text/x-python",
      "name": "python",
      "nbconvert_exporter": "python",
      "pygments_lexer": "ipython3",
      "version": "3.10.4"
    },
    "vscode": {
      "interpreter": {
        "hash": "4593b52a31704b5155580280f0f05a500adb36bf97584c7e94e26dfe17ea16d9"
      }
    }
  },
  "nbformat": 4,
  "nbformat_minor": 0
}
