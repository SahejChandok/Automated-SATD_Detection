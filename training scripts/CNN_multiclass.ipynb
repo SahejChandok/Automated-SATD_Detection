{
  "cells": [
    {
      "cell_type": "code",
      "execution_count": 1,
      "metadata": {
        "id": "100qQ50jg3gm"
      },
      "outputs": [],
      "source": [
        "import pandas as pd\n",
        "import numpy as np\n",
        "import matplotlib.pyplot as plt\n",
        "import seaborn as sns\n",
        "from sklearn.model_selection import train_test_split\n",
        "from sklearn.preprocessing import LabelEncoder\n",
        "from keras.models import Model\n",
        "from keras.layers import LSTM, Activation, Dense, Dropout, Input, Embedding, Conv2D, MaxPooling2D, Flatten, MaxPooling1D, Conv1D\n",
        "from keras.optimizers import RMSprop\n",
        "from keras.preprocessing.text import Tokenizer\n",
        "from keras.preprocessing import sequence\n",
        "from keras.utils import to_categorical\n",
        "from keras.callbacks import EarlyStopping\n",
        "import tensorflow as tf\n",
        "\n",
        "import tensorflow_addons as tfa\n",
        "from keras.utils import pad_sequences\n",
        "from sklearn.metrics import classification_report\n",
        "from sklearn.metrics import confusion_matrix"
      ]
    },
    {
      "cell_type": "code",
      "execution_count": 7,
      "metadata": {
        "id": "deniKMj_i2K7"
      },
      "outputs": [],
      "source": [
        "df=pd.read_csv('input10.csv')"
      ]
    },
    {
      "cell_type": "code",
      "execution_count": 8,
      "metadata": {
        "colab": {
          "base_uri": "https://localhost:8080/",
          "height": 206
        },
        "id": "Yx_TXEhUi71x",
        "outputId": "1ed747f9-3520-4c2e-e11d-fd31d83b653d"
      },
      "outputs": [
        {
          "data": {
            "text/html": [
              "<div>\n",
              "<style scoped>\n",
              "    .dataframe tbody tr th:only-of-type {\n",
              "        vertical-align: middle;\n",
              "    }\n",
              "\n",
              "    .dataframe tbody tr th {\n",
              "        vertical-align: top;\n",
              "    }\n",
              "\n",
              "    .dataframe thead th {\n",
              "        text-align: right;\n",
              "    }\n",
              "</style>\n",
              "<table border=\"1\" class=\"dataframe\">\n",
              "  <thead>\n",
              "    <tr style=\"text-align: right;\">\n",
              "      <th></th>\n",
              "      <th>comment</th>\n",
              "      <th>class</th>\n",
              "    </tr>\n",
              "  </thead>\n",
              "  <tbody>\n",
              "    <tr>\n",
              "      <th>0</th>\n",
              "      <td>FIXME formatters are not thread safe</td>\n",
              "      <td>DEFECT</td>\n",
              "    </tr>\n",
              "    <tr>\n",
              "      <th>1</th>\n",
              "      <td>XXX  Jon Skeet The comment \"if it hasn't bee...</td>\n",
              "      <td>DEFECT</td>\n",
              "    </tr>\n",
              "    <tr>\n",
              "      <th>2</th>\n",
              "      <td>I hate to admit it, but we don't know what h...</td>\n",
              "      <td>DEFECT</td>\n",
              "    </tr>\n",
              "    <tr>\n",
              "      <th>3</th>\n",
              "      <td>Just a note StarTeam has a status for NEW wh...</td>\n",
              "      <td>DEFECT</td>\n",
              "    </tr>\n",
              "    <tr>\n",
              "      <th>4</th>\n",
              "      <td>the generated classes must not be added in t...</td>\n",
              "      <td>DEFECT</td>\n",
              "    </tr>\n",
              "  </tbody>\n",
              "</table>\n",
              "</div>"
            ],
            "text/plain": [
              "                                             comment   class\n",
              "0               FIXME formatters are not thread safe  DEFECT\n",
              "1    XXX  Jon Skeet The comment \"if it hasn't bee...  DEFECT\n",
              "2    I hate to admit it, but we don't know what h...  DEFECT\n",
              "3    Just a note StarTeam has a status for NEW wh...  DEFECT\n",
              "4    the generated classes must not be added in t...  DEFECT"
            ]
          },
          "execution_count": 8,
          "metadata": {},
          "output_type": "execute_result"
        }
      ],
      "source": [
        "df.head()"
      ]
    },
    {
      "cell_type": "code",
      "execution_count": 10,
      "metadata": {
        "colab": {
          "base_uri": "https://localhost:8080/"
        },
        "id": "CXQ_hftEi-Db",
        "outputId": "7593243c-7ec5-4561-a87a-b1db15b1b1b0"
      },
      "outputs": [
        {
          "data": {
            "text/plain": [
              "DESIGN            2703\n",
              "IMPLEMENTATION     757\n",
              "DEFECT             472\n",
              "TEST                85\n",
              "DOCUMENTATION       54\n",
              "Name: class, dtype: int64"
            ]
          },
          "execution_count": 10,
          "metadata": {},
          "output_type": "execute_result"
        }
      ],
      "source": [
        "df['class'].value_counts()"
      ]
    },
    {
      "cell_type": "code",
      "execution_count": 64,
      "metadata": {
        "id": "yyhIkZdjjtjk"
      },
      "outputs": [
        {
          "name": "stdout",
          "output_type": "stream",
          "text": [
            "\n",
            "Multiclass Label Encodings (in order of digits 0 -> n): \n",
            "['DEFECT', 'DESIGN', 'DOCUMENTATION', 'IMPLEMENTATION', 'TEST']\n",
            "\n",
            " Class weights:\n",
            "{0: 7.625, 1: 0.5061043285238623, 2: 74.38888888888889, 3: 4.3778071334214, 4: 46.89411764705882}\n"
          ]
        }
      ],
      "source": [
        "X = df['comment']\n",
        "Y = df['class']\n",
        "le = LabelEncoder()\n",
        "Y = le.fit_transform(Y)\n",
        "\n",
        "multiclass_labels = []\n",
        "print(\"\\nMulticlass Label Encodings (in order of digits 0 -> n): \")\n",
        "for i in range(0, len(list(set(list(Y))))):\n",
        "    multiclass_labels.append(le.inverse_transform([i])[0])\n",
        "\n",
        "print(multiclass_labels)\n",
        "print(\"\\n Class weights:\")\n",
        "#print(np.unique(Y, return_counts = True))\n",
        "weight_dict = {}\n",
        "counts = np.unique(Y, return_counts = True)[1]\n",
        "total = np.sum(counts)\n",
        "for i in range (0, 5):\n",
        "    weight_dict[i] = (total - counts[i]) / counts[i]\n",
        "\n",
        "print(weight_dict)\n",
        "\n",
        "Y = Y.reshape(-1,1)"
      ]
    },
    {
      "cell_type": "code",
      "execution_count": 65,
      "metadata": {
        "id": "uvDmONGxpMq6"
      },
      "outputs": [],
      "source": [
        "X_train,X_test,Y_train,Y_test = train_test_split(X,Y,test_size=0.20, stratify=Y, random_state=42)\n",
        "\n",
        "max_words = 10000\n",
        "max_len = 250\n",
        "tok = Tokenizer(num_words=max_words)\n",
        "tok.fit_on_texts(X_train)\n",
        "train_sequences = tok.texts_to_sequences(X_train)\n",
        "train_sequences_matrix = pad_sequences(train_sequences,maxlen=max_len)\n",
        "\n",
        "test_sequences = tok.texts_to_sequences(X_test)\n",
        "test_sequences_matrix = pad_sequences(test_sequences,maxlen=max_len)"
      ]
    },
    {
      "cell_type": "code",
      "execution_count": 66,
      "metadata": {},
      "outputs": [
        {
          "name": "stdout",
          "output_type": "stream",
          "text": [
            "250\n"
          ]
        }
      ],
      "source": [
        "print(len(train_sequences_matrix[0]))"
      ]
    },
    {
      "cell_type": "code",
      "execution_count": 163,
      "metadata": {
        "id": "1JeBj-rLqGyd"
      },
      "outputs": [],
      "source": [
        "def CNN():\n",
        "    cnn = tf.keras.Sequential()\n",
        "    cnn.add(Input(name='inputs',shape=[max_len]))\n",
        "    cnn.add(Embedding(max_words,50,input_length=max_len))\n",
        "    cnn.add(Conv1D(128, kernel_size=3, activation='relu', padding=\"same\"))\n",
        "    cnn.add(MaxPooling1D(pool_size=2))\n",
        "    cnn.add(Conv1D(256, kernel_size=3, activation='relu', padding=\"same\"))\n",
        "    cnn.add(MaxPooling1D(pool_size=2))\n",
        "    cnn.add(Conv1D(512, kernel_size=3, activation='relu', padding=\"same\"))\n",
        "    cnn.add(MaxPooling1D(pool_size=2))\n",
        "\n",
        "    cnn.add(Flatten())\n",
        "    cnn.add(Dense(256, activation ='relu'))\n",
        "    cnn.add(Dense(64, activation ='relu'))\n",
        "    cnn.add(Dense(5, activation='softmax'))\n",
        "\n",
        "    return cnn"
      ]
    },
    {
      "cell_type": "code",
      "execution_count": 164,
      "metadata": {
        "colab": {
          "base_uri": "https://localhost:8080/"
        },
        "id": "wGN-X_VJqR6d",
        "outputId": "5c4a7466-789f-47eb-d636-05a049efc0e3"
      },
      "outputs": [
        {
          "name": "stdout",
          "output_type": "stream",
          "text": [
            "Model: \"sequential_37\"\n",
            "_________________________________________________________________\n",
            " Layer (type)                Output Shape              Param #   \n",
            "=================================================================\n",
            " embedding_35 (Embedding)    (None, 250, 50)           500000    \n",
            "                                                                 \n",
            " conv1d_85 (Conv1D)          (None, 250, 128)          19328     \n",
            "                                                                 \n",
            " max_pooling1d_85 (MaxPoolin  (None, 125, 128)         0         \n",
            " g1D)                                                            \n",
            "                                                                 \n",
            " conv1d_86 (Conv1D)          (None, 125, 256)          98560     \n",
            "                                                                 \n",
            " max_pooling1d_86 (MaxPoolin  (None, 62, 256)          0         \n",
            " g1D)                                                            \n",
            "                                                                 \n",
            " conv1d_87 (Conv1D)          (None, 62, 512)           393728    \n",
            "                                                                 \n",
            " max_pooling1d_87 (MaxPoolin  (None, 31, 512)          0         \n",
            " g1D)                                                            \n",
            "                                                                 \n",
            " flatten_34 (Flatten)        (None, 15872)             0         \n",
            "                                                                 \n",
            " dense_107 (Dense)           (None, 256)               4063488   \n",
            "                                                                 \n",
            " dense_108 (Dense)           (None, 64)                16448     \n",
            "                                                                 \n",
            " dense_109 (Dense)           (None, 5)                 325       \n",
            "                                                                 \n",
            "=================================================================\n",
            "Total params: 5,091,877\n",
            "Trainable params: 5,091,877\n",
            "Non-trainable params: 0\n",
            "_________________________________________________________________\n"
          ]
        }
      ],
      "source": [
        "model = CNN()\n",
        "model.summary()\n",
        "#opt = tf.keras.optimizers.Adadelta(learning_rate=0.1)\n",
        "opt = tf.keras.optimizers.Adam(learning_rate=0.001)\n",
        "model.compile(loss='sparse_categorical_crossentropy',optimizer=opt,metrics=['sparse_categorical_accuracy'])"
      ]
    },
    {
      "cell_type": "code",
      "execution_count": 165,
      "metadata": {
        "colab": {
          "base_uri": "https://localhost:8080/"
        },
        "id": "e2DKhNZoqYJM",
        "outputId": "38044ab8-4a91-4202-b6b7-ed74fdf837bc"
      },
      "outputs": [
        {
          "name": "stdout",
          "output_type": "stream",
          "text": [
            "Epoch 1/50\n",
            "21/21 [==============================] - 1s 36ms/step - loss: 6.1043 - sparse_categorical_accuracy: 0.0499 - val_loss: 2.1450 - val_sparse_categorical_accuracy: 0.0261 - lr: 0.0010\n",
            "Epoch 2/50\n",
            "21/21 [==============================] - 1s 30ms/step - loss: 5.8439 - sparse_categorical_accuracy: 0.0300 - val_loss: 2.0938 - val_sparse_categorical_accuracy: 0.1242 - lr: 0.0010\n",
            "Epoch 3/50\n",
            "21/21 [==============================] - 1s 31ms/step - loss: 4.9082 - sparse_categorical_accuracy: 0.1793 - val_loss: 2.0411 - val_sparse_categorical_accuracy: 0.1074 - lr: 0.0010\n",
            "Epoch 4/50\n",
            "21/21 [==============================] - 1s 31ms/step - loss: 3.6744 - sparse_categorical_accuracy: 0.1486 - val_loss: 1.7538 - val_sparse_categorical_accuracy: 0.2730 - lr: 0.0010\n",
            "Epoch 5/50\n",
            "21/21 [==============================] - 0s 23ms/step - loss: 3.1102 - sparse_categorical_accuracy: 0.1778 - val_loss: 2.0661 - val_sparse_categorical_accuracy: 0.2439 - lr: 0.0010\n",
            "Epoch 6/50\n",
            "21/21 [==============================] - 1s 31ms/step - loss: 2.5107 - sparse_categorical_accuracy: 0.2031 - val_loss: 1.7216 - val_sparse_categorical_accuracy: 0.2991 - lr: 0.0010\n",
            "Epoch 7/50\n",
            "21/21 [==============================] - 0s 22ms/step - loss: 2.0332 - sparse_categorical_accuracy: 0.5111 - val_loss: 1.7986 - val_sparse_categorical_accuracy: 0.4049 - lr: 0.0010\n",
            "Epoch 8/50\n",
            "21/21 [==============================] - 1s 31ms/step - loss: 1.8912 - sparse_categorical_accuracy: 0.5684 - val_loss: 1.5284 - val_sparse_categorical_accuracy: 0.4601 - lr: 0.0010\n",
            "Epoch 9/50\n",
            "21/21 [==============================] - 0s 23ms/step - loss: 1.3333 - sparse_categorical_accuracy: 0.7143 - val_loss: 1.8172 - val_sparse_categorical_accuracy: 0.5107 - lr: 0.0010\n",
            "Epoch 10/50\n",
            "21/21 [==============================] - 0s 23ms/step - loss: 0.7347 - sparse_categorical_accuracy: 0.8107 - val_loss: 1.8084 - val_sparse_categorical_accuracy: 0.5567 - lr: 0.0010\n",
            "Epoch 11/50\n",
            "21/21 [==============================] - 0s 22ms/step - loss: 0.8371 - sparse_categorical_accuracy: 0.7803 - val_loss: 2.0120 - val_sparse_categorical_accuracy: 0.5000 - lr: 0.0010\n",
            "Epoch 12/50\n",
            "21/21 [==============================] - 0s 22ms/step - loss: 1.0771 - sparse_categorical_accuracy: 0.7266 - val_loss: 3.0609 - val_sparse_categorical_accuracy: 0.2837 - lr: 0.0010\n",
            "Epoch 13/50\n",
            "21/21 [==============================] - 0s 22ms/step - loss: 1.1557 - sparse_categorical_accuracy: 0.6356 - val_loss: 1.7231 - val_sparse_categorical_accuracy: 0.4525 - lr: 0.0010\n",
            "Epoch 14/50\n",
            "21/21 [==============================] - 0s 22ms/step - loss: 0.6367 - sparse_categorical_accuracy: 0.7623 - val_loss: 1.6270 - val_sparse_categorical_accuracy: 0.5015 - lr: 5.0000e-04\n",
            "Epoch 15/50\n",
            "21/21 [==============================] - 0s 23ms/step - loss: 0.3580 - sparse_categorical_accuracy: 0.8856 - val_loss: 1.7085 - val_sparse_categorical_accuracy: 0.5399 - lr: 5.0000e-04\n",
            "Epoch 16/50\n",
            "21/21 [==============================] - 0s 22ms/step - loss: 0.2318 - sparse_categorical_accuracy: 0.9316 - val_loss: 1.8959 - val_sparse_categorical_accuracy: 0.5414 - lr: 5.0000e-04\n",
            "Epoch 17/50\n",
            "21/21 [==============================] - 0s 22ms/step - loss: 0.1773 - sparse_categorical_accuracy: 0.9508 - val_loss: 2.0197 - val_sparse_categorical_accuracy: 0.5368 - lr: 5.0000e-04\n",
            "Epoch 18/50\n",
            "21/21 [==============================] - 0s 22ms/step - loss: 0.1427 - sparse_categorical_accuracy: 0.9543 - val_loss: 1.9850 - val_sparse_categorical_accuracy: 0.5721 - lr: 5.0000e-04\n",
            "Epoch 19/50\n",
            "21/21 [==============================] - 0s 22ms/step - loss: 0.1265 - sparse_categorical_accuracy: 0.9651 - val_loss: 2.0695 - val_sparse_categorical_accuracy: 0.5521 - lr: 2.5000e-04\n",
            "Epoch 20/50\n",
            "21/21 [==============================] - 0s 22ms/step - loss: 0.1182 - sparse_categorical_accuracy: 0.9624 - val_loss: 2.0727 - val_sparse_categorical_accuracy: 0.5752 - lr: 2.5000e-04\n",
            "Epoch 21/50\n",
            "21/21 [==============================] - 0s 22ms/step - loss: 0.1152 - sparse_categorical_accuracy: 0.9666 - val_loss: 2.0801 - val_sparse_categorical_accuracy: 0.5675 - lr: 2.5000e-04\n",
            "Epoch 22/50\n",
            "21/21 [==============================] - 0s 22ms/step - loss: 0.1080 - sparse_categorical_accuracy: 0.9662 - val_loss: 2.1128 - val_sparse_categorical_accuracy: 0.5644 - lr: 2.5000e-04\n",
            "Epoch 23/50\n",
            "21/21 [==============================] - 0s 22ms/step - loss: 0.1033 - sparse_categorical_accuracy: 0.9716 - val_loss: 2.1454 - val_sparse_categorical_accuracy: 0.5629 - lr: 2.5000e-04\n",
            "Epoch 24/50\n",
            "21/21 [==============================] - 0s 22ms/step - loss: 0.0981 - sparse_categorical_accuracy: 0.9677 - val_loss: 2.1412 - val_sparse_categorical_accuracy: 0.5598 - lr: 1.2500e-04\n",
            "Epoch 25/50\n",
            "21/21 [==============================] - 0s 22ms/step - loss: 0.0958 - sparse_categorical_accuracy: 0.9712 - val_loss: 2.1434 - val_sparse_categorical_accuracy: 0.5706 - lr: 1.2500e-04\n",
            "Epoch 26/50\n",
            "21/21 [==============================] - 0s 22ms/step - loss: 0.0940 - sparse_categorical_accuracy: 0.9720 - val_loss: 2.1549 - val_sparse_categorical_accuracy: 0.5660 - lr: 1.2500e-04\n",
            "Epoch 27/50\n",
            "21/21 [==============================] - 0s 22ms/step - loss: 0.0942 - sparse_categorical_accuracy: 0.9731 - val_loss: 2.1524 - val_sparse_categorical_accuracy: 0.5736 - lr: 1.2500e-04\n",
            "Epoch 28/50\n",
            "21/21 [==============================] - 0s 22ms/step - loss: 0.0932 - sparse_categorical_accuracy: 0.9743 - val_loss: 2.1692 - val_sparse_categorical_accuracy: 0.5736 - lr: 1.2500e-04\n",
            "Epoch 29/50\n",
            "21/21 [==============================] - 0s 22ms/step - loss: 0.0893 - sparse_categorical_accuracy: 0.9777 - val_loss: 2.1742 - val_sparse_categorical_accuracy: 0.5782 - lr: 6.2500e-05\n",
            "Epoch 30/50\n",
            "21/21 [==============================] - 0s 22ms/step - loss: 0.0884 - sparse_categorical_accuracy: 0.9766 - val_loss: 2.1792 - val_sparse_categorical_accuracy: 0.5767 - lr: 6.2500e-05\n",
            "Epoch 31/50\n",
            "21/21 [==============================] - 0s 22ms/step - loss: 0.0871 - sparse_categorical_accuracy: 0.9785 - val_loss: 2.1818 - val_sparse_categorical_accuracy: 0.5798 - lr: 6.2500e-05\n",
            "Epoch 32/50\n",
            "21/21 [==============================] - 0s 22ms/step - loss: 0.0865 - sparse_categorical_accuracy: 0.9793 - val_loss: 2.1843 - val_sparse_categorical_accuracy: 0.5752 - lr: 6.2500e-05\n",
            "Epoch 33/50\n",
            "21/21 [==============================] - 0s 22ms/step - loss: 0.0862 - sparse_categorical_accuracy: 0.9789 - val_loss: 2.1899 - val_sparse_categorical_accuracy: 0.5828 - lr: 6.2500e-05\n",
            "Epoch 34/50\n",
            "21/21 [==============================] - 0s 22ms/step - loss: 0.0851 - sparse_categorical_accuracy: 0.9808 - val_loss: 2.1887 - val_sparse_categorical_accuracy: 0.5828 - lr: 3.1250e-05\n",
            "Epoch 35/50\n",
            "21/21 [==============================] - 0s 22ms/step - loss: 0.0848 - sparse_categorical_accuracy: 0.9804 - val_loss: 2.1893 - val_sparse_categorical_accuracy: 0.5798 - lr: 3.1250e-05\n",
            "Epoch 36/50\n",
            "21/21 [==============================] - 0s 22ms/step - loss: 0.0838 - sparse_categorical_accuracy: 0.9804 - val_loss: 2.1934 - val_sparse_categorical_accuracy: 0.5813 - lr: 3.1250e-05\n",
            "Epoch 37/50\n",
            "21/21 [==============================] - 0s 22ms/step - loss: 0.0834 - sparse_categorical_accuracy: 0.9812 - val_loss: 2.1936 - val_sparse_categorical_accuracy: 0.5859 - lr: 3.1250e-05\n",
            "Epoch 38/50\n",
            "21/21 [==============================] - 0s 22ms/step - loss: 0.0838 - sparse_categorical_accuracy: 0.9804 - val_loss: 2.1996 - val_sparse_categorical_accuracy: 0.5813 - lr: 3.1250e-05\n",
            "Epoch 39/50\n",
            "21/21 [==============================] - 0s 22ms/step - loss: 0.0826 - sparse_categorical_accuracy: 0.9812 - val_loss: 2.1977 - val_sparse_categorical_accuracy: 0.5828 - lr: 1.5625e-05\n",
            "Epoch 40/50\n",
            "21/21 [==============================] - 0s 22ms/step - loss: 0.0822 - sparse_categorical_accuracy: 0.9816 - val_loss: 2.1973 - val_sparse_categorical_accuracy: 0.5828 - lr: 1.5625e-05\n",
            "Epoch 41/50\n",
            "21/21 [==============================] - 0s 22ms/step - loss: 0.0820 - sparse_categorical_accuracy: 0.9812 - val_loss: 2.1990 - val_sparse_categorical_accuracy: 0.5828 - lr: 1.5625e-05\n",
            "Epoch 42/50\n",
            "21/21 [==============================] - 0s 23ms/step - loss: 0.0822 - sparse_categorical_accuracy: 0.9816 - val_loss: 2.1981 - val_sparse_categorical_accuracy: 0.5844 - lr: 1.5625e-05\n",
            "Epoch 43/50\n",
            "21/21 [==============================] - 0s 23ms/step - loss: 0.0815 - sparse_categorical_accuracy: 0.9812 - val_loss: 2.2043 - val_sparse_categorical_accuracy: 0.5844 - lr: 1.5625e-05\n",
            "Epoch 44/50\n",
            "21/21 [==============================] - 0s 23ms/step - loss: 0.0813 - sparse_categorical_accuracy: 0.9812 - val_loss: 2.2049 - val_sparse_categorical_accuracy: 0.5844 - lr: 7.8125e-06\n",
            "Epoch 45/50\n",
            "21/21 [==============================] - 0s 23ms/step - loss: 0.0813 - sparse_categorical_accuracy: 0.9812 - val_loss: 2.2037 - val_sparse_categorical_accuracy: 0.5859 - lr: 7.8125e-06\n",
            "Epoch 46/50\n",
            "21/21 [==============================] - 0s 23ms/step - loss: 0.0812 - sparse_categorical_accuracy: 0.9812 - val_loss: 2.2043 - val_sparse_categorical_accuracy: 0.5859 - lr: 7.8125e-06\n",
            "Epoch 47/50\n",
            "21/21 [==============================] - 0s 22ms/step - loss: 0.0809 - sparse_categorical_accuracy: 0.9816 - val_loss: 2.2050 - val_sparse_categorical_accuracy: 0.5859 - lr: 7.8125e-06\n",
            "Epoch 48/50\n",
            "21/21 [==============================] - 0s 23ms/step - loss: 0.0807 - sparse_categorical_accuracy: 0.9816 - val_loss: 2.2049 - val_sparse_categorical_accuracy: 0.5859 - lr: 7.8125e-06\n",
            "Epoch 49/50\n",
            "21/21 [==============================] - 0s 22ms/step - loss: 0.0805 - sparse_categorical_accuracy: 0.9816 - val_loss: 2.2052 - val_sparse_categorical_accuracy: 0.5859 - lr: 3.9063e-06\n",
            "Epoch 50/50\n",
            "21/21 [==============================] - 0s 22ms/step - loss: 0.0805 - sparse_categorical_accuracy: 0.9816 - val_loss: 2.2049 - val_sparse_categorical_accuracy: 0.5859 - lr: 3.9063e-06\n"
          ]
        },
        {
          "data": {
            "text/plain": [
              "<tensorflow.python.checkpoint.checkpoint.CheckpointLoadStatus at 0x1fb167b5960>"
            ]
          },
          "execution_count": 165,
          "metadata": {},
          "output_type": "execute_result"
        }
      ],
      "source": [
        "#model.fit(sequences_matrix,Y_train,batch_size=128,epochs=10,validation_split=0.2,callbacks=[EarlyStopping(monitor='val_loss',min_delta=0.0001)])\n",
        "checkpoint_filepath = './checkpoint'\n",
        "model_checkpoint_callback = tf.keras.callbacks.ModelCheckpoint(\n",
        "                filepath=checkpoint_filepath,\n",
        "                save_weights_only=True,\n",
        "                monitor='val_loss',\n",
        "                mode='min',\n",
        "                save_best_only=True\n",
        ")\n",
        "\n",
        "reduce_lr = tf.keras.callbacks.ReduceLROnPlateau(monitor='val_loss', factor=0.5,\n",
        "                              patience=5, min_lr=0.000001)\n",
        "\n",
        "model.fit(train_sequences_matrix,Y_train,batch_size=128,epochs=50,validation_split=0.2, callbacks=[model_checkpoint_callback,reduce_lr], class_weight=weight_dict)\n",
        "\n",
        "model.load_weights(checkpoint_filepath)"
      ]
    },
    {
      "cell_type": "code",
      "execution_count": 171,
      "metadata": {},
      "outputs": [],
      "source": [
        "model.save(\"CNN_imbalanced_multi.h5\")"
      ]
    },
    {
      "cell_type": "code",
      "execution_count": 166,
      "metadata": {
        "colab": {
          "base_uri": "https://localhost:8080/"
        },
        "id": "oJ_091N4rPK8",
        "outputId": "a5e2c54c-3efd-48e7-e0f0-8d8f3bf7b3d2"
      },
      "outputs": [
        {
          "name": "stdout",
          "output_type": "stream",
          "text": [
            "26/26 [==============================] - 0s 9ms/step - loss: 1.4633 - sparse_categorical_accuracy: 0.4773\n"
          ]
        }
      ],
      "source": [
        "accr = model.evaluate(test_sequences_matrix,Y_test)"
      ]
    },
    {
      "cell_type": "code",
      "execution_count": 167,
      "metadata": {
        "colab": {
          "base_uri": "https://localhost:8080/"
        },
        "id": "LOwIyZAasKhk",
        "outputId": "131c1594-147d-4f10-abbe-d4453bb2ba32"
      },
      "outputs": [
        {
          "name": "stdout",
          "output_type": "stream",
          "text": [
            "Test set\n",
            "  Loss: 1.463\n",
            "  Accuracy: 0.477\n"
          ]
        }
      ],
      "source": [
        "print('Test set\\n  Loss: {:0.3f}\\n  Accuracy: {:0.3f}'.format(accr[0],accr[1]))"
      ]
    },
    {
      "cell_type": "code",
      "execution_count": 168,
      "metadata": {},
      "outputs": [
        {
          "name": "stdout",
          "output_type": "stream",
          "text": [
            "26/26 [==============================] - 0s 9ms/step\n"
          ]
        }
      ],
      "source": [
        "y_pred = model.predict(test_sequences_matrix)"
      ]
    },
    {
      "cell_type": "code",
      "execution_count": 169,
      "metadata": {},
      "outputs": [],
      "source": [
        "y_pred2 = [np.argmax(x) for x in y_pred]"
      ]
    },
    {
      "cell_type": "code",
      "execution_count": 170,
      "metadata": {},
      "outputs": [
        {
          "name": "stdout",
          "output_type": "stream",
          "text": [
            "                precision    recall  f1-score   support\n",
            "\n",
            "        DEFECT   0.287037  0.659574  0.400000        94\n",
            "        DESIGN   0.823077  0.395564  0.534332       541\n",
            " DOCUMENTATION   0.400000  0.363636  0.380952        11\n",
            "IMPLEMENTATION   0.329268  0.710526  0.450000       152\n",
            "          TEST   1.000000  0.058824  0.111111        17\n",
            "\n",
            "      accuracy                       0.477301       815\n",
            "     macro avg   0.567876  0.437625  0.375279       815\n",
            "  weighted avg   0.667135  0.477301  0.492212       815\n",
            "\n"
          ]
        }
      ],
      "source": [
        "print(classification_report(Y_test, y_pred2, digits=6, target_names=multiclass_labels))"
      ]
    }
  ],
  "metadata": {
    "colab": {
      "provenance": []
    },
    "kernelspec": {
      "display_name": "Python 3",
      "language": "python",
      "name": "python3"
    },
    "language_info": {
      "codemirror_mode": {
        "name": "ipython",
        "version": 3
      },
      "file_extension": ".py",
      "mimetype": "text/x-python",
      "name": "python",
      "nbconvert_exporter": "python",
      "pygments_lexer": "ipython3",
      "version": "3.10.4"
    },
    "vscode": {
      "interpreter": {
        "hash": "4593b52a31704b5155580280f0f05a500adb36bf97584c7e94e26dfe17ea16d9"
      }
    }
  },
  "nbformat": 4,
  "nbformat_minor": 0
}
