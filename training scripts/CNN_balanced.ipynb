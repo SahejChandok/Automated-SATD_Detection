{
  "cells": [
    {
      "cell_type": "code",
      "execution_count": 1,
      "metadata": {
        "id": "100qQ50jg3gm"
      },
      "outputs": [],
      "source": [
        "import pandas as pd\n",
        "import numpy as np\n",
        "import matplotlib.pyplot as plt\n",
        "import seaborn as sns\n",
        "from sklearn.model_selection import train_test_split\n",
        "from sklearn.preprocessing import LabelEncoder\n",
        "from keras.models import Model\n",
        "from keras.layers import LSTM, Activation, Dense, Dropout, Input, Embedding, Conv2D, MaxPooling2D, Flatten, MaxPooling1D, Conv1D\n",
        "from keras.optimizers import RMSprop\n",
        "from keras.preprocessing.text import Tokenizer\n",
        "from keras.preprocessing import sequence\n",
        "from keras.utils import to_categorical\n",
        "from keras.callbacks import EarlyStopping\n",
        "import tensorflow as tf\n",
        "\n",
        "import tensorflow_addons as tfa\n",
        "from keras.utils import pad_sequences\n",
        "from sklearn.metrics import classification_report\n",
        "from sklearn.metrics import confusion_matrix"
      ]
    },
    {
      "cell_type": "code",
      "execution_count": 2,
      "metadata": {
        "id": "deniKMj_i2K7"
      },
      "outputs": [],
      "source": [
        "df=pd.read_csv('input9.csv')"
      ]
    },
    {
      "cell_type": "code",
      "execution_count": 3,
      "metadata": {
        "colab": {
          "base_uri": "https://localhost:8080/",
          "height": 206
        },
        "id": "Yx_TXEhUi71x",
        "outputId": "1ed747f9-3520-4c2e-e11d-fd31d83b653d"
      },
      "outputs": [
        {
          "data": {
            "text/html": [
              "<div>\n",
              "<style scoped>\n",
              "    .dataframe tbody tr th:only-of-type {\n",
              "        vertical-align: middle;\n",
              "    }\n",
              "\n",
              "    .dataframe tbody tr th {\n",
              "        vertical-align: top;\n",
              "    }\n",
              "\n",
              "    .dataframe thead th {\n",
              "        text-align: right;\n",
              "    }\n",
              "</style>\n",
              "<table border=\"1\" class=\"dataframe\">\n",
              "  <thead>\n",
              "    <tr style=\"text-align: right;\">\n",
              "      <th></th>\n",
              "      <th>comment</th>\n",
              "      <th>class</th>\n",
              "    </tr>\n",
              "  </thead>\n",
              "  <tbody>\n",
              "    <tr>\n",
              "      <th>0</th>\n",
              "      <td>FIXME formatters are not thread safe</td>\n",
              "      <td>DEFECT</td>\n",
              "    </tr>\n",
              "    <tr>\n",
              "      <th>1</th>\n",
              "      <td>XXX  Jon Skeet The comment \"if it hasn't bee...</td>\n",
              "      <td>DEFECT</td>\n",
              "    </tr>\n",
              "    <tr>\n",
              "      <th>2</th>\n",
              "      <td>I hate to admit it, but we don't know what h...</td>\n",
              "      <td>DEFECT</td>\n",
              "    </tr>\n",
              "    <tr>\n",
              "      <th>3</th>\n",
              "      <td>Just a note StarTeam has a status for NEW wh...</td>\n",
              "      <td>DEFECT</td>\n",
              "    </tr>\n",
              "    <tr>\n",
              "      <th>4</th>\n",
              "      <td>the generated classes must not be added in t...</td>\n",
              "      <td>DEFECT</td>\n",
              "    </tr>\n",
              "  </tbody>\n",
              "</table>\n",
              "</div>"
            ],
            "text/plain": [
              "                                             comment   class\n",
              "0               FIXME formatters are not thread safe  DEFECT\n",
              "1    XXX  Jon Skeet The comment \"if it hasn't bee...  DEFECT\n",
              "2    I hate to admit it, but we don't know what h...  DEFECT\n",
              "3    Just a note StarTeam has a status for NEW wh...  DEFECT\n",
              "4    the generated classes must not be added in t...  DEFECT"
            ]
          },
          "execution_count": 3,
          "metadata": {},
          "output_type": "execute_result"
        }
      ],
      "source": [
        "df.head()"
      ]
    },
    {
      "cell_type": "code",
      "execution_count": 4,
      "metadata": {
        "colab": {
          "base_uri": "https://localhost:8080/"
        },
        "id": "CXQ_hftEi-Db",
        "outputId": "7593243c-7ec5-4561-a87a-b1db15b1b1b0"
      },
      "outputs": [
        {
          "data": {
            "text/plain": [
              "WITHOUT_CLASSIFICATION    58204\n",
              "DESIGN                     2703\n",
              "IMPLEMENTATION              757\n",
              "DEFECT                      472\n",
              "TEST                         85\n",
              "DOCUMENTATION                54\n",
              "Name: class, dtype: int64"
            ]
          },
          "execution_count": 4,
          "metadata": {},
          "output_type": "execute_result"
        }
      ],
      "source": [
        "df['class'].value_counts()"
      ]
    },
    {
      "cell_type": "code",
      "execution_count": 5,
      "metadata": {
        "id": "OPdidZohjDlV"
      },
      "outputs": [],
      "source": [
        "df_satd = df[(df['class']=='DESIGN') | (df['class']== 'IMPLEMENTATION' ) | (df['class']== 'DEFECT') | (df['class']== 'TEST') | (df['class']== 'DOCUMENTATION') ]\n"
      ]
    },
    {
      "cell_type": "code",
      "execution_count": 6,
      "metadata": {
        "id": "nOqergIJjI2L"
      },
      "outputs": [],
      "source": [
        "df_nsatd = df[df['class']=='WITHOUT_CLASSIFICATION']"
      ]
    },
    {
      "cell_type": "code",
      "execution_count": 7,
      "metadata": {
        "id": "7DvoeG8XjLNl"
      },
      "outputs": [],
      "source": [
        "\n",
        "df_nsatd_downsampled = df_nsatd.sample(df_satd.shape[0])"
      ]
    },
    {
      "cell_type": "code",
      "execution_count": 8,
      "metadata": {
        "id": "BQBXuO69jNKA"
      },
      "outputs": [],
      "source": [
        "df_balanced = pd.concat([df_nsatd_downsampled, df_satd])"
      ]
    },
    {
      "cell_type": "code",
      "execution_count": 9,
      "metadata": {
        "colab": {
          "base_uri": "https://localhost:8080/"
        },
        "id": "jEj-c5P2jPF7",
        "outputId": "027af734-9dc6-458d-ae95-17270b104ed0"
      },
      "outputs": [
        {
          "data": {
            "text/plain": [
              "WITHOUT_CLASSIFICATION    4071\n",
              "DESIGN                    2703\n",
              "IMPLEMENTATION             757\n",
              "DEFECT                     472\n",
              "TEST                        85\n",
              "DOCUMENTATION               54\n",
              "Name: class, dtype: int64"
            ]
          },
          "execution_count": 9,
          "metadata": {},
          "output_type": "execute_result"
        }
      ],
      "source": [
        "df_balanced['class'].value_counts()"
      ]
    },
    {
      "cell_type": "code",
      "execution_count": 10,
      "metadata": {
        "id": "pHFkALFtjROK"
      },
      "outputs": [],
      "source": [
        "df_balanced['spam']=df_balanced['class'].apply(lambda x: 0 if x=='WITHOUT_CLASSIFICATION' else 1)"
      ]
    },
    {
      "cell_type": "code",
      "execution_count": 11,
      "metadata": {
        "colab": {
          "base_uri": "https://localhost:8080/"
        },
        "id": "m1ejQc4AjgC9",
        "outputId": "17901db1-3079-4586-e0b2-dc6af800d63e"
      },
      "outputs": [
        {
          "data": {
            "text/plain": [
              "0    4071\n",
              "1    4071\n",
              "Name: spam, dtype: int64"
            ]
          },
          "execution_count": 11,
          "metadata": {},
          "output_type": "execute_result"
        }
      ],
      "source": [
        "df_balanced['spam'].value_counts()"
      ]
    },
    {
      "cell_type": "code",
      "execution_count": 12,
      "metadata": {
        "colab": {
          "base_uri": "https://localhost:8080/",
          "height": 206
        },
        "id": "UZCR45GOjiQq",
        "outputId": "987466bd-710a-405a-c57d-fece6b1bc38c"
      },
      "outputs": [
        {
          "data": {
            "text/html": [
              "<div>\n",
              "<style scoped>\n",
              "    .dataframe tbody tr th:only-of-type {\n",
              "        vertical-align: middle;\n",
              "    }\n",
              "\n",
              "    .dataframe tbody tr th {\n",
              "        vertical-align: top;\n",
              "    }\n",
              "\n",
              "    .dataframe thead th {\n",
              "        text-align: right;\n",
              "    }\n",
              "</style>\n",
              "<table border=\"1\" class=\"dataframe\">\n",
              "  <thead>\n",
              "    <tr style=\"text-align: right;\">\n",
              "      <th></th>\n",
              "      <th>comment</th>\n",
              "      <th>class</th>\n",
              "      <th>spam</th>\n",
              "    </tr>\n",
              "  </thead>\n",
              "  <tbody>\n",
              "    <tr>\n",
              "      <th>24079</th>\n",
              "      <td>non Javadoc \\t  @see org columba mail folder...</td>\n",
              "      <td>WITHOUT_CLASSIFICATION</td>\n",
              "      <td>0</td>\n",
              "    </tr>\n",
              "    <tr>\n",
              "      <th>58346</th>\n",
              "      <td>i18n graph addChildTables Add child tables</td>\n",
              "      <td>WITHOUT_CLASSIFICATION</td>\n",
              "      <td>0</td>\n",
              "    </tr>\n",
              "    <tr>\n",
              "      <th>4517</th>\n",
              "      <td>check if filename defined</td>\n",
              "      <td>WITHOUT_CLASSIFICATION</td>\n",
              "      <td>0</td>\n",
              "    </tr>\n",
              "    <tr>\n",
              "      <th>5860</th>\n",
              "      <td>$NON NLS 1$  Ensure variable has been provided</td>\n",
              "      <td>WITHOUT_CLASSIFICATION</td>\n",
              "      <td>0</td>\n",
              "    </tr>\n",
              "    <tr>\n",
              "      <th>8664</th>\n",
              "      <td>Prevent instantiation</td>\n",
              "      <td>WITHOUT_CLASSIFICATION</td>\n",
              "      <td>0</td>\n",
              "    </tr>\n",
              "  </tbody>\n",
              "</table>\n",
              "</div>"
            ],
            "text/plain": [
              "                                                 comment  \\\n",
              "24079    non Javadoc \\t  @see org columba mail folder...   \n",
              "58346        i18n graph addChildTables Add child tables    \n",
              "4517                           check if filename defined   \n",
              "5860      $NON NLS 1$  Ensure variable has been provided   \n",
              "8664                               Prevent instantiation   \n",
              "\n",
              "                        class  spam  \n",
              "24079  WITHOUT_CLASSIFICATION     0  \n",
              "58346  WITHOUT_CLASSIFICATION     0  \n",
              "4517   WITHOUT_CLASSIFICATION     0  \n",
              "5860   WITHOUT_CLASSIFICATION     0  \n",
              "8664   WITHOUT_CLASSIFICATION     0  "
            ]
          },
          "execution_count": 12,
          "metadata": {},
          "output_type": "execute_result"
        }
      ],
      "source": [
        "df_balanced.head()"
      ]
    },
    {
      "cell_type": "code",
      "execution_count": 13,
      "metadata": {
        "id": "oQI4G8c0jks1"
      },
      "outputs": [],
      "source": [
        "df_balanced['classes']=df_balanced['spam'].apply(lambda x: \"Classified\" if x==1 else \"Not-Classified\")"
      ]
    },
    {
      "cell_type": "code",
      "execution_count": 14,
      "metadata": {
        "colab": {
          "base_uri": "https://localhost:8080/",
          "height": 206
        },
        "id": "nKxZIwwcjodc",
        "outputId": "35123ed0-98ba-4af1-9405-8a89774f84e8"
      },
      "outputs": [
        {
          "data": {
            "text/html": [
              "<div>\n",
              "<style scoped>\n",
              "    .dataframe tbody tr th:only-of-type {\n",
              "        vertical-align: middle;\n",
              "    }\n",
              "\n",
              "    .dataframe tbody tr th {\n",
              "        vertical-align: top;\n",
              "    }\n",
              "\n",
              "    .dataframe thead th {\n",
              "        text-align: right;\n",
              "    }\n",
              "</style>\n",
              "<table border=\"1\" class=\"dataframe\">\n",
              "  <thead>\n",
              "    <tr style=\"text-align: right;\">\n",
              "      <th></th>\n",
              "      <th>comment</th>\n",
              "      <th>class</th>\n",
              "      <th>spam</th>\n",
              "      <th>classes</th>\n",
              "    </tr>\n",
              "  </thead>\n",
              "  <tbody>\n",
              "    <tr>\n",
              "      <th>24079</th>\n",
              "      <td>non Javadoc \\t  @see org columba mail folder...</td>\n",
              "      <td>WITHOUT_CLASSIFICATION</td>\n",
              "      <td>0</td>\n",
              "      <td>Not-Classified</td>\n",
              "    </tr>\n",
              "    <tr>\n",
              "      <th>58346</th>\n",
              "      <td>i18n graph addChildTables Add child tables</td>\n",
              "      <td>WITHOUT_CLASSIFICATION</td>\n",
              "      <td>0</td>\n",
              "      <td>Not-Classified</td>\n",
              "    </tr>\n",
              "    <tr>\n",
              "      <th>4517</th>\n",
              "      <td>check if filename defined</td>\n",
              "      <td>WITHOUT_CLASSIFICATION</td>\n",
              "      <td>0</td>\n",
              "      <td>Not-Classified</td>\n",
              "    </tr>\n",
              "    <tr>\n",
              "      <th>5860</th>\n",
              "      <td>$NON NLS 1$  Ensure variable has been provided</td>\n",
              "      <td>WITHOUT_CLASSIFICATION</td>\n",
              "      <td>0</td>\n",
              "      <td>Not-Classified</td>\n",
              "    </tr>\n",
              "    <tr>\n",
              "      <th>8664</th>\n",
              "      <td>Prevent instantiation</td>\n",
              "      <td>WITHOUT_CLASSIFICATION</td>\n",
              "      <td>0</td>\n",
              "      <td>Not-Classified</td>\n",
              "    </tr>\n",
              "  </tbody>\n",
              "</table>\n",
              "</div>"
            ],
            "text/plain": [
              "                                                 comment  \\\n",
              "24079    non Javadoc \\t  @see org columba mail folder...   \n",
              "58346        i18n graph addChildTables Add child tables    \n",
              "4517                           check if filename defined   \n",
              "5860      $NON NLS 1$  Ensure variable has been provided   \n",
              "8664                               Prevent instantiation   \n",
              "\n",
              "                        class  spam         classes  \n",
              "24079  WITHOUT_CLASSIFICATION     0  Not-Classified  \n",
              "58346  WITHOUT_CLASSIFICATION     0  Not-Classified  \n",
              "4517   WITHOUT_CLASSIFICATION     0  Not-Classified  \n",
              "5860   WITHOUT_CLASSIFICATION     0  Not-Classified  \n",
              "8664   WITHOUT_CLASSIFICATION     0  Not-Classified  "
            ]
          },
          "execution_count": 14,
          "metadata": {},
          "output_type": "execute_result"
        }
      ],
      "source": [
        "df_balanced.head()"
      ]
    },
    {
      "cell_type": "code",
      "execution_count": 15,
      "metadata": {
        "id": "yyhIkZdjjtjk"
      },
      "outputs": [],
      "source": [
        "X = df_balanced['comment']\n",
        "Y = df_balanced['spam']\n",
        "le = LabelEncoder()\n",
        "Y = le.fit_transform(Y)\n",
        "Y = Y.reshape(-1,1)"
      ]
    },
    {
      "cell_type": "code",
      "execution_count": 16,
      "metadata": {
        "id": "uvDmONGxpMq6"
      },
      "outputs": [],
      "source": [
        "X_train,X_test,Y_train,Y_test = train_test_split(X,Y,test_size=0.20, stratify=Y, random_state=42)\n",
        "\n",
        "max_words = 10000\n",
        "max_len = 250\n",
        "tok = Tokenizer(num_words=max_words)\n",
        "tok.fit_on_texts(X_train)\n",
        "train_sequences = tok.texts_to_sequences(X_train)\n",
        "train_sequences_matrix = pad_sequences(train_sequences,maxlen=max_len)\n",
        "\n",
        "test_sequences = tok.texts_to_sequences(X_test)\n",
        "test_sequences_matrix = pad_sequences(test_sequences,maxlen=max_len)"
      ]
    },
    {
      "cell_type": "code",
      "execution_count": 17,
      "metadata": {},
      "outputs": [
        {
          "name": "stdout",
          "output_type": "stream",
          "text": [
            "250\n"
          ]
        }
      ],
      "source": [
        "print(len(train_sequences_matrix[0]))"
      ]
    },
    {
      "cell_type": "code",
      "execution_count": 18,
      "metadata": {
        "id": "1JeBj-rLqGyd"
      },
      "outputs": [],
      "source": [
        "def CNN():\n",
        "    cnn = tf.keras.Sequential()\n",
        "    cnn.add(Input(name='inputs',shape=[max_len]))\n",
        "    cnn.add(Embedding(max_words,50,input_length=max_len))\n",
        "    cnn.add(Conv1D(128, kernel_size=3, activation='relu', padding=\"same\"))\n",
        "    cnn.add(MaxPooling1D(pool_size=2))\n",
        "    cnn.add(Conv1D(256, kernel_size=3, activation='relu', padding=\"same\"))\n",
        "    cnn.add(MaxPooling1D(pool_size=2))\n",
        "    cnn.add(Conv1D(512, kernel_size=3, activation='relu', padding=\"same\"))\n",
        "    cnn.add(MaxPooling1D(pool_size=2))\n",
        "\n",
        "    cnn.add(Flatten())\n",
        "    cnn.add(Dense(256, activation ='relu'))\n",
        "    cnn.add(Dense(64, activation ='relu'))\n",
        "    cnn.add(Dense(1, activation='sigmoid'))\n",
        "\n",
        "    return cnn"
      ]
    },
    {
      "cell_type": "code",
      "execution_count": 19,
      "metadata": {
        "colab": {
          "base_uri": "https://localhost:8080/"
        },
        "id": "wGN-X_VJqR6d",
        "outputId": "5c4a7466-789f-47eb-d636-05a049efc0e3"
      },
      "outputs": [
        {
          "name": "stdout",
          "output_type": "stream",
          "text": [
            "Model: \"sequential\"\n",
            "_________________________________________________________________\n",
            " Layer (type)                Output Shape              Param #   \n",
            "=================================================================\n",
            " embedding (Embedding)       (None, 250, 50)           500000    \n",
            "                                                                 \n",
            " conv1d (Conv1D)             (None, 250, 128)          19328     \n",
            "                                                                 \n",
            " max_pooling1d (MaxPooling1D  (None, 125, 128)         0         \n",
            " )                                                               \n",
            "                                                                 \n",
            " conv1d_1 (Conv1D)           (None, 125, 256)          98560     \n",
            "                                                                 \n",
            " max_pooling1d_1 (MaxPooling  (None, 62, 256)          0         \n",
            " 1D)                                                             \n",
            "                                                                 \n",
            " conv1d_2 (Conv1D)           (None, 62, 512)           393728    \n",
            "                                                                 \n",
            " max_pooling1d_2 (MaxPooling  (None, 31, 512)          0         \n",
            " 1D)                                                             \n",
            "                                                                 \n",
            " flatten (Flatten)           (None, 15872)             0         \n",
            "                                                                 \n",
            " dense (Dense)               (None, 256)               4063488   \n",
            "                                                                 \n",
            " dense_1 (Dense)             (None, 64)                16448     \n",
            "                                                                 \n",
            " dense_2 (Dense)             (None, 1)                 65        \n",
            "                                                                 \n",
            "=================================================================\n",
            "Total params: 5,091,617\n",
            "Trainable params: 5,091,617\n",
            "Non-trainable params: 0\n",
            "_________________________________________________________________\n"
          ]
        }
      ],
      "source": [
        "model = CNN()\n",
        "model.summary()\n",
        "opt = tf.keras.optimizers.Adadelta(learning_rate=0.1)\n",
        "model.compile(loss='binary_crossentropy',optimizer=opt,metrics=['accuracy'])"
      ]
    },
    {
      "cell_type": "code",
      "execution_count": 20,
      "metadata": {
        "colab": {
          "base_uri": "https://localhost:8080/"
        },
        "id": "e2DKhNZoqYJM",
        "outputId": "38044ab8-4a91-4202-b6b7-ed74fdf837bc"
      },
      "outputs": [
        {
          "name": "stdout",
          "output_type": "stream",
          "text": [
            "Epoch 1/50\n",
            "39/39 [==============================] - 5s 40ms/step - loss: 0.6918 - accuracy: 0.5274 - val_loss: 0.6912 - val_accuracy: 0.6642 - lr: 0.1000\n",
            "Epoch 2/50\n",
            "39/39 [==============================] - 1s 28ms/step - loss: 0.6889 - accuracy: 0.6323 - val_loss: 0.6873 - val_accuracy: 0.6679 - lr: 0.1000\n",
            "Epoch 3/50\n",
            "39/39 [==============================] - 1s 27ms/step - loss: 0.6828 - accuracy: 0.6550 - val_loss: 0.6782 - val_accuracy: 0.6458 - lr: 0.1000\n",
            "Epoch 4/50\n",
            "39/39 [==============================] - 1s 28ms/step - loss: 0.6670 - accuracy: 0.6665 - val_loss: 0.6571 - val_accuracy: 0.6366 - lr: 0.1000\n",
            "Epoch 5/50\n",
            "39/39 [==============================] - 1s 28ms/step - loss: 0.6233 - accuracy: 0.6902 - val_loss: 0.6059 - val_accuracy: 0.6618 - lr: 0.1000\n",
            "Epoch 6/50\n",
            "39/39 [==============================] - 1s 28ms/step - loss: 0.5655 - accuracy: 0.7160 - val_loss: 0.5475 - val_accuracy: 0.7452 - lr: 0.1000\n",
            "Epoch 7/50\n",
            "39/39 [==============================] - 1s 28ms/step - loss: 0.5032 - accuracy: 0.7639 - val_loss: 0.4509 - val_accuracy: 0.7901 - lr: 0.1000\n",
            "Epoch 8/50\n",
            "39/39 [==============================] - 1s 27ms/step - loss: 0.4105 - accuracy: 0.8200 - val_loss: 0.4096 - val_accuracy: 0.8275 - lr: 0.1000\n",
            "Epoch 9/50\n",
            "39/39 [==============================] - 1s 28ms/step - loss: 0.3450 - accuracy: 0.8610 - val_loss: 0.3644 - val_accuracy: 0.8478 - lr: 0.1000\n",
            "Epoch 10/50\n",
            "39/39 [==============================] - 1s 24ms/step - loss: 0.3024 - accuracy: 0.8751 - val_loss: 0.4786 - val_accuracy: 0.7901 - lr: 0.1000\n",
            "Epoch 11/50\n",
            "39/39 [==============================] - 1s 28ms/step - loss: 0.2769 - accuracy: 0.8855 - val_loss: 0.2681 - val_accuracy: 0.8803 - lr: 0.1000\n",
            "Epoch 12/50\n",
            "39/39 [==============================] - 1s 24ms/step - loss: 0.2537 - accuracy: 0.8915 - val_loss: 0.2797 - val_accuracy: 0.8791 - lr: 0.1000\n",
            "Epoch 13/50\n",
            "39/39 [==============================] - 1s 29ms/step - loss: 0.2324 - accuracy: 0.9042 - val_loss: 0.2412 - val_accuracy: 0.8913 - lr: 0.1000\n",
            "Epoch 14/50\n",
            "39/39 [==============================] - 1s 29ms/step - loss: 0.2138 - accuracy: 0.9167 - val_loss: 0.2319 - val_accuracy: 0.9091 - lr: 0.1000\n",
            "Epoch 15/50\n",
            "39/39 [==============================] - 1s 25ms/step - loss: 0.1975 - accuracy: 0.9249 - val_loss: 0.2380 - val_accuracy: 0.8956 - lr: 0.1000\n",
            "Epoch 16/50\n",
            "39/39 [==============================] - 1s 24ms/step - loss: 0.1858 - accuracy: 0.9333 - val_loss: 0.2409 - val_accuracy: 0.8963 - lr: 0.1000\n",
            "Epoch 17/50\n",
            "39/39 [==============================] - 1s 29ms/step - loss: 0.1742 - accuracy: 0.9380 - val_loss: 0.2159 - val_accuracy: 0.9110 - lr: 0.1000\n",
            "Epoch 18/50\n",
            "39/39 [==============================] - 1s 28ms/step - loss: 0.1603 - accuracy: 0.9437 - val_loss: 0.2030 - val_accuracy: 0.9227 - lr: 0.1000\n",
            "Epoch 19/50\n",
            "39/39 [==============================] - 1s 28ms/step - loss: 0.1522 - accuracy: 0.9470 - val_loss: 0.1911 - val_accuracy: 0.9294 - lr: 0.1000\n",
            "Epoch 20/50\n",
            "39/39 [==============================] - 1s 28ms/step - loss: 0.1410 - accuracy: 0.9505 - val_loss: 0.1894 - val_accuracy: 0.9282 - lr: 0.1000\n",
            "Epoch 21/50\n",
            "39/39 [==============================] - 1s 23ms/step - loss: 0.1301 - accuracy: 0.9568 - val_loss: 0.2343 - val_accuracy: 0.9134 - lr: 0.1000\n",
            "Epoch 22/50\n",
            "39/39 [==============================] - 1s 24ms/step - loss: 0.1244 - accuracy: 0.9593 - val_loss: 0.2297 - val_accuracy: 0.9079 - lr: 0.1000\n",
            "Epoch 23/50\n",
            "39/39 [==============================] - 1s 23ms/step - loss: 0.1144 - accuracy: 0.9638 - val_loss: 0.2132 - val_accuracy: 0.9214 - lr: 0.1000\n",
            "Epoch 24/50\n",
            "39/39 [==============================] - 1s 23ms/step - loss: 0.1065 - accuracy: 0.9658 - val_loss: 0.1937 - val_accuracy: 0.9319 - lr: 0.1000\n",
            "Epoch 25/50\n",
            "39/39 [==============================] - 1s 28ms/step - loss: 0.1025 - accuracy: 0.9685 - val_loss: 0.1893 - val_accuracy: 0.9349 - lr: 0.1000\n",
            "Epoch 26/50\n",
            "39/39 [==============================] - 1s 28ms/step - loss: 0.0932 - accuracy: 0.9738 - val_loss: 0.1797 - val_accuracy: 0.9380 - lr: 0.0500\n",
            "Epoch 27/50\n",
            "39/39 [==============================] - 1s 24ms/step - loss: 0.0899 - accuracy: 0.9742 - val_loss: 0.1799 - val_accuracy: 0.9374 - lr: 0.0500\n",
            "Epoch 28/50\n",
            "39/39 [==============================] - 1s 28ms/step - loss: 0.0872 - accuracy: 0.9767 - val_loss: 0.1793 - val_accuracy: 0.9380 - lr: 0.0500\n",
            "Epoch 29/50\n",
            "39/39 [==============================] - 1s 23ms/step - loss: 0.0849 - accuracy: 0.9762 - val_loss: 0.1847 - val_accuracy: 0.9392 - lr: 0.0500\n",
            "Epoch 30/50\n",
            "39/39 [==============================] - 1s 23ms/step - loss: 0.0812 - accuracy: 0.9783 - val_loss: 0.1927 - val_accuracy: 0.9331 - lr: 0.0500\n",
            "Epoch 31/50\n",
            "39/39 [==============================] - 1s 23ms/step - loss: 0.0791 - accuracy: 0.9775 - val_loss: 0.1816 - val_accuracy: 0.9386 - lr: 0.0500\n",
            "Epoch 32/50\n",
            "39/39 [==============================] - 1s 23ms/step - loss: 0.0767 - accuracy: 0.9797 - val_loss: 0.1836 - val_accuracy: 0.9405 - lr: 0.0500\n",
            "Epoch 33/50\n",
            "39/39 [==============================] - 1s 23ms/step - loss: 0.0737 - accuracy: 0.9805 - val_loss: 0.1847 - val_accuracy: 0.9405 - lr: 0.0500\n",
            "Epoch 34/50\n",
            "39/39 [==============================] - 1s 23ms/step - loss: 0.0714 - accuracy: 0.9810 - val_loss: 0.1848 - val_accuracy: 0.9386 - lr: 0.0250\n",
            "Epoch 35/50\n",
            "39/39 [==============================] - 1s 23ms/step - loss: 0.0700 - accuracy: 0.9810 - val_loss: 0.1819 - val_accuracy: 0.9392 - lr: 0.0250\n",
            "Epoch 36/50\n",
            "39/39 [==============================] - 1s 23ms/step - loss: 0.0689 - accuracy: 0.9818 - val_loss: 0.1856 - val_accuracy: 0.9386 - lr: 0.0250\n",
            "Epoch 37/50\n",
            "39/39 [==============================] - 1s 24ms/step - loss: 0.0673 - accuracy: 0.9828 - val_loss: 0.1832 - val_accuracy: 0.9374 - lr: 0.0250\n",
            "Epoch 38/50\n",
            "39/39 [==============================] - 1s 23ms/step - loss: 0.0665 - accuracy: 0.9826 - val_loss: 0.1825 - val_accuracy: 0.9392 - lr: 0.0250\n",
            "Epoch 39/50\n",
            "39/39 [==============================] - 1s 23ms/step - loss: 0.0656 - accuracy: 0.9830 - val_loss: 0.1829 - val_accuracy: 0.9392 - lr: 0.0125\n",
            "Epoch 40/50\n",
            "39/39 [==============================] - 1s 23ms/step - loss: 0.0647 - accuracy: 0.9834 - val_loss: 0.1846 - val_accuracy: 0.9386 - lr: 0.0125\n",
            "Epoch 41/50\n",
            "39/39 [==============================] - 1s 23ms/step - loss: 0.0644 - accuracy: 0.9834 - val_loss: 0.1827 - val_accuracy: 0.9398 - lr: 0.0125\n",
            "Epoch 42/50\n",
            "39/39 [==============================] - 1s 23ms/step - loss: 0.0636 - accuracy: 0.9840 - val_loss: 0.1833 - val_accuracy: 0.9398 - lr: 0.0125\n",
            "Epoch 43/50\n",
            "39/39 [==============================] - 1s 23ms/step - loss: 0.0633 - accuracy: 0.9836 - val_loss: 0.1831 - val_accuracy: 0.9386 - lr: 0.0125\n",
            "Epoch 44/50\n",
            "39/39 [==============================] - 1s 23ms/step - loss: 0.0627 - accuracy: 0.9836 - val_loss: 0.1830 - val_accuracy: 0.9398 - lr: 0.0063\n",
            "Epoch 45/50\n",
            "39/39 [==============================] - 1s 23ms/step - loss: 0.0625 - accuracy: 0.9840 - val_loss: 0.1837 - val_accuracy: 0.9398 - lr: 0.0063\n",
            "Epoch 46/50\n",
            "39/39 [==============================] - 1s 23ms/step - loss: 0.0621 - accuracy: 0.9840 - val_loss: 0.1836 - val_accuracy: 0.9386 - lr: 0.0063\n",
            "Epoch 47/50\n",
            "39/39 [==============================] - 1s 23ms/step - loss: 0.0619 - accuracy: 0.9840 - val_loss: 0.1833 - val_accuracy: 0.9392 - lr: 0.0063\n",
            "Epoch 48/50\n",
            "39/39 [==============================] - 1s 23ms/step - loss: 0.0616 - accuracy: 0.9838 - val_loss: 0.1837 - val_accuracy: 0.9398 - lr: 0.0063\n",
            "Epoch 49/50\n",
            "39/39 [==============================] - 1s 23ms/step - loss: 0.0613 - accuracy: 0.9844 - val_loss: 0.1833 - val_accuracy: 0.9392 - lr: 0.0031\n",
            "Epoch 50/50\n",
            "39/39 [==============================] - 1s 23ms/step - loss: 0.0612 - accuracy: 0.9844 - val_loss: 0.1833 - val_accuracy: 0.9392 - lr: 0.0031\n"
          ]
        },
        {
          "data": {
            "text/plain": [
              "<tensorflow.python.checkpoint.checkpoint.CheckpointLoadStatus at 0x1b19ced3580>"
            ]
          },
          "execution_count": 20,
          "metadata": {},
          "output_type": "execute_result"
        }
      ],
      "source": [
        "checkpoint_filepath = './checkpoint'\n",
        "model_checkpoint_callback = tf.keras.callbacks.ModelCheckpoint(\n",
        "                filepath=checkpoint_filepath,\n",
        "                save_weights_only=True,\n",
        "                monitor='val_loss',\n",
        "                mode='min',\n",
        "                save_best_only=True\n",
        ")\n",
        "\n",
        "reduce_lr = tf.keras.callbacks.ReduceLROnPlateau(monitor='val_loss', factor=0.5,\n",
        "                              patience=5, min_lr=0.000001)\n",
        "\n",
        "model.fit(train_sequences_matrix,Y_train,batch_size=128,epochs=50,validation_split=0.25, callbacks=[model_checkpoint_callback,reduce_lr])\n",
        "\n",
        "model.load_weights(checkpoint_filepath)"
      ]
    },
    {
      "cell_type": "code",
      "execution_count": 21,
      "metadata": {},
      "outputs": [],
      "source": [
        "model.save(\"CNN_balanced.h5\")"
      ]
    },
    {
      "cell_type": "code",
      "execution_count": 22,
      "metadata": {
        "colab": {
          "base_uri": "https://localhost:8080/"
        },
        "id": "oJ_091N4rPK8",
        "outputId": "a5e2c54c-3efd-48e7-e0f0-8d8f3bf7b3d2"
      },
      "outputs": [
        {
          "name": "stdout",
          "output_type": "stream",
          "text": [
            "51/51 [==============================] - 0s 7ms/step - loss: 0.1960 - accuracy: 0.9319\n"
          ]
        }
      ],
      "source": [
        "accr = model.evaluate(test_sequences_matrix,Y_test)"
      ]
    },
    {
      "cell_type": "code",
      "execution_count": 23,
      "metadata": {
        "colab": {
          "base_uri": "https://localhost:8080/"
        },
        "id": "LOwIyZAasKhk",
        "outputId": "131c1594-147d-4f10-abbe-d4453bb2ba32"
      },
      "outputs": [
        {
          "name": "stdout",
          "output_type": "stream",
          "text": [
            "Test set\n",
            "  Loss: 0.196\n",
            "  Accuracy: 0.932\n"
          ]
        }
      ],
      "source": [
        "print('Test set\\n  Loss: {:0.3f}\\n  Accuracy: {:0.3f}'.format(accr[0],accr[1]))"
      ]
    },
    {
      "cell_type": "code",
      "execution_count": 24,
      "metadata": {},
      "outputs": [
        {
          "name": "stdout",
          "output_type": "stream",
          "text": [
            "51/51 [==============================] - 0s 6ms/step\n"
          ]
        }
      ],
      "source": [
        "y_pred = model.predict(test_sequences_matrix)"
      ]
    },
    {
      "cell_type": "code",
      "execution_count": 25,
      "metadata": {},
      "outputs": [],
      "source": [
        "y_pred = [1 if x >= 0.5 else 0 for x in y_pred]"
      ]
    },
    {
      "cell_type": "code",
      "execution_count": 26,
      "metadata": {},
      "outputs": [
        {
          "name": "stdout",
          "output_type": "stream",
          "text": [
            "              precision    recall  f1-score   support\n",
            "\n",
            "           0   0.930318  0.933742  0.932027       815\n",
            "           1   0.933416  0.929975  0.931692       814\n",
            "\n",
            "    accuracy                       0.931860      1629\n",
            "   macro avg   0.931867  0.931859  0.931860      1629\n",
            "weighted avg   0.931866  0.931860  0.931860      1629\n",
            "\n"
          ]
        }
      ],
      "source": [
        "print(classification_report(Y_test, y_pred, digits=6))"
      ]
    }
  ],
  "metadata": {
    "colab": {
      "provenance": []
    },
    "kernelspec": {
      "display_name": "Python 3",
      "language": "python",
      "name": "python3"
    },
    "language_info": {
      "codemirror_mode": {
        "name": "ipython",
        "version": 3
      },
      "file_extension": ".py",
      "mimetype": "text/x-python",
      "name": "python",
      "nbconvert_exporter": "python",
      "pygments_lexer": "ipython3",
      "version": "3.10.4 (tags/v3.10.4:9d38120, Mar 23 2022, 23:13:41) [MSC v.1929 64 bit (AMD64)]"
    },
    "vscode": {
      "interpreter": {
        "hash": "4593b52a31704b5155580280f0f05a500adb36bf97584c7e94e26dfe17ea16d9"
      }
    }
  },
  "nbformat": 4,
  "nbformat_minor": 0
}
