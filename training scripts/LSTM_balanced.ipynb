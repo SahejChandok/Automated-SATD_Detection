{
  "cells": [
    {
      "cell_type": "code",
      "execution_count": 1,
      "metadata": {
        "id": "100qQ50jg3gm"
      },
      "outputs": [],
      "source": [
        "import pandas as pd\n",
        "import numpy as np\n",
        "import matplotlib.pyplot as plt\n",
        "import seaborn as sns\n",
        "from sklearn.model_selection import train_test_split\n",
        "from sklearn.preprocessing import LabelEncoder\n",
        "from keras.models import Model\n",
        "from keras.layers import LSTM, Activation, Dense, Dropout, Input, Embedding\n",
        "from keras.optimizers import RMSprop\n",
        "from keras.preprocessing.text import Tokenizer\n",
        "from keras.preprocessing import sequence\n",
        "from keras.utils import to_categorical\n",
        "from keras.callbacks import EarlyStopping\n",
        "import tensorflow as tf\n",
        "\n",
        "import tensorflow_addons as tfa\n",
        "from sklearn.metrics import classification_report\n",
        "from sklearn.metrics import confusion_matrix\n",
        "\n",
        "from keras.utils import pad_sequences"
      ]
    },
    {
      "cell_type": "code",
      "execution_count": 2,
      "metadata": {
        "id": "deniKMj_i2K7"
      },
      "outputs": [],
      "source": [
        "df=pd.read_csv('input9.csv')"
      ]
    },
    {
      "cell_type": "code",
      "execution_count": 3,
      "metadata": {
        "colab": {
          "base_uri": "https://localhost:8080/",
          "height": 206
        },
        "id": "Yx_TXEhUi71x",
        "outputId": "1ed747f9-3520-4c2e-e11d-fd31d83b653d"
      },
      "outputs": [
        {
          "data": {
            "text/html": [
              "<div>\n",
              "<style scoped>\n",
              "    .dataframe tbody tr th:only-of-type {\n",
              "        vertical-align: middle;\n",
              "    }\n",
              "\n",
              "    .dataframe tbody tr th {\n",
              "        vertical-align: top;\n",
              "    }\n",
              "\n",
              "    .dataframe thead th {\n",
              "        text-align: right;\n",
              "    }\n",
              "</style>\n",
              "<table border=\"1\" class=\"dataframe\">\n",
              "  <thead>\n",
              "    <tr style=\"text-align: right;\">\n",
              "      <th></th>\n",
              "      <th>comment</th>\n",
              "      <th>class</th>\n",
              "    </tr>\n",
              "  </thead>\n",
              "  <tbody>\n",
              "    <tr>\n",
              "      <th>0</th>\n",
              "      <td>FIXME formatters are not thread safe</td>\n",
              "      <td>DEFECT</td>\n",
              "    </tr>\n",
              "    <tr>\n",
              "      <th>1</th>\n",
              "      <td>XXX  Jon Skeet The comment \"if it hasn't bee...</td>\n",
              "      <td>DEFECT</td>\n",
              "    </tr>\n",
              "    <tr>\n",
              "      <th>2</th>\n",
              "      <td>I hate to admit it, but we don't know what h...</td>\n",
              "      <td>DEFECT</td>\n",
              "    </tr>\n",
              "    <tr>\n",
              "      <th>3</th>\n",
              "      <td>Just a note StarTeam has a status for NEW wh...</td>\n",
              "      <td>DEFECT</td>\n",
              "    </tr>\n",
              "    <tr>\n",
              "      <th>4</th>\n",
              "      <td>the generated classes must not be added in t...</td>\n",
              "      <td>DEFECT</td>\n",
              "    </tr>\n",
              "  </tbody>\n",
              "</table>\n",
              "</div>"
            ],
            "text/plain": [
              "                                             comment   class\n",
              "0               FIXME formatters are not thread safe  DEFECT\n",
              "1    XXX  Jon Skeet The comment \"if it hasn't bee...  DEFECT\n",
              "2    I hate to admit it, but we don't know what h...  DEFECT\n",
              "3    Just a note StarTeam has a status for NEW wh...  DEFECT\n",
              "4    the generated classes must not be added in t...  DEFECT"
            ]
          },
          "execution_count": 3,
          "metadata": {},
          "output_type": "execute_result"
        }
      ],
      "source": [
        "df.head()"
      ]
    },
    {
      "cell_type": "code",
      "execution_count": 4,
      "metadata": {
        "colab": {
          "base_uri": "https://localhost:8080/"
        },
        "id": "CXQ_hftEi-Db",
        "outputId": "7593243c-7ec5-4561-a87a-b1db15b1b1b0"
      },
      "outputs": [
        {
          "data": {
            "text/plain": [
              "WITHOUT_CLASSIFICATION    58204\n",
              "DESIGN                     2703\n",
              "IMPLEMENTATION              757\n",
              "DEFECT                      472\n",
              "TEST                         85\n",
              "DOCUMENTATION                54\n",
              "Name: class, dtype: int64"
            ]
          },
          "execution_count": 4,
          "metadata": {},
          "output_type": "execute_result"
        }
      ],
      "source": [
        "df['class'].value_counts()"
      ]
    },
    {
      "cell_type": "code",
      "execution_count": 5,
      "metadata": {
        "id": "OPdidZohjDlV"
      },
      "outputs": [],
      "source": [
        "df_satd = df[(df['class']=='DESIGN') | (df['class']== 'IMPLEMENTATION' ) | (df['class']== 'DEFECT') | (df['class']== 'TEST') | (df['class']== 'DOCUMENTATION') ]\n"
      ]
    },
    {
      "cell_type": "code",
      "execution_count": 6,
      "metadata": {
        "id": "nOqergIJjI2L"
      },
      "outputs": [],
      "source": [
        "df_nsatd = df[df['class']=='WITHOUT_CLASSIFICATION']"
      ]
    },
    {
      "cell_type": "code",
      "execution_count": 7,
      "metadata": {
        "id": "7DvoeG8XjLNl"
      },
      "outputs": [],
      "source": [
        "\n",
        "df_nsatd_downsampled = df_nsatd.sample(df_satd.shape[0])"
      ]
    },
    {
      "cell_type": "code",
      "execution_count": 8,
      "metadata": {
        "id": "BQBXuO69jNKA"
      },
      "outputs": [],
      "source": [
        "df_balanced = pd.concat([df_nsatd_downsampled, df_satd])"
      ]
    },
    {
      "cell_type": "code",
      "execution_count": 9,
      "metadata": {
        "colab": {
          "base_uri": "https://localhost:8080/"
        },
        "id": "jEj-c5P2jPF7",
        "outputId": "027af734-9dc6-458d-ae95-17270b104ed0"
      },
      "outputs": [
        {
          "data": {
            "text/plain": [
              "WITHOUT_CLASSIFICATION    4071\n",
              "DESIGN                    2703\n",
              "IMPLEMENTATION             757\n",
              "DEFECT                     472\n",
              "TEST                        85\n",
              "DOCUMENTATION               54\n",
              "Name: class, dtype: int64"
            ]
          },
          "execution_count": 9,
          "metadata": {},
          "output_type": "execute_result"
        }
      ],
      "source": [
        "df_balanced['class'].value_counts()"
      ]
    },
    {
      "cell_type": "code",
      "execution_count": 10,
      "metadata": {
        "id": "pHFkALFtjROK"
      },
      "outputs": [],
      "source": [
        "df_balanced['spam']=df_balanced['class'].apply(lambda x: 0 if x=='WITHOUT_CLASSIFICATION' else 1)"
      ]
    },
    {
      "cell_type": "code",
      "execution_count": 11,
      "metadata": {
        "colab": {
          "base_uri": "https://localhost:8080/"
        },
        "id": "m1ejQc4AjgC9",
        "outputId": "17901db1-3079-4586-e0b2-dc6af800d63e"
      },
      "outputs": [
        {
          "data": {
            "text/plain": [
              "0    4071\n",
              "1    4071\n",
              "Name: spam, dtype: int64"
            ]
          },
          "execution_count": 11,
          "metadata": {},
          "output_type": "execute_result"
        }
      ],
      "source": [
        "df_balanced['spam'].value_counts()"
      ]
    },
    {
      "cell_type": "code",
      "execution_count": 12,
      "metadata": {
        "colab": {
          "base_uri": "https://localhost:8080/",
          "height": 206
        },
        "id": "UZCR45GOjiQq",
        "outputId": "987466bd-710a-405a-c57d-fece6b1bc38c"
      },
      "outputs": [
        {
          "data": {
            "text/html": [
              "<div>\n",
              "<style scoped>\n",
              "    .dataframe tbody tr th:only-of-type {\n",
              "        vertical-align: middle;\n",
              "    }\n",
              "\n",
              "    .dataframe tbody tr th {\n",
              "        vertical-align: top;\n",
              "    }\n",
              "\n",
              "    .dataframe thead th {\n",
              "        text-align: right;\n",
              "    }\n",
              "</style>\n",
              "<table border=\"1\" class=\"dataframe\">\n",
              "  <thead>\n",
              "    <tr style=\"text-align: right;\">\n",
              "      <th></th>\n",
              "      <th>comment</th>\n",
              "      <th>class</th>\n",
              "      <th>spam</th>\n",
              "    </tr>\n",
              "  </thead>\n",
              "  <tbody>\n",
              "    <tr>\n",
              "      <th>9975</th>\n",
              "      <td>$NON NLS 1$</td>\n",
              "      <td>WITHOUT_CLASSIFICATION</td>\n",
              "      <td>0</td>\n",
              "    </tr>\n",
              "    <tr>\n",
              "      <th>50124</th>\n",
              "      <td>Remove all the series from the collection an...</td>\n",
              "      <td>WITHOUT_CLASSIFICATION</td>\n",
              "      <td>0</td>\n",
              "    </tr>\n",
              "    <tr>\n",
              "      <th>25432</th>\n",
              "      <td>Open the output file</td>\n",
              "      <td>WITHOUT_CLASSIFICATION</td>\n",
              "      <td>0</td>\n",
              "    </tr>\n",
              "    <tr>\n",
              "      <th>28810</th>\n",
              "      <td>Map to an eClass</td>\n",
              "      <td>WITHOUT_CLASSIFICATION</td>\n",
              "      <td>0</td>\n",
              "    </tr>\n",
              "    <tr>\n",
              "      <th>35722</th>\n",
              "      <td>@bgen jjtree ReturnStatement</td>\n",
              "      <td>WITHOUT_CLASSIFICATION</td>\n",
              "      <td>0</td>\n",
              "    </tr>\n",
              "  </tbody>\n",
              "</table>\n",
              "</div>"
            ],
            "text/plain": [
              "                                                 comment  \\\n",
              "9975                                         $NON NLS 1$   \n",
              "50124    Remove all the series from the collection an...   \n",
              "25432                               Open the output file   \n",
              "28810                                 Map to an eClass     \n",
              "35722                     @bgen jjtree ReturnStatement     \n",
              "\n",
              "                        class  spam  \n",
              "9975   WITHOUT_CLASSIFICATION     0  \n",
              "50124  WITHOUT_CLASSIFICATION     0  \n",
              "25432  WITHOUT_CLASSIFICATION     0  \n",
              "28810  WITHOUT_CLASSIFICATION     0  \n",
              "35722  WITHOUT_CLASSIFICATION     0  "
            ]
          },
          "execution_count": 12,
          "metadata": {},
          "output_type": "execute_result"
        }
      ],
      "source": [
        "df_balanced.head()"
      ]
    },
    {
      "cell_type": "code",
      "execution_count": 13,
      "metadata": {
        "id": "yyhIkZdjjtjk"
      },
      "outputs": [],
      "source": [
        "X = df_balanced['comment']\n",
        "Y = df_balanced['spam']\n",
        "le = LabelEncoder()\n",
        "Y = le.fit_transform(Y)\n",
        "Y = Y.reshape(-1,1)"
      ]
    },
    {
      "cell_type": "code",
      "execution_count": 14,
      "metadata": {
        "id": "uvDmONGxpMq6"
      },
      "outputs": [],
      "source": [
        "X_train,X_test,Y_train,Y_test = train_test_split(X,Y,test_size=0.20, stratify = Y, random_state=42)"
      ]
    },
    {
      "cell_type": "code",
      "execution_count": 15,
      "metadata": {
        "id": "d-eb-847pNil"
      },
      "outputs": [],
      "source": [
        "max_words = 10000\n",
        "max_len = 250\n",
        "tok = Tokenizer(num_words=max_words)\n",
        "tok.fit_on_texts(X_train)\n",
        "sequences = tok.texts_to_sequences(X_train)\n",
        "sequences_matrix = pad_sequences(sequences,maxlen=max_len)\n",
        "\n",
        "test_sequences = tok.texts_to_sequences(X_test)\n",
        "test_sequences_matrix = pad_sequences(test_sequences,maxlen=max_len)"
      ]
    },
    {
      "cell_type": "code",
      "execution_count": 16,
      "metadata": {
        "id": "1JeBj-rLqGyd"
      },
      "outputs": [],
      "source": [
        "def RNN():\n",
        "    inputs = Input(name='inputs',shape=[max_len])\n",
        "    layer = Embedding(max_words,50,input_length=max_len)(inputs)\n",
        "    layer = LSTM(128)(layer)\n",
        "    layer = Dense(256,name='FC1')(layer)\n",
        "    layer = Activation('relu')(layer)\n",
        "    layer = Dropout(0.5)(layer)\n",
        "    layer = Dense(1,name='out_layer')(layer)\n",
        "    layer = Activation('sigmoid')(layer)\n",
        "    model = Model(inputs=inputs,outputs=layer)\n",
        "    return model"
      ]
    },
    {
      "cell_type": "code",
      "execution_count": 30,
      "metadata": {
        "colab": {
          "base_uri": "https://localhost:8080/"
        },
        "id": "wGN-X_VJqR6d",
        "outputId": "5c4a7466-789f-47eb-d636-05a049efc0e3"
      },
      "outputs": [
        {
          "name": "stdout",
          "output_type": "stream",
          "text": [
            "Model: \"model_3\"\n",
            "_________________________________________________________________\n",
            " Layer (type)                Output Shape              Param #   \n",
            "=================================================================\n",
            " inputs (InputLayer)         [(None, 250)]             0         \n",
            "                                                                 \n",
            " embedding_3 (Embedding)     (None, 250, 50)           500000    \n",
            "                                                                 \n",
            " lstm_3 (LSTM)               (None, 128)               91648     \n",
            "                                                                 \n",
            " FC1 (Dense)                 (None, 256)               33024     \n",
            "                                                                 \n",
            " activation_6 (Activation)   (None, 256)               0         \n",
            "                                                                 \n",
            " dropout_3 (Dropout)         (None, 256)               0         \n",
            "                                                                 \n",
            " out_layer (Dense)           (None, 1)                 257       \n",
            "                                                                 \n",
            " activation_7 (Activation)   (None, 1)                 0         \n",
            "                                                                 \n",
            "=================================================================\n",
            "Total params: 624,929\n",
            "Trainable params: 624,929\n",
            "Non-trainable params: 0\n",
            "_________________________________________________________________\n"
          ]
        }
      ],
      "source": [
        "model = RNN()\n",
        "model.summary()\n",
        "opt = tfa.optimizers.AdaBelief(learning_rate=5e-3)\n",
        "model.compile(loss='binary_crossentropy',optimizer=opt,metrics=['accuracy'])"
      ]
    },
    {
      "cell_type": "code",
      "execution_count": 31,
      "metadata": {
        "colab": {
          "base_uri": "https://localhost:8080/"
        },
        "id": "e2DKhNZoqYJM",
        "outputId": "38044ab8-4a91-4202-b6b7-ed74fdf837bc"
      },
      "outputs": [
        {
          "name": "stdout",
          "output_type": "stream",
          "text": [
            "Epoch 1/50\n",
            "39/39 [==============================] - 4s 48ms/step - loss: 0.6579 - accuracy: 0.6026 - val_loss: 0.5445 - val_accuracy: 0.7274 - lr: 0.0050\n",
            "Epoch 2/50\n",
            "39/39 [==============================] - 2s 40ms/step - loss: 0.4034 - accuracy: 0.8131 - val_loss: 0.2251 - val_accuracy: 0.9177 - lr: 0.0050\n",
            "Epoch 3/50\n",
            "39/39 [==============================] - 2s 40ms/step - loss: 0.2042 - accuracy: 0.9292 - val_loss: 0.1972 - val_accuracy: 0.9257 - lr: 0.0050\n",
            "Epoch 4/50\n",
            "39/39 [==============================] - 2s 41ms/step - loss: 0.1404 - accuracy: 0.9529 - val_loss: 0.1784 - val_accuracy: 0.9355 - lr: 0.0050\n",
            "Epoch 5/50\n",
            "39/39 [==============================] - 1s 39ms/step - loss: 0.1066 - accuracy: 0.9652 - val_loss: 0.1877 - val_accuracy: 0.9355 - lr: 0.0050\n",
            "Epoch 6/50\n",
            "39/39 [==============================] - 1s 38ms/step - loss: 0.0876 - accuracy: 0.9732 - val_loss: 0.1918 - val_accuracy: 0.9257 - lr: 0.0050\n",
            "Epoch 7/50\n",
            "39/39 [==============================] - 1s 37ms/step - loss: 0.0815 - accuracy: 0.9767 - val_loss: 0.1924 - val_accuracy: 0.9337 - lr: 0.0050\n",
            "Epoch 8/50\n",
            "39/39 [==============================] - 1s 38ms/step - loss: 0.0704 - accuracy: 0.9795 - val_loss: 0.2164 - val_accuracy: 0.9392 - lr: 0.0050\n",
            "Epoch 9/50\n",
            "39/39 [==============================] - 1s 36ms/step - loss: 0.0631 - accuracy: 0.9801 - val_loss: 0.2307 - val_accuracy: 0.9294 - lr: 0.0050\n",
            "Epoch 10/50\n",
            "39/39 [==============================] - 1s 36ms/step - loss: 0.0550 - accuracy: 0.9859 - val_loss: 0.2281 - val_accuracy: 0.9337 - lr: 0.0025\n",
            "Epoch 11/50\n",
            "39/39 [==============================] - 2s 39ms/step - loss: 0.0445 - accuracy: 0.9900 - val_loss: 0.2361 - val_accuracy: 0.9306 - lr: 0.0025\n",
            "Epoch 12/50\n",
            "39/39 [==============================] - 2s 39ms/step - loss: 0.0386 - accuracy: 0.9900 - val_loss: 0.2470 - val_accuracy: 0.9312 - lr: 0.0025\n",
            "Epoch 13/50\n",
            "39/39 [==============================] - 2s 39ms/step - loss: 0.0383 - accuracy: 0.9891 - val_loss: 0.2666 - val_accuracy: 0.9331 - lr: 0.0025\n",
            "Epoch 14/50\n",
            "39/39 [==============================] - 1s 39ms/step - loss: 0.0280 - accuracy: 0.9924 - val_loss: 0.2771 - val_accuracy: 0.9325 - lr: 0.0025\n",
            "Epoch 15/50\n",
            "39/39 [==============================] - 1s 38ms/step - loss: 0.0289 - accuracy: 0.9937 - val_loss: 0.3100 - val_accuracy: 0.9288 - lr: 0.0012\n",
            "Epoch 16/50\n",
            "39/39 [==============================] - 1s 36ms/step - loss: 0.0305 - accuracy: 0.9908 - val_loss: 0.2944 - val_accuracy: 0.9202 - lr: 0.0012\n",
            "Epoch 17/50\n",
            "39/39 [==============================] - 1s 38ms/step - loss: 0.0228 - accuracy: 0.9932 - val_loss: 0.2988 - val_accuracy: 0.9337 - lr: 0.0012\n",
            "Epoch 18/50\n",
            "39/39 [==============================] - 1s 38ms/step - loss: 0.0182 - accuracy: 0.9943 - val_loss: 0.3197 - val_accuracy: 0.9319 - lr: 0.0012\n",
            "Epoch 19/50\n",
            "39/39 [==============================] - 1s 37ms/step - loss: 0.0149 - accuracy: 0.9951 - val_loss: 0.3408 - val_accuracy: 0.9276 - lr: 0.0012\n",
            "Epoch 20/50\n",
            "39/39 [==============================] - 1s 37ms/step - loss: 0.0140 - accuracy: 0.9955 - val_loss: 0.3472 - val_accuracy: 0.9288 - lr: 6.2500e-04\n",
            "Epoch 21/50\n",
            "39/39 [==============================] - 2s 40ms/step - loss: 0.0163 - accuracy: 0.9963 - val_loss: 0.3494 - val_accuracy: 0.9300 - lr: 6.2500e-04\n",
            "Epoch 22/50\n",
            "39/39 [==============================] - 1s 38ms/step - loss: 0.0126 - accuracy: 0.9967 - val_loss: 0.3531 - val_accuracy: 0.9343 - lr: 6.2500e-04\n",
            "Epoch 23/50\n",
            "39/39 [==============================] - 1s 38ms/step - loss: 0.0122 - accuracy: 0.9973 - val_loss: 0.3661 - val_accuracy: 0.9288 - lr: 6.2500e-04\n",
            "Epoch 24/50\n",
            "39/39 [==============================] - 2s 39ms/step - loss: 0.0096 - accuracy: 0.9977 - val_loss: 0.3812 - val_accuracy: 0.9331 - lr: 6.2500e-04\n",
            "Epoch 25/50\n",
            "39/39 [==============================] - 1s 37ms/step - loss: 0.0093 - accuracy: 0.9973 - val_loss: 0.3924 - val_accuracy: 0.9294 - lr: 3.1250e-04\n",
            "Epoch 26/50\n",
            "39/39 [==============================] - 1s 38ms/step - loss: 0.0081 - accuracy: 0.9977 - val_loss: 0.3948 - val_accuracy: 0.9312 - lr: 3.1250e-04\n",
            "Epoch 27/50\n",
            "39/39 [==============================] - 1s 38ms/step - loss: 0.0081 - accuracy: 0.9975 - val_loss: 0.4023 - val_accuracy: 0.9294 - lr: 3.1250e-04\n",
            "Epoch 28/50\n",
            "39/39 [==============================] - 2s 39ms/step - loss: 0.0082 - accuracy: 0.9975 - val_loss: 0.4106 - val_accuracy: 0.9282 - lr: 3.1250e-04\n",
            "Epoch 29/50\n",
            "39/39 [==============================] - 2s 41ms/step - loss: 0.0079 - accuracy: 0.9977 - val_loss: 0.4196 - val_accuracy: 0.9276 - lr: 3.1250e-04\n",
            "Epoch 30/50\n",
            "39/39 [==============================] - 2s 39ms/step - loss: 0.0074 - accuracy: 0.9982 - val_loss: 0.4212 - val_accuracy: 0.9294 - lr: 1.5625e-04\n",
            "Epoch 31/50\n",
            "39/39 [==============================] - 2s 40ms/step - loss: 0.0067 - accuracy: 0.9982 - val_loss: 0.4263 - val_accuracy: 0.9282 - lr: 1.5625e-04\n",
            "Epoch 32/50\n",
            "39/39 [==============================] - 2s 40ms/step - loss: 0.0072 - accuracy: 0.9984 - val_loss: 0.4322 - val_accuracy: 0.9269 - lr: 1.5625e-04\n",
            "Epoch 33/50\n",
            "39/39 [==============================] - 1s 38ms/step - loss: 0.0065 - accuracy: 0.9982 - val_loss: 0.4369 - val_accuracy: 0.9276 - lr: 1.5625e-04\n",
            "Epoch 34/50\n",
            "39/39 [==============================] - 1s 38ms/step - loss: 0.0061 - accuracy: 0.9984 - val_loss: 0.4423 - val_accuracy: 0.9282 - lr: 1.5625e-04\n",
            "Epoch 35/50\n",
            "39/39 [==============================] - 2s 39ms/step - loss: 0.0058 - accuracy: 0.9984 - val_loss: 0.4461 - val_accuracy: 0.9269 - lr: 7.8125e-05\n",
            "Epoch 36/50\n",
            "39/39 [==============================] - 2s 39ms/step - loss: 0.0060 - accuracy: 0.9982 - val_loss: 0.4481 - val_accuracy: 0.9294 - lr: 7.8125e-05\n",
            "Epoch 37/50\n",
            "39/39 [==============================] - 1s 37ms/step - loss: 0.0060 - accuracy: 0.9980 - val_loss: 0.4498 - val_accuracy: 0.9288 - lr: 7.8125e-05\n",
            "Epoch 38/50\n",
            "39/39 [==============================] - 1s 38ms/step - loss: 0.0061 - accuracy: 0.9986 - val_loss: 0.4527 - val_accuracy: 0.9288 - lr: 7.8125e-05\n",
            "Epoch 39/50\n",
            "39/39 [==============================] - 1s 38ms/step - loss: 0.0062 - accuracy: 0.9984 - val_loss: 0.4519 - val_accuracy: 0.9294 - lr: 7.8125e-05\n",
            "Epoch 40/50\n",
            "39/39 [==============================] - 1s 37ms/step - loss: 0.0060 - accuracy: 0.9980 - val_loss: 0.4547 - val_accuracy: 0.9294 - lr: 3.9062e-05\n",
            "Epoch 41/50\n",
            "39/39 [==============================] - 1s 36ms/step - loss: 0.0053 - accuracy: 0.9984 - val_loss: 0.4568 - val_accuracy: 0.9288 - lr: 3.9062e-05\n",
            "Epoch 42/50\n",
            "39/39 [==============================] - 1s 38ms/step - loss: 0.0057 - accuracy: 0.9984 - val_loss: 0.4584 - val_accuracy: 0.9263 - lr: 3.9062e-05\n",
            "Epoch 43/50\n",
            "39/39 [==============================] - 1s 36ms/step - loss: 0.0062 - accuracy: 0.9984 - val_loss: 0.4596 - val_accuracy: 0.9263 - lr: 3.9062e-05\n",
            "Epoch 44/50\n",
            "39/39 [==============================] - 1s 37ms/step - loss: 0.0055 - accuracy: 0.9984 - val_loss: 0.4597 - val_accuracy: 0.9282 - lr: 3.9062e-05\n",
            "Epoch 45/50\n",
            "39/39 [==============================] - 2s 40ms/step - loss: 0.0054 - accuracy: 0.9984 - val_loss: 0.4611 - val_accuracy: 0.9276 - lr: 1.9531e-05\n",
            "Epoch 46/50\n",
            "39/39 [==============================] - 2s 41ms/step - loss: 0.0053 - accuracy: 0.9986 - val_loss: 0.4626 - val_accuracy: 0.9276 - lr: 1.9531e-05\n",
            "Epoch 47/50\n",
            "39/39 [==============================] - 1s 38ms/step - loss: 0.0056 - accuracy: 0.9982 - val_loss: 0.4628 - val_accuracy: 0.9276 - lr: 1.9531e-05\n",
            "Epoch 48/50\n",
            "39/39 [==============================] - 2s 41ms/step - loss: 0.0054 - accuracy: 0.9984 - val_loss: 0.4648 - val_accuracy: 0.9288 - lr: 1.9531e-05\n",
            "Epoch 49/50\n",
            "39/39 [==============================] - 2s 39ms/step - loss: 0.0054 - accuracy: 0.9982 - val_loss: 0.4657 - val_accuracy: 0.9276 - lr: 1.9531e-05\n",
            "Epoch 50/50\n",
            "39/39 [==============================] - 1s 38ms/step - loss: 0.0055 - accuracy: 0.9986 - val_loss: 0.4658 - val_accuracy: 0.9276 - lr: 9.7656e-06\n"
          ]
        },
        {
          "data": {
            "text/plain": [
              "<tensorflow.python.checkpoint.checkpoint.CheckpointLoadStatus at 0x2e254553010>"
            ]
          },
          "execution_count": 31,
          "metadata": {},
          "output_type": "execute_result"
        }
      ],
      "source": [
        "#model.fit(sequences_matrix,Y_train,batch_size=128,epochs=10,validation_split=0.2,callbacks=[EarlyStopping(monitor='val_loss',min_delta=0.0001)])\n",
        "checkpoint_filepath = './checkpoint'\n",
        "model_checkpoint_callback = tf.keras.callbacks.ModelCheckpoint(\n",
        "                filepath=checkpoint_filepath,\n",
        "                save_weights_only=True,\n",
        "                monitor='val_loss',\n",
        "                mode='min',\n",
        "                save_best_only=True\n",
        ")\n",
        "\n",
        "reduce_lr = tf.keras.callbacks.ReduceLROnPlateau(monitor='val_loss', factor=0.5,\n",
        "                              patience=5, min_lr=0.000001)\n",
        "\n",
        "model.fit(sequences_matrix,Y_train,batch_size=128,epochs=50,validation_split=0.25, callbacks=[model_checkpoint_callback,reduce_lr])\n",
        "\n",
        "model.load_weights(checkpoint_filepath)"
      ]
    },
    {
      "cell_type": "code",
      "execution_count": 32,
      "metadata": {},
      "outputs": [],
      "source": [
        "model.save(\"LSTM_balanced.h5\")"
      ]
    },
    {
      "cell_type": "code",
      "execution_count": 33,
      "metadata": {
        "colab": {
          "base_uri": "https://localhost:8080/"
        },
        "id": "oJ_091N4rPK8",
        "outputId": "a5e2c54c-3efd-48e7-e0f0-8d8f3bf7b3d2"
      },
      "outputs": [
        {
          "name": "stdout",
          "output_type": "stream",
          "text": [
            "51/51 [==============================] - 1s 14ms/step - loss: 0.2069 - accuracy: 0.9288\n"
          ]
        }
      ],
      "source": [
        "accr = model.evaluate(test_sequences_matrix,Y_test)"
      ]
    },
    {
      "cell_type": "code",
      "execution_count": 34,
      "metadata": {
        "colab": {
          "base_uri": "https://localhost:8080/"
        },
        "id": "LOwIyZAasKhk",
        "outputId": "131c1594-147d-4f10-abbe-d4453bb2ba32"
      },
      "outputs": [
        {
          "name": "stdout",
          "output_type": "stream",
          "text": [
            "Test set\n",
            "  Loss: 0.207\n",
            "  Accuracy: 0.929\n"
          ]
        }
      ],
      "source": [
        "print('Test set\\n  Loss: {:0.3f}\\n  Accuracy: {:0.3f}'.format(accr[0],accr[1]))"
      ]
    },
    {
      "cell_type": "code",
      "execution_count": 35,
      "metadata": {},
      "outputs": [
        {
          "name": "stdout",
          "output_type": "stream",
          "text": [
            "51/51 [==============================] - 1s 13ms/step\n",
            "[[0.9894442 ]\n",
            " [0.98014796]\n",
            " [0.00666841]\n",
            " ...\n",
            " [0.9901635 ]\n",
            " [0.0073009 ]\n",
            " [0.99572647]]\n"
          ]
        }
      ],
      "source": [
        "y_pred = model.predict(test_sequences_matrix)\n",
        "print(y_pred)"
      ]
    },
    {
      "cell_type": "code",
      "execution_count": 36,
      "metadata": {},
      "outputs": [],
      "source": [
        "y_pred = [1 if x >= 0.5 else 0 for x in y_pred]"
      ]
    },
    {
      "cell_type": "code",
      "execution_count": 37,
      "metadata": {
        "id": "mvahW79r8iOP"
      },
      "outputs": [
        {
          "name": "stdout",
          "output_type": "stream",
          "text": [
            "              precision    recall  f1-score   support\n",
            "\n",
            "           0   0.922612  0.936196  0.929354       815\n",
            "           1   0.935162  0.921376  0.928218       814\n",
            "\n",
            "    accuracy                       0.928791      1629\n",
            "   macro avg   0.928887  0.928786  0.928786      1629\n",
            "weighted avg   0.928883  0.928791  0.928786      1629\n",
            "\n"
          ]
        }
      ],
      "source": [
        "print(classification_report(Y_test, y_pred, digits=6))"
      ]
    }
  ],
  "metadata": {
    "colab": {
      "provenance": []
    },
    "kernelspec": {
      "display_name": "Python 3",
      "language": "python",
      "name": "python3"
    },
    "language_info": {
      "codemirror_mode": {
        "name": "ipython",
        "version": 3
      },
      "file_extension": ".py",
      "mimetype": "text/x-python",
      "name": "python",
      "nbconvert_exporter": "python",
      "pygments_lexer": "ipython3",
      "version": "3.10.4"
    },
    "vscode": {
      "interpreter": {
        "hash": "4593b52a31704b5155580280f0f05a500adb36bf97584c7e94e26dfe17ea16d9"
      }
    }
  },
  "nbformat": 4,
  "nbformat_minor": 0
}
